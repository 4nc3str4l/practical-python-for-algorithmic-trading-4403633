{
 "cells": [
  {
   "cell_type": "markdown",
   "id": "6f17a5e2-b9cf-4c06-8952-27ac656d77e0",
   "metadata": {},
   "source": [
    "# Which is the best API?"
   ]
  },
  {
   "cell_type": "code",
   "execution_count": null,
   "id": "caa7acb3-0b30-4959-b8d1-c125ab9e34d9",
   "metadata": {},
   "outputs": [],
   "source": []
  }
 ],
 "metadata": {
  "kernelspec": {
   "display_name": "Python 3 (ipykernel)",
   "language": "python",
   "name": "python3"
  },
  "language_info": {
   "codemirror_mode": {
    "name": "ipython",
    "version": 3
   },
   "file_extension": ".py",
   "mimetype": "text/x-python",
   "name": "python",
   "nbconvert_exporter": "python",
   "pygments_lexer": "ipython3",
   "version": "3.10.6"
  }
 },
 "nbformat": 4,
 "nbformat_minor": 5
}
