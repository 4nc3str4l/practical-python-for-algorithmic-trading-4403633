{
 "cells": [
  {
   "cell_type": "markdown",
   "id": "0e80f146-d0bc-425e-b83c-3579ab3fd0a8",
   "metadata": {},
   "source": [
    "https://kernc.github.io/backtesting.py/doc/examples/Trading%20with%20Machine%20Learning.html"
   ]
  },
  {
   "cell_type": "code",
   "execution_count": null,
   "id": "3e93e440-3be5-4581-94c9-b084892e001d",
   "metadata": {},
   "outputs": [],
   "source": [
    "%%time\n",
    "\n",
    "class MLWalkForwardStrategy(MLTrainOnceStrategy):\n",
    "    def next(self):\n",
    "        # Skip the cold start period with too few values available\n",
    "        if len(self.data) < N_TRAIN:\n",
    "            return\n",
    "\n",
    "        # Re-train the model only every 20 iterations.\n",
    "        # Since 20 << N_TRAIN, we don't lose much in terms of\n",
    "        # \"recent training examples\", but the speed-up is significant!\n",
    "        if len(self.data) % 20:\n",
    "            return super().next()\n",
    "\n",
    "        # Retrain on last N_TRAIN values\n",
    "        df = self.data.df[-N_TRAIN:]\n",
    "        X, y = get_clean_Xy(df)\n",
    "        self.clf.fit(X, y)\n",
    "\n",
    "        # Now that the model is fitted, \n",
    "        # proceed the same as in MLTrainOnceStrategy\n",
    "        super().next()\n",
    "\n",
    "\n",
    "bt = Backtest(data, MLWalkForwardStrategy, commission=.0002, margin=.05)\n",
    "bt.run()"
   ]
  }
 ],
 "metadata": {
  "kernelspec": {
   "display_name": "Python 3 (ipykernel)",
   "language": "python",
   "name": "python3"
  },
  "language_info": {
   "codemirror_mode": {
    "name": "ipython",
    "version": 3
   },
   "file_extension": ".py",
   "mimetype": "text/x-python",
   "name": "python",
   "nbconvert_exporter": "python",
   "pygments_lexer": "ipython3",
   "version": "3.10.6"
  }
 },
 "nbformat": 4,
 "nbformat_minor": 5
}
