{
 "cells": [
  {
   "cell_type": "markdown",
   "id": "eefba2db-9f60-42d8-a4f0-1e3c95efbcc1",
   "metadata": {},
   "source": [
    "# Walk Forward: A Realistic Approach to Backtesting"
   ]
  },
  {
   "cell_type": "code",
   "execution_count": 14,
   "id": "c6f5d042",
   "metadata": {},
   "outputs": [],
   "source": [
    "import multiprocessing as mp\n",
    "mp.set_start_method('fork')"
   ]
  },
  {
   "cell_type": "markdown",
   "id": "bbaab23b-8ecd-4dd7-b234-bca3866046a6",
   "metadata": {},
   "source": [
    "## Load the data"
   ]
  },
  {
   "cell_type": "code",
   "execution_count": 15,
   "id": "ab861230-5583-46dd-afb6-ba432e1cb765",
   "metadata": {},
   "outputs": [],
   "source": [
    "import pandas as pd\n",
    "\n",
    "df = pd.read_excel('data/Microsoft_LinkedIn_Processed.xlsx', parse_dates=['Date'], index_col=0)\n",
    "df = df.drop(columns='change_tomorrow_direction')"
   ]
  },
  {
   "cell_type": "markdown",
   "id": "4f6801d5-bb0e-4fd9-8f42-3795ca1ef2cd",
   "metadata": {},
   "source": [
    "## Machine Learning Model"
   ]
  },
  {
   "cell_type": "markdown",
   "id": "a13ab157-8433-4579-8fef-e89e2d4dceac",
   "metadata": {},
   "source": [
    "### Separate the data\n",
    "\n",
    "1. Target: which variable do you want to predict?\n",
    "2. Explanatory: which variables will you use to calculate the prediction?"
   ]
  },
  {
   "cell_type": "code",
   "execution_count": 16,
   "id": "ef3796a9-334d-48b2-b516-0c1e9122dbbc",
   "metadata": {},
   "outputs": [],
   "source": [
    "y = df.change_tomorrow\n",
    "X = df[['Open','High','Low','Close','Volume']]"
   ]
  },
  {
   "cell_type": "code",
   "execution_count": 31,
   "id": "440793f7",
   "metadata": {},
   "outputs": [],
   "source": [
    "from sklearn.model_selection import TimeSeriesSplit\n",
    "from sklearn.metrics import mean_squared_error"
   ]
  },
  {
   "cell_type": "code",
   "execution_count": null,
   "id": "e72c6245",
   "metadata": {},
   "outputs": [],
   "source": [
    "from sklearn.tree import DecisionTreeRegressor\n",
    "from sklearn.ensemble import RandomForestRegressor\n",
    "from sklearn.ensemble import GradientBoostingRegressor"
   ]
  },
  {
   "cell_type": "code",
   "execution_count": 41,
   "id": "e42c7bb8",
   "metadata": {},
   "outputs": [],
   "source": [
    "model_dt = DecisionTreeRegressor(max_depth=15, random_state=42)\n",
    "model_rf = RandomForestRegressor(max_depth=15, random_state=42)\n",
    "model_gb = GradientBoostingRegressor(max_depth=15, random_state=42)"
   ]
  },
  {
   "cell_type": "code",
   "execution_count": 42,
   "id": "532a8d86",
   "metadata": {},
   "outputs": [],
   "source": [
    "ts = TimeSeriesSplit(max_train_size=600, test_size=200)\n",
    "\n",
    "list_model_evaluation = []\n",
    "\n",
    "for model_dt in [model_dt, model_rf, model_gb]:\n",
    "\n",
    "    list_errors = []\n",
    "\n",
    "    for index_train, index_test in ts.split(df):\n",
    "        X_train, y_train = X.iloc[index_train], y.iloc[index_train]\n",
    "        X_test, y_test = X.iloc[index_test], y.iloc[index_test]\n",
    "        \n",
    "        model_dt.fit(X_train, y_train)\n",
    "        y_pred = model_dt.predict(X_test)\n",
    "        error = mean_squared_error(y_test, y_pred)\n",
    "\n",
    "        list_errors.append(error)\n",
    "        \n",
    "    model_name = model_dt.__class__.__name__\n",
    "\n",
    "    dic_evaluation = {'model': model_name, 'error': list_errors}\n",
    "    df_evaluation = pd.DataFrame(dic_evaluation)\n",
    "\n",
    "    list_model_evaluation.append(df_evaluation)\n"
   ]
  },
  {
   "cell_type": "code",
   "execution_count": 48,
   "id": "19761dea",
   "metadata": {},
   "outputs": [
    {
     "data": {
      "text/html": [
       "<div>\n",
       "<style scoped>\n",
       "    .dataframe tbody tr th:only-of-type {\n",
       "        vertical-align: middle;\n",
       "    }\n",
       "\n",
       "    .dataframe tbody tr th {\n",
       "        vertical-align: top;\n",
       "    }\n",
       "\n",
       "    .dataframe thead th {\n",
       "        text-align: right;\n",
       "    }\n",
       "</style>\n",
       "<table border=\"1\" class=\"dataframe\">\n",
       "  <thead>\n",
       "    <tr style=\"text-align: right;\">\n",
       "      <th>model</th>\n",
       "      <th>DecisionTreeRegressor</th>\n",
       "      <th>GradientBoostingRegressor</th>\n",
       "      <th>RandomForestRegressor</th>\n",
       "    </tr>\n",
       "  </thead>\n",
       "  <tbody>\n",
       "    <tr>\n",
       "      <th>0</th>\n",
       "      <td>9.377285</td>\n",
       "      <td>8.862129</td>\n",
       "      <td>3.183943</td>\n",
       "    </tr>\n",
       "    <tr>\n",
       "      <th>1</th>\n",
       "      <td>11.933343</td>\n",
       "      <td>11.226811</td>\n",
       "      <td>9.690221</td>\n",
       "    </tr>\n",
       "    <tr>\n",
       "      <th>2</th>\n",
       "      <td>33.695783</td>\n",
       "      <td>29.572435</td>\n",
       "      <td>12.946489</td>\n",
       "    </tr>\n",
       "    <tr>\n",
       "      <th>3</th>\n",
       "      <td>4.759243</td>\n",
       "      <td>4.411631</td>\n",
       "      <td>3.772971</td>\n",
       "    </tr>\n",
       "    <tr>\n",
       "      <th>4</th>\n",
       "      <td>4.713438</td>\n",
       "      <td>5.194259</td>\n",
       "      <td>4.781834</td>\n",
       "    </tr>\n",
       "  </tbody>\n",
       "</table>\n",
       "</div>"
      ],
      "text/plain": [
       "model  DecisionTreeRegressor  GradientBoostingRegressor  RandomForestRegressor\n",
       "0                   9.377285                   8.862129               3.183943\n",
       "1                  11.933343                  11.226811               9.690221\n",
       "2                  33.695783                  29.572435              12.946489\n",
       "3                   4.759243                   4.411631               3.772971\n",
       "4                   4.713438                   5.194259               4.781834"
      ]
     },
     "execution_count": 48,
     "metadata": {},
     "output_type": "execute_result"
    }
   ],
   "source": [
    "df_evaluation = pd.concat(list_model_evaluation)\n",
    "df_evaluation = df_evaluation.pivot(columns='model', values='error')\n",
    "df_evaluation"
   ]
  },
  {
   "cell_type": "code",
   "execution_count": 50,
   "id": "65dbb12c",
   "metadata": {},
   "outputs": [
    {
     "data": {
      "text/plain": [
       "model\n",
       "DecisionTreeRegressor        12.895818\n",
       "GradientBoostingRegressor    11.853453\n",
       "RandomForestRegressor         6.875092\n",
       "dtype: float64"
      ]
     },
     "execution_count": 50,
     "metadata": {},
     "output_type": "execute_result"
    }
   ],
   "source": [
    "df_evaluation.mean()"
   ]
  },
  {
   "cell_type": "code",
   "execution_count": 17,
   "id": "43494e70",
   "metadata": {},
   "outputs": [],
   "source": [
    "from backtesting import Strategy"
   ]
  },
  {
   "cell_type": "code",
   "execution_count": 52,
   "id": "be4c0515",
   "metadata": {},
   "outputs": [],
   "source": [
    "class Regression(Strategy):\n",
    "    model = RandomForestRegressor(max_depth=15, random_state=42)\n",
    "\n",
    "    limit_buy = 1\n",
    "    limit_sell = -5\n",
    "\n",
    "    N_TRAIN = 600\n",
    "\n",
    "    def init(self):\n",
    "        self.already_bought = False\n",
    "        \n",
    "        X_train = self.data.df.iloc[:self.N_TRAIN, :-1]\n",
    "        y_train = self.data.df.iloc[:self.N_TRAIN, -1]\n",
    "\n",
    "        self.model.fit(X_train, y_train)\n",
    "\n",
    "    def next(self):\n",
    "        explanatory_today = self.data.df.iloc[[-1], :-1]\n",
    "        forecast_tomorrow = self.model.predict(explanatory_today)[0]\n",
    "        \n",
    "        # conditions to sell or buy\n",
    "        if forecast_tomorrow > self.limit_buy and self.already_bought == False:\n",
    "            self.buy()\n",
    "            self.already_bought = True\n",
    "        elif forecast_tomorrow < self.limit_sell and self.already_bought == True:\n",
    "            self.sell()\n",
    "            self.already_bought = False\n",
    "        else:\n",
    "            pass"
   ]
  },
  {
   "cell_type": "code",
   "execution_count": 53,
   "id": "e9ef7039",
   "metadata": {},
   "outputs": [],
   "source": [
    "class WalkForward(Regression):\n",
    "    def next(self):\n",
    "\n",
    "        if len(self.data) < self.N_TRAIN:\n",
    "            return # we don't take any action and move on to the following day\n",
    "        \n",
    "        if len(self.data) % 200 != 0:\n",
    "            return super().next()\n",
    "        \n",
    "        X_train = self.data.df.iloc[-self.N_TRAIN:, :-1]\n",
    "        y_train = self.data.df.iloc[-self.N_TRAIN:, -1]\n",
    "\n",
    "        self.model.fit(X_train, y_train)\n",
    "\n",
    "        super().next()"
   ]
  },
  {
   "cell_type": "code",
   "execution_count": 54,
   "id": "9d3bb308",
   "metadata": {},
   "outputs": [],
   "source": [
    "from backtesting import Backtest\n",
    "bt = Backtest(df, WalkForward, cash=10000, commission=.002, exclusive_orders=True)"
   ]
  },
  {
   "cell_type": "code",
   "execution_count": 57,
   "id": "442cf8a2",
   "metadata": {},
   "outputs": [
    {
     "name": "stdout",
     "output_type": "stream",
     "text": [
      "CPU times: user 2min 44s, sys: 578 ms, total: 2min 44s\n",
      "Wall time: 2min 45s\n"
     ]
    }
   ],
   "source": [
    "%%time\n",
    "\n",
    "stats_skopt, heatmap, optimize_result = bt.optimize(\n",
    "    N_TRAIN = range(200, 1000, 200),\n",
    "    # model = [model_rf],\n",
    "    limit_buy = range(0, 5), limit_sell = range(-5, 0),\n",
    "    maximize='Return [%]',\n",
    "    max_tries=500,\n",
    "    random_state=0,\n",
    "    return_heatmap=True,\n",
    "    return_optimization=True,\n",
    "    method='skopt'\n",
    "    )"
   ]
  },
  {
   "cell_type": "code",
   "execution_count": 60,
   "id": "09f00c56",
   "metadata": {},
   "outputs": [],
   "source": [
    "dff = heatmap.reset_index()"
   ]
  },
  {
   "cell_type": "code",
   "execution_count": 61,
   "id": "2ff8b1df",
   "metadata": {},
   "outputs": [
    {
     "data": {
      "text/html": [
       "<div>\n",
       "<style scoped>\n",
       "    .dataframe tbody tr th:only-of-type {\n",
       "        vertical-align: middle;\n",
       "    }\n",
       "\n",
       "    .dataframe tbody tr th {\n",
       "        vertical-align: top;\n",
       "    }\n",
       "\n",
       "    .dataframe thead th {\n",
       "        text-align: right;\n",
       "    }\n",
       "</style>\n",
       "<table border=\"1\" class=\"dataframe\">\n",
       "  <thead>\n",
       "    <tr style=\"text-align: right;\">\n",
       "      <th></th>\n",
       "      <th>N_TRAIN</th>\n",
       "      <th>limit_buy</th>\n",
       "      <th>limit_sell</th>\n",
       "      <th>Return [%]</th>\n",
       "    </tr>\n",
       "  </thead>\n",
       "  <tbody>\n",
       "    <tr>\n",
       "      <th>10</th>\n",
       "      <td>306</td>\n",
       "      <td>2</td>\n",
       "      <td>-3</td>\n",
       "      <td>194.173358</td>\n",
       "    </tr>\n",
       "    <tr>\n",
       "      <th>11</th>\n",
       "      <td>307</td>\n",
       "      <td>2</td>\n",
       "      <td>-3</td>\n",
       "      <td>194.173358</td>\n",
       "    </tr>\n",
       "    <tr>\n",
       "      <th>7</th>\n",
       "      <td>283</td>\n",
       "      <td>0</td>\n",
       "      <td>-2</td>\n",
       "      <td>184.660849</td>\n",
       "    </tr>\n",
       "    <tr>\n",
       "      <th>9</th>\n",
       "      <td>305</td>\n",
       "      <td>2</td>\n",
       "      <td>-3</td>\n",
       "      <td>184.083945</td>\n",
       "    </tr>\n",
       "    <tr>\n",
       "      <th>8</th>\n",
       "      <td>299</td>\n",
       "      <td>2</td>\n",
       "      <td>-3</td>\n",
       "      <td>184.083945</td>\n",
       "    </tr>\n",
       "    <tr>\n",
       "      <th>14</th>\n",
       "      <td>315</td>\n",
       "      <td>1</td>\n",
       "      <td>-3</td>\n",
       "      <td>183.393347</td>\n",
       "    </tr>\n",
       "    <tr>\n",
       "      <th>20</th>\n",
       "      <td>354</td>\n",
       "      <td>1</td>\n",
       "      <td>-3</td>\n",
       "      <td>181.241040</td>\n",
       "    </tr>\n",
       "    <tr>\n",
       "      <th>18</th>\n",
       "      <td>349</td>\n",
       "      <td>1</td>\n",
       "      <td>-5</td>\n",
       "      <td>180.893777</td>\n",
       "    </tr>\n",
       "    <tr>\n",
       "      <th>22</th>\n",
       "      <td>359</td>\n",
       "      <td>1</td>\n",
       "      <td>-4</td>\n",
       "      <td>178.281800</td>\n",
       "    </tr>\n",
       "    <tr>\n",
       "      <th>24</th>\n",
       "      <td>371</td>\n",
       "      <td>1</td>\n",
       "      <td>-4</td>\n",
       "      <td>173.244107</td>\n",
       "    </tr>\n",
       "  </tbody>\n",
       "</table>\n",
       "</div>"
      ],
      "text/plain": [
       "    N_TRAIN  limit_buy  limit_sell  Return [%]\n",
       "10      306          2          -3  194.173358\n",
       "11      307          2          -3  194.173358\n",
       "7       283          0          -2  184.660849\n",
       "9       305          2          -3  184.083945\n",
       "8       299          2          -3  184.083945\n",
       "14      315          1          -3  183.393347\n",
       "20      354          1          -3  181.241040\n",
       "18      349          1          -5  180.893777\n",
       "22      359          1          -4  178.281800\n",
       "24      371          1          -4  173.244107"
      ]
     },
     "execution_count": 61,
     "metadata": {},
     "output_type": "execute_result"
    }
   ],
   "source": [
    "dff.sort_values('Return [%]', ascending=False).head(10)"
   ]
  },
  {
   "cell_type": "code",
   "execution_count": null,
   "id": "56375725",
   "metadata": {},
   "outputs": [
    {
     "data": {
      "text/html": [
       "<div>\n",
       "<style scoped>\n",
       "    .dataframe tbody tr th:only-of-type {\n",
       "        vertical-align: middle;\n",
       "    }\n",
       "\n",
       "    .dataframe tbody tr th {\n",
       "        vertical-align: top;\n",
       "    }\n",
       "\n",
       "    .dataframe thead th {\n",
       "        text-align: right;\n",
       "    }\n",
       "</style>\n",
       "<table border=\"1\" class=\"dataframe\">\n",
       "  <thead>\n",
       "    <tr style=\"text-align: right;\">\n",
       "      <th></th>\n",
       "      <th>N_TRAIN</th>\n",
       "      <th>model</th>\n",
       "      <th>limit_buy</th>\n",
       "      <th>limit_sell</th>\n",
       "      <th>Return [%]</th>\n",
       "    </tr>\n",
       "  </thead>\n",
       "  <tbody>\n",
       "    <tr>\n",
       "      <th>1</th>\n",
       "      <td>200</td>\n",
       "      <td>DecisionTreeRegressor(max_depth=15, random_sta...</td>\n",
       "      <td>0</td>\n",
       "      <td>-4</td>\n",
       "      <td>310.866395</td>\n",
       "    </tr>\n",
       "    <tr>\n",
       "      <th>6</th>\n",
       "      <td>201</td>\n",
       "      <td>DecisionTreeRegressor(max_depth=15, random_sta...</td>\n",
       "      <td>0</td>\n",
       "      <td>-4</td>\n",
       "      <td>310.866395</td>\n",
       "    </tr>\n",
       "    <tr>\n",
       "      <th>11</th>\n",
       "      <td>202</td>\n",
       "      <td>DecisionTreeRegressor(max_depth=15, random_sta...</td>\n",
       "      <td>0</td>\n",
       "      <td>-4</td>\n",
       "      <td>308.181746</td>\n",
       "    </tr>\n",
       "    <tr>\n",
       "      <th>16</th>\n",
       "      <td>203</td>\n",
       "      <td>DecisionTreeRegressor(max_depth=15, random_sta...</td>\n",
       "      <td>0</td>\n",
       "      <td>-4</td>\n",
       "      <td>302.889076</td>\n",
       "    </tr>\n",
       "    <tr>\n",
       "      <th>20</th>\n",
       "      <td>204</td>\n",
       "      <td>DecisionTreeRegressor(max_depth=15, random_sta...</td>\n",
       "      <td>0</td>\n",
       "      <td>-4</td>\n",
       "      <td>300.081400</td>\n",
       "    </tr>\n",
       "    <tr>\n",
       "      <th>25</th>\n",
       "      <td>208</td>\n",
       "      <td>DecisionTreeRegressor(max_depth=15, random_sta...</td>\n",
       "      <td>0</td>\n",
       "      <td>-4</td>\n",
       "      <td>299.487162</td>\n",
       "    </tr>\n",
       "    <tr>\n",
       "      <th>14</th>\n",
       "      <td>202</td>\n",
       "      <td>DecisionTreeRegressor(max_depth=15, random_sta...</td>\n",
       "      <td>1</td>\n",
       "      <td>-4</td>\n",
       "      <td>296.968600</td>\n",
       "    </tr>\n",
       "    <tr>\n",
       "      <th>31</th>\n",
       "      <td>211</td>\n",
       "      <td>DecisionTreeRegressor(max_depth=15, random_sta...</td>\n",
       "      <td>0</td>\n",
       "      <td>-4</td>\n",
       "      <td>294.169261</td>\n",
       "    </tr>\n",
       "    <tr>\n",
       "      <th>4</th>\n",
       "      <td>200</td>\n",
       "      <td>DecisionTreeRegressor(max_depth=15, random_sta...</td>\n",
       "      <td>1</td>\n",
       "      <td>-4</td>\n",
       "      <td>278.793174</td>\n",
       "    </tr>\n",
       "    <tr>\n",
       "      <th>24</th>\n",
       "      <td>207</td>\n",
       "      <td>DecisionTreeRegressor(max_depth=15, random_sta...</td>\n",
       "      <td>1</td>\n",
       "      <td>-4</td>\n",
       "      <td>278.006079</td>\n",
       "    </tr>\n",
       "  </tbody>\n",
       "</table>\n",
       "</div>"
      ],
      "text/plain": [
       "    N_TRAIN                                              model  limit_buy  \\\n",
       "1       200  DecisionTreeRegressor(max_depth=15, random_sta...          0   \n",
       "6       201  DecisionTreeRegressor(max_depth=15, random_sta...          0   \n",
       "11      202  DecisionTreeRegressor(max_depth=15, random_sta...          0   \n",
       "16      203  DecisionTreeRegressor(max_depth=15, random_sta...          0   \n",
       "20      204  DecisionTreeRegressor(max_depth=15, random_sta...          0   \n",
       "25      208  DecisionTreeRegressor(max_depth=15, random_sta...          0   \n",
       "14      202  DecisionTreeRegressor(max_depth=15, random_sta...          1   \n",
       "31      211  DecisionTreeRegressor(max_depth=15, random_sta...          0   \n",
       "4       200  DecisionTreeRegressor(max_depth=15, random_sta...          1   \n",
       "24      207  DecisionTreeRegressor(max_depth=15, random_sta...          1   \n",
       "\n",
       "    limit_sell  Return [%]  \n",
       "1           -4  310.866395  \n",
       "6           -4  310.866395  \n",
       "11          -4  308.181746  \n",
       "16          -4  302.889076  \n",
       "20          -4  300.081400  \n",
       "25          -4  299.487162  \n",
       "14          -4  296.968600  \n",
       "31          -4  294.169261  \n",
       "4           -4  278.793174  \n",
       "24          -4  278.006079  "
      ]
     },
     "metadata": {},
     "output_type": "display_data"
    }
   ],
   "source": [
    "dff.sort_values('Return [%]', ascending=False).head(10)"
   ]
  },
  {
   "cell_type": "code",
   "execution_count": 239,
   "id": "51e7fee3",
   "metadata": {},
   "outputs": [],
   "source": [
    "result = bt.run(N_TRAIN=200, model=model_dt, limit_buy=0, limit_sell=-4)"
   ]
  },
  {
   "cell_type": "code",
   "execution_count": 185,
   "id": "2aff3402",
   "metadata": {},
   "outputs": [
    {
     "data": {
      "text/html": [
       "<div style=\"display: table;\"><div style=\"display: table-row;\"><div style=\"display: table-cell;\"><b title=\"bokeh.models.layouts.Row\">Row</b>(</div><div style=\"display: table-cell;\">id&nbsp;=&nbsp;'2427', <span id=\"3041\" style=\"cursor: pointer;\">&hellip;)</span></div></div><div class=\"3040\" style=\"display: none;\"><div style=\"display: table-cell;\"></div><div style=\"display: table-cell;\">align&nbsp;=&nbsp;'start',</div></div><div class=\"3040\" style=\"display: none;\"><div style=\"display: table-cell;\"></div><div style=\"display: table-cell;\">aspect_ratio&nbsp;=&nbsp;None,</div></div><div class=\"3040\" style=\"display: none;\"><div style=\"display: table-cell;\"></div><div style=\"display: table-cell;\">background&nbsp;=&nbsp;None,</div></div><div class=\"3040\" style=\"display: none;\"><div style=\"display: table-cell;\"></div><div style=\"display: table-cell;\">children&nbsp;=&nbsp;[GridBox(id='2424', ...), ToolbarBox(id='2426', ...)],</div></div><div class=\"3040\" style=\"display: none;\"><div style=\"display: table-cell;\"></div><div style=\"display: table-cell;\">cols&nbsp;=&nbsp;'auto',</div></div><div class=\"3040\" style=\"display: none;\"><div style=\"display: table-cell;\"></div><div style=\"display: table-cell;\">css_classes&nbsp;=&nbsp;[],</div></div><div class=\"3040\" style=\"display: none;\"><div style=\"display: table-cell;\"></div><div style=\"display: table-cell;\">disabled&nbsp;=&nbsp;False,</div></div><div class=\"3040\" style=\"display: none;\"><div style=\"display: table-cell;\"></div><div style=\"display: table-cell;\">height&nbsp;=&nbsp;None,</div></div><div class=\"3040\" style=\"display: none;\"><div style=\"display: table-cell;\"></div><div style=\"display: table-cell;\">height_policy&nbsp;=&nbsp;'auto',</div></div><div class=\"3040\" style=\"display: none;\"><div style=\"display: table-cell;\"></div><div style=\"display: table-cell;\">js_event_callbacks&nbsp;=&nbsp;{},</div></div><div class=\"3040\" style=\"display: none;\"><div style=\"display: table-cell;\"></div><div style=\"display: table-cell;\">js_property_callbacks&nbsp;=&nbsp;{},</div></div><div class=\"3040\" style=\"display: none;\"><div style=\"display: table-cell;\"></div><div style=\"display: table-cell;\">margin&nbsp;=&nbsp;(0, 0, 0, 0),</div></div><div class=\"3040\" style=\"display: none;\"><div style=\"display: table-cell;\"></div><div style=\"display: table-cell;\">max_height&nbsp;=&nbsp;None,</div></div><div class=\"3040\" style=\"display: none;\"><div style=\"display: table-cell;\"></div><div style=\"display: table-cell;\">max_width&nbsp;=&nbsp;None,</div></div><div class=\"3040\" style=\"display: none;\"><div style=\"display: table-cell;\"></div><div style=\"display: table-cell;\">min_height&nbsp;=&nbsp;None,</div></div><div class=\"3040\" style=\"display: none;\"><div style=\"display: table-cell;\"></div><div style=\"display: table-cell;\">min_width&nbsp;=&nbsp;None,</div></div><div class=\"3040\" style=\"display: none;\"><div style=\"display: table-cell;\"></div><div style=\"display: table-cell;\">name&nbsp;=&nbsp;None,</div></div><div class=\"3040\" style=\"display: none;\"><div style=\"display: table-cell;\"></div><div style=\"display: table-cell;\">sizing_mode&nbsp;=&nbsp;'stretch_width',</div></div><div class=\"3040\" style=\"display: none;\"><div style=\"display: table-cell;\"></div><div style=\"display: table-cell;\">spacing&nbsp;=&nbsp;0,</div></div><div class=\"3040\" style=\"display: none;\"><div style=\"display: table-cell;\"></div><div style=\"display: table-cell;\">subscribed_events&nbsp;=&nbsp;[],</div></div><div class=\"3040\" style=\"display: none;\"><div style=\"display: table-cell;\"></div><div style=\"display: table-cell;\">syncable&nbsp;=&nbsp;True,</div></div><div class=\"3040\" style=\"display: none;\"><div style=\"display: table-cell;\"></div><div style=\"display: table-cell;\">tags&nbsp;=&nbsp;[],</div></div><div class=\"3040\" style=\"display: none;\"><div style=\"display: table-cell;\"></div><div style=\"display: table-cell;\">visible&nbsp;=&nbsp;True,</div></div><div class=\"3040\" style=\"display: none;\"><div style=\"display: table-cell;\"></div><div style=\"display: table-cell;\">width&nbsp;=&nbsp;None,</div></div><div class=\"3040\" style=\"display: none;\"><div style=\"display: table-cell;\"></div><div style=\"display: table-cell;\">width_policy&nbsp;=&nbsp;'auto')</div></div></div>\n",
       "<script>\n",
       "(function() {\n",
       "  let expanded = false;\n",
       "  const ellipsis = document.getElementById(\"3041\");\n",
       "  ellipsis.addEventListener(\"click\", function() {\n",
       "    const rows = document.getElementsByClassName(\"3040\");\n",
       "    for (let i = 0; i < rows.length; i++) {\n",
       "      const el = rows[i];\n",
       "      el.style.display = expanded ? \"none\" : \"table-row\";\n",
       "    }\n",
       "    ellipsis.innerHTML = expanded ? \"&hellip;)\" : \"&lsaquo;&lsaquo;&lsaquo;\";\n",
       "    expanded = !expanded;\n",
       "  });\n",
       "})();\n",
       "</script>\n"
      ],
      "text/plain": [
       "Row(id='2427', ...)"
      ]
     },
     "execution_count": 185,
     "metadata": {},
     "output_type": "execute_result"
    }
   ],
   "source": [
    "bt.plot(filename='a.html')"
   ]
  },
  {
   "cell_type": "code",
   "execution_count": 240,
   "id": "6fbffe2f",
   "metadata": {},
   "outputs": [
    {
     "data": {
      "text/html": [
       "<style type=\"text/css\">\n",
       "</style>\n",
       "<table id=\"T_53f81\">\n",
       "  <thead>\n",
       "    <tr>\n",
       "      <th class=\"blank level0\" >&nbsp;</th>\n",
       "      <th id=\"T_53f81_level0_col0\" class=\"col_heading level0 col0\" >Value</th>\n",
       "    </tr>\n",
       "  </thead>\n",
       "  <tbody>\n",
       "    <tr>\n",
       "      <th id=\"T_53f81_level0_row0\" class=\"row_heading level0 row0\" >Start</th>\n",
       "      <td id=\"T_53f81_row0_col0\" class=\"data row0 col0\" >2016-12-08 00:00:00</td>\n",
       "    </tr>\n",
       "    <tr>\n",
       "      <th id=\"T_53f81_level0_row1\" class=\"row_heading level0 row1\" >End</th>\n",
       "      <td id=\"T_53f81_row1_col0\" class=\"data row1 col0\" >2023-03-15 00:00:00</td>\n",
       "    </tr>\n",
       "    <tr>\n",
       "      <th id=\"T_53f81_level0_row2\" class=\"row_heading level0 row2\" >Duration</th>\n",
       "      <td id=\"T_53f81_row2_col0\" class=\"data row2 col0\" >2288 days 00:00:00</td>\n",
       "    </tr>\n",
       "    <tr>\n",
       "      <th id=\"T_53f81_level0_row3\" class=\"row_heading level0 row3\" >Exposure Time [%]</th>\n",
       "      <td id=\"T_53f81_row3_col0\" class=\"data row3 col0\" >87.182741</td>\n",
       "    </tr>\n",
       "    <tr>\n",
       "      <th id=\"T_53f81_level0_row4\" class=\"row_heading level0 row4\" >Equity Final [$]</th>\n",
       "      <td id=\"T_53f81_row4_col0\" class=\"data row4 col0\" >41086.639496</td>\n",
       "    </tr>\n",
       "    <tr>\n",
       "      <th id=\"T_53f81_level0_row5\" class=\"row_heading level0 row5\" >Equity Peak [$]</th>\n",
       "      <td id=\"T_53f81_row5_col0\" class=\"data row5 col0\" >49179.374064</td>\n",
       "    </tr>\n",
       "    <tr>\n",
       "      <th id=\"T_53f81_level0_row6\" class=\"row_heading level0 row6\" >Return [%]</th>\n",
       "      <td id=\"T_53f81_row6_col0\" class=\"data row6 col0\" >310.866395</td>\n",
       "    </tr>\n",
       "  </tbody>\n",
       "</table>\n"
      ],
      "text/plain": [
       "<pandas.io.formats.style.Styler at 0x28dface50>"
      ]
     },
     "execution_count": 240,
     "metadata": {},
     "output_type": "execute_result"
    }
   ],
   "source": [
    "result.to_frame(name='Value').loc[:'Return [%]'].style"
   ]
  }
 ],
 "metadata": {
  "kernelspec": {
   "display_name": "Python 3 (ipykernel)",
   "language": "python",
   "name": "python3"
  },
  "language_info": {
   "codemirror_mode": {
    "name": "ipython",
    "version": 3
   },
   "file_extension": ".py",
   "mimetype": "text/x-python",
   "name": "python",
   "nbconvert_exporter": "python",
   "pygments_lexer": "ipython3",
   "version": "3.10.6"
  }
 },
 "nbformat": 4,
 "nbformat_minor": 5
}
