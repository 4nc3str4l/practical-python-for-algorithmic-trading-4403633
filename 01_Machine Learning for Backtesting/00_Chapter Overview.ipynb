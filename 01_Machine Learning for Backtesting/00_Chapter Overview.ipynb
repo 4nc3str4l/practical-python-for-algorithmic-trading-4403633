{
 "cells": [
  {
   "cell_type": "markdown",
   "id": "ab55977f-b01d-4e8c-8983-a43db7569373",
   "metadata": {},
   "source": [
    "# Chapter Overview"
   ]
  },
  {
   "cell_type": "markdown",
   "id": "21cd0505-d632-4397-8fdf-fe9e2ac5363f",
   "metadata": {},
   "source": [
    "## What is backtesting?"
   ]
  },
  {
   "cell_type": "code",
   "execution_count": null,
   "id": "cf4c6857-d662-4a5b-9d6d-3e5d8ab88e04",
   "metadata": {},
   "outputs": [],
   "source": []
  },
  {
   "cell_type": "markdown",
   "id": "a0575f8c-c55e-4043-9ef9-e2f0c9f1bbee",
   "metadata": {},
   "source": [
    "## What is Machine Learning?"
   ]
  },
  {
   "cell_type": "code",
   "execution_count": null,
   "id": "15005ea9-a53c-44bc-b847-39ca17a478aa",
   "metadata": {},
   "outputs": [],
   "source": []
  },
  {
   "cell_type": "markdown",
   "id": "ff81c07c-c260-4158-b922-7178cd44e23e",
   "metadata": {},
   "source": [
    "### Different Types of Machine Learning Models?"
   ]
  },
  {
   "cell_type": "code",
   "execution_count": null,
   "id": "46527ae5-cff7-42ce-8430-007655c905d7",
   "metadata": {},
   "outputs": [],
   "source": []
  },
  {
   "cell_type": "markdown",
   "id": "cf77692f-ffbd-47bd-966b-50593512aea6",
   "metadata": {},
   "source": [
    "## Why is it different?\n",
    "\n",
    "Show picture of how the model improves from Classification from Regression.\n",
    "\n",
    "Covered solution vs. Uncovered solution."
   ]
  },
  {
   "cell_type": "code",
   "execution_count": null,
   "id": "ae5afa8b-898a-4b43-a335-43b8a38e0ce7",
   "metadata": {},
   "outputs": [],
   "source": []
  },
  {
   "cell_type": "markdown",
   "id": "0e482f44-cd10-4775-b819-d0e2de087cf4",
   "metadata": {},
   "source": [
    "![](src/regression_5.png)"
   ]
  },
  {
   "cell_type": "markdown",
   "id": "35801692-e456-4458-9677-a20e30bd354d",
   "metadata": {},
   "source": [
    "![](src/classification.png)"
   ]
  },
  {
   "cell_type": "code",
   "execution_count": null,
   "id": "67c48f4c-ab9c-43a7-92eb-508de8b3fe32",
   "metadata": {},
   "outputs": [],
   "source": []
  }
 ],
 "metadata": {
  "kernelspec": {
   "display_name": "Python 3 (ipykernel)",
   "language": "python",
   "name": "python3"
  },
  "language_info": {
   "codemirror_mode": {
    "name": "ipython",
    "version": 3
   },
   "file_extension": ".py",
   "mimetype": "text/x-python",
   "name": "python",
   "nbconvert_exporter": "python",
   "pygments_lexer": "ipython3",
   "version": "3.10.6"
  }
 },
 "nbformat": 4,
 "nbformat_minor": 5
}
