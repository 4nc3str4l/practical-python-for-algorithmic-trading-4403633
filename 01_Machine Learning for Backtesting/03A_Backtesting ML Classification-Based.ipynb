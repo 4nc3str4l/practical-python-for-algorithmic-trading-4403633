{
 "cells": [
  {
   "cell_type": "markdown",
   "id": "1834c01c-a4e3-4064-9d85-dd51ca17cd3f",
   "metadata": {},
   "source": [
    "# Backtesting ML Classification-Based"
   ]
  },
  {
   "cell_type": "markdown",
   "id": "61668305-195b-4fb6-9f8b-6b614f300f12",
   "metadata": {},
   "source": [
    "## Load the model"
   ]
  },
  {
   "cell_type": "code",
   "execution_count": 50,
   "id": "da6b8646-199b-4a1e-b0c9-1cbe67f48452",
   "metadata": {},
   "outputs": [],
   "source": [
    "import pickle\n",
    "\n",
    "with open('models/model_dt_microsoft_linkedin_classification.pkl', 'rb') as f:\n",
    "    model_dt = pickle.load(f)"
   ]
  },
  {
   "cell_type": "code",
   "execution_count": null,
   "id": "6ea22b0b-e5a9-4dd2-972f-1e040226d907",
   "metadata": {},
   "outputs": [],
   "source": []
  },
  {
   "cell_type": "markdown",
   "id": "e7744eb0-9aab-4b3b-b9c2-62f1c6a47ad9",
   "metadata": {},
   "source": [
    "## Load the data"
   ]
  },
  {
   "cell_type": "code",
   "execution_count": 53,
   "id": "27c084df-99c2-4c14-bb17-977c4c8f0ce6",
   "metadata": {},
   "outputs": [
    {
     "data": {
      "text/html": [
       "<div>\n",
       "<style scoped>\n",
       "    .dataframe tbody tr th:only-of-type {\n",
       "        vertical-align: middle;\n",
       "    }\n",
       "\n",
       "    .dataframe tbody tr th {\n",
       "        vertical-align: top;\n",
       "    }\n",
       "\n",
       "    .dataframe thead th {\n",
       "        text-align: right;\n",
       "    }\n",
       "</style>\n",
       "<table border=\"1\" class=\"dataframe\">\n",
       "  <thead>\n",
       "    <tr style=\"text-align: right;\">\n",
       "      <th></th>\n",
       "      <th>Open</th>\n",
       "      <th>High</th>\n",
       "      <th>Low</th>\n",
       "      <th>Close</th>\n",
       "      <th>Volume</th>\n",
       "      <th>diff_daily_1</th>\n",
       "      <th>diff_daily_1_direction</th>\n",
       "      <th>buy</th>\n",
       "      <th>buy_sell</th>\n",
       "    </tr>\n",
       "    <tr>\n",
       "      <th>Date</th>\n",
       "      <th></th>\n",
       "      <th></th>\n",
       "      <th></th>\n",
       "      <th></th>\n",
       "      <th></th>\n",
       "      <th></th>\n",
       "      <th></th>\n",
       "      <th></th>\n",
       "      <th></th>\n",
       "    </tr>\n",
       "  </thead>\n",
       "  <tbody>\n",
       "    <tr>\n",
       "      <th>2016-12-09</th>\n",
       "      <td>56.214968</td>\n",
       "      <td>56.959234</td>\n",
       "      <td>56.169027</td>\n",
       "      <td>56.940857</td>\n",
       "      <td>27349400</td>\n",
       "      <td>0.882095</td>\n",
       "      <td>UP</td>\n",
       "      <td>1</td>\n",
       "      <td>1</td>\n",
       "    </tr>\n",
       "    <tr>\n",
       "      <th>2016-12-12</th>\n",
       "      <td>56.803028</td>\n",
       "      <td>57.244073</td>\n",
       "      <td>56.711145</td>\n",
       "      <td>57.124622</td>\n",
       "      <td>20198100</td>\n",
       "      <td>0.183765</td>\n",
       "      <td>UP</td>\n",
       "      <td>1</td>\n",
       "      <td>0</td>\n",
       "    </tr>\n",
       "    <tr>\n",
       "      <th>...</th>\n",
       "      <td>...</td>\n",
       "      <td>...</td>\n",
       "      <td>...</td>\n",
       "      <td>...</td>\n",
       "      <td>...</td>\n",
       "      <td>...</td>\n",
       "      <td>...</td>\n",
       "      <td>...</td>\n",
       "      <td>...</td>\n",
       "    </tr>\n",
       "    <tr>\n",
       "      <th>2023-03-15</th>\n",
       "      <td>259.980011</td>\n",
       "      <td>266.480011</td>\n",
       "      <td>259.209991</td>\n",
       "      <td>265.440002</td>\n",
       "      <td>46028000</td>\n",
       "      <td>4.649994</td>\n",
       "      <td>UP</td>\n",
       "      <td>1</td>\n",
       "      <td>0</td>\n",
       "    </tr>\n",
       "    <tr>\n",
       "      <th>2023-03-16</th>\n",
       "      <td>265.209991</td>\n",
       "      <td>276.559998</td>\n",
       "      <td>263.279999</td>\n",
       "      <td>276.200012</td>\n",
       "      <td>54768800</td>\n",
       "      <td>10.760010</td>\n",
       "      <td>UP</td>\n",
       "      <td>1</td>\n",
       "      <td>0</td>\n",
       "    </tr>\n",
       "  </tbody>\n",
       "</table>\n",
       "<p>1576 rows × 9 columns</p>\n",
       "</div>"
      ],
      "text/plain": [
       "                  Open        High         Low       Close    Volume  \\\n",
       "Date                                                                   \n",
       "2016-12-09   56.214968   56.959234   56.169027   56.940857  27349400   \n",
       "2016-12-12   56.803028   57.244073   56.711145   57.124622  20198100   \n",
       "...                ...         ...         ...         ...       ...   \n",
       "2023-03-15  259.980011  266.480011  259.209991  265.440002  46028000   \n",
       "2023-03-16  265.209991  276.559998  263.279999  276.200012  54768800   \n",
       "\n",
       "            diff_daily_1 diff_daily_1_direction  buy  buy_sell  \n",
       "Date                                                            \n",
       "2016-12-09      0.882095                     UP    1         1  \n",
       "2016-12-12      0.183765                     UP    1         0  \n",
       "...                  ...                    ...  ...       ...  \n",
       "2023-03-15      4.649994                     UP    1         0  \n",
       "2023-03-16     10.760010                     UP    1         0  \n",
       "\n",
       "[1576 rows x 9 columns]"
      ]
     },
     "execution_count": 53,
     "metadata": {},
     "output_type": "execute_result"
    }
   ],
   "source": [
    "import pandas as pd\n",
    "\n",
    "df = pd.read_excel('data/Stock_Microsfot_x_Linkedin_Processed.xlsx', index_col=0, parse_dates=['Date'])\n",
    "df"
   ]
  },
  {
   "cell_type": "markdown",
   "id": "f6dd7c63-3fae-4de7-8c7f-968a966b0d84",
   "metadata": {},
   "source": [
    "## Backtesting.py Library"
   ]
  },
  {
   "cell_type": "markdown",
   "id": "be593682-a169-4e9d-b402-9b92b456dd38",
   "metadata": {},
   "source": [
    "### Create your Strategy Class"
   ]
  },
  {
   "cell_type": "code",
   "execution_count": null,
   "id": "cadb57f1-ed5d-4af2-b350-cc0c75f16657",
   "metadata": {},
   "outputs": [],
   "source": []
  },
  {
   "cell_type": "markdown",
   "id": "1c17a378-9228-44bb-a6ff-b1031b66fad7",
   "metadata": {},
   "source": [
    "### Define initial conditions"
   ]
  },
  {
   "cell_type": "code",
   "execution_count": null,
   "id": "54d1a316-c57c-4d51-9fbe-85fb53933b8f",
   "metadata": {},
   "outputs": [],
   "source": []
  },
  {
   "cell_type": "markdown",
   "id": "ab6e1b72-689d-4b91-8ec2-4d6d840d3c10",
   "metadata": {},
   "source": [
    "### Interpret backtesting results"
   ]
  },
  {
   "cell_type": "code",
   "execution_count": null,
   "id": "32f423a7-1b92-4eb0-97e4-0eeac1505636",
   "metadata": {},
   "outputs": [],
   "source": []
  },
  {
   "cell_type": "markdown",
   "id": "1d2d118c-f7ca-464b-900d-cb5e1b5bce0b",
   "metadata": {},
   "source": [
    "### Visualize the strategy performance"
   ]
  },
  {
   "cell_type": "code",
   "execution_count": null,
   "id": "30744d59-e812-440b-8fd8-d00239b49452",
   "metadata": {},
   "outputs": [],
   "source": []
  }
 ],
 "metadata": {
  "kernelspec": {
   "display_name": "Python (backtesting)",
   "language": "python",
   "name": "backtesting"
  },
  "language_info": {
   "codemirror_mode": {
    "name": "ipython",
    "version": 3
   },
   "file_extension": ".py",
   "mimetype": "text/x-python",
   "name": "python",
   "nbconvert_exporter": "python",
   "pygments_lexer": "ipython3",
   "version": "3.11.0"
  }
 },
 "nbformat": 4,
 "nbformat_minor": 5
}
