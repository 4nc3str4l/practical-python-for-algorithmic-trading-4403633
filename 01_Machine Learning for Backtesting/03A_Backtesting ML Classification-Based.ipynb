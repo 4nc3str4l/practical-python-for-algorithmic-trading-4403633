{
 "cells": [
  {
   "cell_type": "markdown",
   "id": "1834c01c-a4e3-4064-9d85-dd51ca17cd3f",
   "metadata": {},
   "source": [
    "# Backtesting ML Classification-Based"
   ]
  },
  {
   "cell_type": "code",
   "execution_count": null,
   "id": "65f1b18d",
   "metadata": {},
   "outputs": [],
   "source": [
    "???"
   ]
  },
  {
   "attachments": {},
   "cell_type": "markdown",
   "id": "314e88d0",
   "metadata": {},
   "source": [
    "![](src/res_classification.png)"
   ]
  },
  {
   "cell_type": "markdown",
   "id": "61668305-195b-4fb6-9f8b-6b614f300f12",
   "metadata": {},
   "source": [
    "## Load the model"
   ]
  },
  {
   "cell_type": "code",
   "execution_count": null,
   "id": "7b73033e-2f6e-4869-94ef-2d24be8e699e",
   "metadata": {},
   "outputs": [],
   "source": [
    "import pickle"
   ]
  },
  {
   "cell_type": "code",
   "execution_count": null,
   "id": "36bff3f6-0edb-461a-a28c-4759b156ff98",
   "metadata": {},
   "outputs": [],
   "source": [
    "with open('models/model_dt_classification.pkl', 'rb') as f:\n",
    "    model_dt = pickle.load(f)"
   ]
  },
  {
   "cell_type": "code",
   "execution_count": null,
   "id": "2a590efa",
   "metadata": {},
   "outputs": [],
   "source": [
    "model_dt"
   ]
  },
  {
   "cell_type": "markdown",
   "id": "e7744eb0-9aab-4b3b-b9c2-62f1c6a47ad9",
   "metadata": {},
   "source": [
    "## Load the data"
   ]
  },
  {
   "cell_type": "code",
   "execution_count": null,
   "id": "27c084df-99c2-4c14-bb17-977c4c8f0ce6",
   "metadata": {},
   "outputs": [],
   "source": [
    "import pandas as pd\n",
    "\n",
    "df = pd.read_excel('data/Microsoft_LinkedIn_Processed.xlsx', index_col=0, parse_dates=['Date'])\n",
    "df"
   ]
  },
  {
   "cell_type": "markdown",
   "id": "f6dd7c63-3fae-4de7-8c7f-968a966b0d84",
   "metadata": {},
   "source": [
    "## Backtesting.py Library"
   ]
  },
  {
   "cell_type": "markdown",
   "id": "be593682-a169-4e9d-b402-9b92b456dd38",
   "metadata": {},
   "source": [
    "### Create your Strategy Class"
   ]
  },
  {
   "cell_type": "code",
   "execution_count": null,
   "id": "970f3a44",
   "metadata": {},
   "outputs": [],
   "source": [
    "from backtesting import Backtest, Strategy"
   ]
  },
  {
   "cell_type": "code",
   "execution_count": null,
   "id": "f26ef02a",
   "metadata": {},
   "outputs": [],
   "source": [
    "Backtest(???)"
   ]
  },
  {
   "cell_type": "code",
   "execution_count": null,
   "id": "6711527a",
   "metadata": {},
   "outputs": [],
   "source": [
    "df_explanatory = df.drop(columns=['change_tomorrow', 'change_tomorrow_direction'])"
   ]
  },
  {
   "cell_type": "code",
   "execution_count": null,
   "id": "f63debdf",
   "metadata": {},
   "outputs": [],
   "source": [
    "model_dt.predict(X=df_explanatory)"
   ]
  },
  {
   "cell_type": "code",
   "execution_count": null,
   "id": "73ab0a9b",
   "metadata": {},
   "outputs": [],
   "source": [
    "explanatory_today = df_explanatory.iloc[[-1],:]"
   ]
  },
  {
   "cell_type": "code",
   "execution_count": null,
   "id": "ac28ea0c",
   "metadata": {},
   "outputs": [],
   "source": [
    "forecast_tomorrow = model_dt.predict(explanatory_today)[0]"
   ]
  },
  {
   "cell_type": "code",
   "execution_count": null,
   "id": "a21c8c75",
   "metadata": {},
   "outputs": [],
   "source": []
  },
  {
   "cell_type": "code",
   "execution_count": null,
   "id": "0bc69f66-fb5f-4913-9e83-d5f43ac8b45b",
   "metadata": {},
   "outputs": [],
   "source": [
    "class ClassificationUP(Strategy):\n",
    "    def init(self):\n",
    "        self.model = model_dt\n",
    "\n",
    "    def next(self):\n",
    "        explanatory_today = df_explanatory.iloc[[-1],:]\n",
    "        forecast_tomorrow = model_dt.predict(explanatory_today)[0]\n",
    "        \n",
    "        # conditions to sell or buy"
   ]
  },
  {
   "cell_type": "markdown",
   "id": "f82e9998-9458-4ea5-8760-aa8914d25c83",
   "metadata": {},
   "source": [
    "#### Calculate Purchase Recommendation"
   ]
  },
  {
   "cell_type": "markdown",
   "id": "dbcd713b-1a6c-464b-94c3-864da2e215d6",
   "metadata": {},
   "source": [
    "##### Buy if it goes up"
   ]
  },
  {
   "cell_type": "code",
   "execution_count": null,
   "id": "4d716ddf",
   "metadata": {},
   "outputs": [],
   "source": [
    "list_buy_sell = []"
   ]
  },
  {
   "cell_type": "code",
   "execution_count": null,
   "id": "7edbfadb",
   "metadata": {},
   "outputs": [],
   "source": [
    "for tomorrow_direction in df.change_tomorrow_direction:\n",
    "  if tomorrow_direction == 'UP':\n",
    "    list_buy_sell.append(1)\n",
    "  elif tomorrow_direction == 'DOWN':\n",
    "    list_buy_sell.append(-1)"
   ]
  },
  {
   "cell_type": "code",
   "execution_count": null,
   "id": "aa168245",
   "metadata": {},
   "outputs": [],
   "source": [
    "df['buy_sell'] = list_buy_sell"
   ]
  },
  {
   "cell_type": "code",
   "execution_count": null,
   "id": "d11aeecf",
   "metadata": {},
   "outputs": [],
   "source": [
    "df[['change_tomorrow_direction', 'buy_sell']].head(10)"
   ]
  },
  {
   "cell_type": "markdown",
   "id": "320bc188-067d-47b3-9d85-d6e37433209a",
   "metadata": {},
   "source": [
    "##### Buy if it goes and sell if down\n",
    "\n",
    "> You can only sell if you have already bought"
   ]
  },
  {
   "cell_type": "code",
   "execution_count": null,
   "id": "58b4795e",
   "metadata": {},
   "outputs": [],
   "source": [
    "list_buy_sell = []\n",
    "already_bought = False"
   ]
  },
  {
   "cell_type": "code",
   "execution_count": null,
   "id": "149fe631",
   "metadata": {},
   "outputs": [],
   "source": [
    "for tomorrow_direction in df.change_tomorrow_direction:\n",
    "  if tomorrow_direction == 'UP' and already_bought == False:\n",
    "    list_buy_sell.append(1)\n",
    "    already_bought = True\n",
    "  elif tomorrow_direction == 'DOWN' and already_bought == True:\n",
    "    list_buy_sell.append(-1)\n",
    "    already_bought = False\n",
    "  else:\n",
    "    list_buy_sell.append(0)"
   ]
  },
  {
   "cell_type": "code",
   "execution_count": null,
   "id": "d9a94fdb",
   "metadata": {},
   "outputs": [],
   "source": [
    "df['buy_sell_track'] = list_buy_sell"
   ]
  },
  {
   "cell_type": "code",
   "execution_count": null,
   "id": "24f22e70",
   "metadata": {},
   "outputs": [],
   "source": [
    "df[['change_tomorrow_direction', 'buy_sell', 'buy_sell_track']].head(10)"
   ]
  },
  {
   "cell_type": "code",
   "execution_count": null,
   "id": "f4ffc4cb-ea68-4341-89e5-b132cb2399c1",
   "metadata": {},
   "outputs": [],
   "source": []
  },
  {
   "cell_type": "markdown",
   "id": "e702e032-a716-49ea-ad87-490ed4518ff3",
   "metadata": {},
   "source": [
    "#### Add conditions to the strategy"
   ]
  },
  {
   "cell_type": "code",
   "execution_count": null,
   "id": "db08ad59-3b0c-40dc-935d-e0db530ef563",
   "metadata": {},
   "outputs": [],
   "source": [
    "class ClassificationUP(Strategy):\n",
    "    def init(self):\n",
    "        self.model = model_dt\n",
    "        self.already_bought = False\n",
    "\n",
    "    def next(self):\n",
    "        explanatory_today = self.data.df.iloc[[-1],:]\n",
    "        forecast_tomorrow = model_dt.predict(explanatory_today)[0]\n",
    "        \n",
    "        # conditions to sell or buy\n",
    "        if forecast_tomorrow == 'UP' and self.already_bought == False:\n",
    "            self.buy()\n",
    "            self.already_bought = True\n",
    "        elif forecast_tomorrow == 'DOWN' and self.already_bought == True:\n",
    "            self.sell()\n",
    "            self.already_bought = False\n",
    "        else:\n",
    "            pass"
   ]
  },
  {
   "cell_type": "markdown",
   "id": "5a71cfae-bdd6-420f-8fce-30ab56f727d4",
   "metadata": {},
   "source": [
    "### Define initial conditions"
   ]
  },
  {
   "cell_type": "code",
   "execution_count": null,
   "id": "888bbeeb-0ae8-4914-8f4f-cc9bef8a8db5",
   "metadata": {},
   "outputs": [],
   "source": [
    "bt = Backtest(data = df_explanatory, ???,\n",
    "              cash=???, commission=.002, exclusive_orders=True)"
   ]
  },
  {
   "cell_type": "code",
   "execution_count": null,
   "id": "9b4621c5",
   "metadata": {},
   "outputs": [],
   "source": []
  },
  {
   "cell_type": "markdown",
   "id": "31cddd13",
   "metadata": {},
   "source": [
    "### Run backtesting"
   ]
  },
  {
   "cell_type": "code",
   "execution_count": null,
   "id": "5c51ad85",
   "metadata": {},
   "outputs": [],
   "source": []
  },
  {
   "cell_type": "markdown",
   "id": "ab6e1b72-689d-4b91-8ec2-4d6d840d3c10",
   "metadata": {},
   "source": [
    "### Interpret backtesting results"
   ]
  },
  {
   "cell_type": "code",
   "execution_count": null,
   "id": "6aafb264-9f33-42e7-a567-610699f84217",
   "metadata": {},
   "outputs": [],
   "source": [
    "results.to_frame(name='Values').loc[:'Return [%]']"
   ]
  },
  {
   "cell_type": "code",
   "execution_count": null,
   "id": "430df348",
   "metadata": {},
   "outputs": [],
   "source": [
    "df.Close.plot()"
   ]
  },
  {
   "cell_type": "markdown",
   "id": "a3052a81",
   "metadata": {},
   "source": [
    "Classification Model | Regression Model\n",
    "-|-\n",
    "![](src/pred_classification.png) | ![](src/pred_regression.png)"
   ]
  },
  {
   "cell_type": "markdown",
   "id": "58f1bcc0",
   "metadata": {},
   "source": [
    "Classification Strategy | Regression Strategy\n",
    "-|-\n",
    "![](src/res_classification.png) | ![](src/res_regression.png)"
   ]
  }
 ],
 "metadata": {
  "kernelspec": {
   "display_name": "Python 3",
   "language": "python",
   "name": "python3"
  },
  "language_info": {
   "codemirror_mode": {
    "name": "ipython",
    "version": 3
   },
   "file_extension": ".py",
   "mimetype": "text/x-python",
   "name": "python",
   "nbconvert_exporter": "python",
   "pygments_lexer": "ipython3",
   "version": "3.10.10"
  }
 },
 "nbformat": 4,
 "nbformat_minor": 5
}
