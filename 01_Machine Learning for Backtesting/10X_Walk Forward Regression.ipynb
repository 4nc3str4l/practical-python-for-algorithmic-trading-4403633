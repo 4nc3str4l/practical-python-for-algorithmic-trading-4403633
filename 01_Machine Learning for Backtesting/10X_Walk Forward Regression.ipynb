{
 "cells": [
  {
   "attachments": {},
   "cell_type": "markdown",
   "id": "eefba2db-9f60-42d8-a4f0-1e3c95efbcc1",
   "metadata": {},
   "source": [
    "# Walk Forward: A Realistic Approach to Backtesting"
   ]
  },
  {
   "cell_type": "markdown",
   "id": "bbaab23b-8ecd-4dd7-b234-bca3866046a6",
   "metadata": {},
   "source": [
    "## Load the data"
   ]
  },
  {
   "cell_type": "code",
   "execution_count": 1,
   "id": "ab861230-5583-46dd-afb6-ba432e1cb765",
   "metadata": {},
   "outputs": [],
   "source": [
    "import pandas as pd\n",
    "\n",
    "df = pd.read_excel('data/Microsoft_LinkedIn_Processed.xlsx', parse_dates=['Date'], index_col=0)\n",
    "df = df.drop(columns='change_tomorrow_direction')"
   ]
  },
  {
   "cell_type": "markdown",
   "id": "4f6801d5-bb0e-4fd9-8f42-3795ca1ef2cd",
   "metadata": {},
   "source": [
    "## Machine Learning Model"
   ]
  },
  {
   "cell_type": "markdown",
   "id": "a13ab157-8433-4579-8fef-e89e2d4dceac",
   "metadata": {},
   "source": [
    "### Separate the data\n",
    "\n",
    "1. Target: which variable do you want to predict?\n",
    "2. Explanatory: which variables will you use to calculate the prediction?"
   ]
  },
  {
   "cell_type": "code",
   "execution_count": 2,
   "id": "ef3796a9-334d-48b2-b516-0c1e9122dbbc",
   "metadata": {},
   "outputs": [],
   "source": [
    "target = df.change_tomorrow\n",
    "explanatory = df[['Open','High','Low','Close','Volume']]"
   ]
  },
  {
   "cell_type": "markdown",
   "id": "3be267e2-fccd-4683-a2d9-df0223181ae1",
   "metadata": {},
   "source": [
    "### Compute the model\n",
    "\n",
    "The following Python code will compute the numbers of the mathematical equation that we will use to calculate if the ticker goes UP or DOWN."
   ]
  },
  {
   "cell_type": "code",
   "execution_count": 3,
   "id": "b0537087-423f-4d2b-8480-20cd537bbd99",
   "metadata": {},
   "outputs": [
    {
     "data": {
      "text/html": [
       "<style>#sk-container-id-1 {color: black;background-color: white;}#sk-container-id-1 pre{padding: 0;}#sk-container-id-1 div.sk-toggleable {background-color: white;}#sk-container-id-1 label.sk-toggleable__label {cursor: pointer;display: block;width: 100%;margin-bottom: 0;padding: 0.3em;box-sizing: border-box;text-align: center;}#sk-container-id-1 label.sk-toggleable__label-arrow:before {content: \"▸\";float: left;margin-right: 0.25em;color: #696969;}#sk-container-id-1 label.sk-toggleable__label-arrow:hover:before {color: black;}#sk-container-id-1 div.sk-estimator:hover label.sk-toggleable__label-arrow:before {color: black;}#sk-container-id-1 div.sk-toggleable__content {max-height: 0;max-width: 0;overflow: hidden;text-align: left;background-color: #f0f8ff;}#sk-container-id-1 div.sk-toggleable__content pre {margin: 0.2em;color: black;border-radius: 0.25em;background-color: #f0f8ff;}#sk-container-id-1 input.sk-toggleable__control:checked~div.sk-toggleable__content {max-height: 200px;max-width: 100%;overflow: auto;}#sk-container-id-1 input.sk-toggleable__control:checked~label.sk-toggleable__label-arrow:before {content: \"▾\";}#sk-container-id-1 div.sk-estimator input.sk-toggleable__control:checked~label.sk-toggleable__label {background-color: #d4ebff;}#sk-container-id-1 div.sk-label input.sk-toggleable__control:checked~label.sk-toggleable__label {background-color: #d4ebff;}#sk-container-id-1 input.sk-hidden--visually {border: 0;clip: rect(1px 1px 1px 1px);clip: rect(1px, 1px, 1px, 1px);height: 1px;margin: -1px;overflow: hidden;padding: 0;position: absolute;width: 1px;}#sk-container-id-1 div.sk-estimator {font-family: monospace;background-color: #f0f8ff;border: 1px dotted black;border-radius: 0.25em;box-sizing: border-box;margin-bottom: 0.5em;}#sk-container-id-1 div.sk-estimator:hover {background-color: #d4ebff;}#sk-container-id-1 div.sk-parallel-item::after {content: \"\";width: 100%;border-bottom: 1px solid gray;flex-grow: 1;}#sk-container-id-1 div.sk-label:hover label.sk-toggleable__label {background-color: #d4ebff;}#sk-container-id-1 div.sk-serial::before {content: \"\";position: absolute;border-left: 1px solid gray;box-sizing: border-box;top: 0;bottom: 0;left: 50%;z-index: 0;}#sk-container-id-1 div.sk-serial {display: flex;flex-direction: column;align-items: center;background-color: white;padding-right: 0.2em;padding-left: 0.2em;position: relative;}#sk-container-id-1 div.sk-item {position: relative;z-index: 1;}#sk-container-id-1 div.sk-parallel {display: flex;align-items: stretch;justify-content: center;background-color: white;position: relative;}#sk-container-id-1 div.sk-item::before, #sk-container-id-1 div.sk-parallel-item::before {content: \"\";position: absolute;border-left: 1px solid gray;box-sizing: border-box;top: 0;bottom: 0;left: 50%;z-index: -1;}#sk-container-id-1 div.sk-parallel-item {display: flex;flex-direction: column;z-index: 1;position: relative;background-color: white;}#sk-container-id-1 div.sk-parallel-item:first-child::after {align-self: flex-end;width: 50%;}#sk-container-id-1 div.sk-parallel-item:last-child::after {align-self: flex-start;width: 50%;}#sk-container-id-1 div.sk-parallel-item:only-child::after {width: 0;}#sk-container-id-1 div.sk-dashed-wrapped {border: 1px dashed gray;margin: 0 0.4em 0.5em 0.4em;box-sizing: border-box;padding-bottom: 0.4em;background-color: white;}#sk-container-id-1 div.sk-label label {font-family: monospace;font-weight: bold;display: inline-block;line-height: 1.2em;}#sk-container-id-1 div.sk-label-container {text-align: center;}#sk-container-id-1 div.sk-container {/* jupyter's `normalize.less` sets `[hidden] { display: none; }` but bootstrap.min.css set `[hidden] { display: none !important; }` so we also need the `!important` here to be able to override the default hidden behavior on the sphinx rendered scikit-learn.org. See: https://github.com/scikit-learn/scikit-learn/issues/21755 */display: inline-block !important;position: relative;}#sk-container-id-1 div.sk-text-repr-fallback {display: none;}</style><div id=\"sk-container-id-1\" class=\"sk-top-container\"><div class=\"sk-text-repr-fallback\"><pre>DecisionTreeRegressor(max_depth=15, random_state=42)</pre><b>In a Jupyter environment, please rerun this cell to show the HTML representation or trust the notebook. <br />On GitHub, the HTML representation is unable to render, please try loading this page with nbviewer.org.</b></div><div class=\"sk-container\" hidden><div class=\"sk-item\"><div class=\"sk-estimator sk-toggleable\"><input class=\"sk-toggleable__control sk-hidden--visually\" id=\"sk-estimator-id-1\" type=\"checkbox\" checked><label for=\"sk-estimator-id-1\" class=\"sk-toggleable__label sk-toggleable__label-arrow\">DecisionTreeRegressor</label><div class=\"sk-toggleable__content\"><pre>DecisionTreeRegressor(max_depth=15, random_state=42)</pre></div></div></div></div></div>"
      ],
      "text/plain": [
       "DecisionTreeRegressor(max_depth=15, random_state=42)"
      ]
     },
     "execution_count": 3,
     "metadata": {},
     "output_type": "execute_result"
    }
   ],
   "source": [
    "from sklearn.tree import DecisionTreeRegressor\n",
    "\n",
    "model_dt = DecisionTreeRegressor(max_depth=15, random_state=42)\n",
    "model_dt.fit(explanatory, target)"
   ]
  },
  {
   "cell_type": "markdown",
   "id": "4fa4765c-d301-446d-84da-e8c85d58a3ab",
   "metadata": {},
   "source": [
    "### Calculate the predictions"
   ]
  },
  {
   "cell_type": "code",
   "execution_count": 4,
   "id": "c5e79919-a359-4611-9e87-df537595c457",
   "metadata": {},
   "outputs": [
    {
     "data": {
      "text/plain": [
       "array([-0.08195771, -0.33014797, -0.08195771, ..., -0.31510252,\n",
       "       -0.31510252, -3.8957311 ])"
      ]
     },
     "execution_count": 4,
     "metadata": {},
     "output_type": "execute_result"
    }
   ],
   "source": [
    "y_pred = model_dt.predict(X=explanatory)\n",
    "y_pred"
   ]
  },
  {
   "cell_type": "code",
   "execution_count": 5,
   "id": "7edb688f-a8e4-4fad-a020-7d5ccbb1a2c3",
   "metadata": {},
   "outputs": [
    {
     "data": {
      "text/html": [
       "<div>\n",
       "<style scoped>\n",
       "    .dataframe tbody tr th:only-of-type {\n",
       "        vertical-align: middle;\n",
       "    }\n",
       "\n",
       "    .dataframe tbody tr th {\n",
       "        vertical-align: top;\n",
       "    }\n",
       "\n",
       "    .dataframe thead th {\n",
       "        text-align: right;\n",
       "    }\n",
       "</style>\n",
       "<table border=\"1\" class=\"dataframe\">\n",
       "  <thead>\n",
       "    <tr style=\"text-align: right;\">\n",
       "      <th></th>\n",
       "      <th>change_tomorrow</th>\n",
       "      <th>prediction</th>\n",
       "    </tr>\n",
       "    <tr>\n",
       "      <th>Date</th>\n",
       "      <th></th>\n",
       "      <th></th>\n",
       "    </tr>\n",
       "  </thead>\n",
       "  <tbody>\n",
       "    <tr>\n",
       "      <th>2016-12-08</th>\n",
       "      <td>-1.549143</td>\n",
       "      <td>-0.081958</td>\n",
       "    </tr>\n",
       "    <tr>\n",
       "      <th>2016-12-09</th>\n",
       "      <td>-0.321692</td>\n",
       "      <td>-0.330148</td>\n",
       "    </tr>\n",
       "    <tr>\n",
       "      <th>...</th>\n",
       "      <td>...</td>\n",
       "      <td>...</td>\n",
       "    </tr>\n",
       "    <tr>\n",
       "      <th>2023-03-14</th>\n",
       "      <td>-1.751806</td>\n",
       "      <td>-0.315103</td>\n",
       "    </tr>\n",
       "    <tr>\n",
       "      <th>2023-03-15</th>\n",
       "      <td>-3.895731</td>\n",
       "      <td>-3.895731</td>\n",
       "    </tr>\n",
       "  </tbody>\n",
       "</table>\n",
       "<p>1576 rows × 2 columns</p>\n",
       "</div>"
      ],
      "text/plain": [
       "            change_tomorrow  prediction\n",
       "Date                                   \n",
       "2016-12-08        -1.549143   -0.081958\n",
       "2016-12-09        -0.321692   -0.330148\n",
       "...                     ...         ...\n",
       "2023-03-14        -1.751806   -0.315103\n",
       "2023-03-15        -3.895731   -3.895731\n",
       "\n",
       "[1576 rows x 2 columns]"
      ]
     },
     "execution_count": 5,
     "metadata": {},
     "output_type": "execute_result"
    }
   ],
   "source": [
    "df_predictions = df[['change_tomorrow']].copy()\n",
    "df_predictions['prediction'] = y_pred\n",
    "df_predictions"
   ]
  },
  {
   "cell_type": "code",
   "execution_count": 6,
   "id": "b2bf0c4f-9dea-440c-a2d6-71c67e4e97de",
   "metadata": {},
   "outputs": [
    {
     "data": {
      "text/plain": [
       "array([-0.08195771, -0.33014797, -0.08195771, ..., -0.31510252,\n",
       "       -0.31510252, -3.8957311 ])"
      ]
     },
     "execution_count": 6,
     "metadata": {},
     "output_type": "execute_result"
    }
   ],
   "source": [
    "y_pred = model_dt.predict(X=explanatory)\n",
    "y_pred"
   ]
  },
  {
   "cell_type": "code",
   "execution_count": 7,
   "id": "628b2abd-be1c-44a8-b99d-7e8e2db77631",
   "metadata": {},
   "outputs": [
    {
     "data": {
      "text/html": [
       "<div>\n",
       "<style scoped>\n",
       "    .dataframe tbody tr th:only-of-type {\n",
       "        vertical-align: middle;\n",
       "    }\n",
       "\n",
       "    .dataframe tbody tr th {\n",
       "        vertical-align: top;\n",
       "    }\n",
       "\n",
       "    .dataframe thead th {\n",
       "        text-align: right;\n",
       "    }\n",
       "</style>\n",
       "<table border=\"1\" class=\"dataframe\">\n",
       "  <thead>\n",
       "    <tr style=\"text-align: right;\">\n",
       "      <th></th>\n",
       "      <th>change_tomorrow</th>\n",
       "      <th>prediction</th>\n",
       "      <th>prediction_proba</th>\n",
       "    </tr>\n",
       "    <tr>\n",
       "      <th>Date</th>\n",
       "      <th></th>\n",
       "      <th></th>\n",
       "      <th></th>\n",
       "    </tr>\n",
       "  </thead>\n",
       "  <tbody>\n",
       "    <tr>\n",
       "      <th>2016-12-08</th>\n",
       "      <td>-1.549143</td>\n",
       "      <td>-0.081958</td>\n",
       "      <td>-0.081958</td>\n",
       "    </tr>\n",
       "    <tr>\n",
       "      <th>2016-12-09</th>\n",
       "      <td>-0.321692</td>\n",
       "      <td>-0.330148</td>\n",
       "      <td>-0.330148</td>\n",
       "    </tr>\n",
       "    <tr>\n",
       "      <th>...</th>\n",
       "      <td>...</td>\n",
       "      <td>...</td>\n",
       "      <td>...</td>\n",
       "    </tr>\n",
       "    <tr>\n",
       "      <th>2023-03-14</th>\n",
       "      <td>-1.751806</td>\n",
       "      <td>-0.315103</td>\n",
       "      <td>-0.315103</td>\n",
       "    </tr>\n",
       "    <tr>\n",
       "      <th>2023-03-15</th>\n",
       "      <td>-3.895731</td>\n",
       "      <td>-3.895731</td>\n",
       "      <td>-3.895731</td>\n",
       "    </tr>\n",
       "  </tbody>\n",
       "</table>\n",
       "<p>1576 rows × 3 columns</p>\n",
       "</div>"
      ],
      "text/plain": [
       "            change_tomorrow  prediction  prediction_proba\n",
       "Date                                                     \n",
       "2016-12-08        -1.549143   -0.081958         -0.081958\n",
       "2016-12-09        -0.321692   -0.330148         -0.330148\n",
       "...                     ...         ...               ...\n",
       "2023-03-14        -1.751806   -0.315103         -0.315103\n",
       "2023-03-15        -3.895731   -3.895731         -3.895731\n",
       "\n",
       "[1576 rows x 3 columns]"
      ]
     },
     "execution_count": 7,
     "metadata": {},
     "output_type": "execute_result"
    }
   ],
   "source": [
    "df_predictions['prediction_proba'] = y_pred\n",
    "df_predictions"
   ]
  },
  {
   "cell_type": "code",
   "execution_count": 8,
   "id": "0cd6c777-ca7d-4f9f-8817-33ee23165c6e",
   "metadata": {},
   "outputs": [
    {
     "data": {
      "text/plain": [
       "<Axes: >"
      ]
     },
     "execution_count": 8,
     "metadata": {},
     "output_type": "execute_result"
    },
    {
     "data": {
      "image/png": "[encoded data removed]",
      "text/plain": [
       "<Figure size 600x337.5 with 1 Axes>"
      ]
     },
     "metadata": {},
     "output_type": "display_data"
    }
   ],
   "source": [
    "df_predictions.prediction_proba.hist(bins=50)"
   ]
  },
  {
   "cell_type": "markdown",
   "id": "0bde5323-6294-4687-a176-42d45235e857",
   "metadata": {},
   "source": [
    "### Evaluate the model: compare predictions with the reality"
   ]
  },
  {
   "cell_type": "code",
   "execution_count": 9,
   "id": "24aa8ea8-0832-4071-a46e-4fca2d40a4b9",
   "metadata": {},
   "outputs": [
    {
     "data": {
      "text/plain": [
       "0.5431115880820776"
      ]
     },
     "execution_count": 9,
     "metadata": {},
     "output_type": "execute_result"
    }
   ],
   "source": [
    "model_dt.score(X=explanatory, y=target)"
   ]
  },
  {
   "attachments": {},
   "cell_type": "markdown",
   "id": "6727b5de-2ebf-4c69-b394-3d05b810c4e3",
   "metadata": {},
   "source": [
    "## Walk Forward Validation"
   ]
  },
  {
   "attachments": {},
   "cell_type": "markdown",
   "id": "4166d62a-ce20-4983-a6e1-a21104257369",
   "metadata": {},
   "source": [
    "### How `TimeSeriesSplit` works"
   ]
  },
  {
   "cell_type": "markdown",
   "id": "b010243b-6cfe-4c53-a89d-cf02875a1cad",
   "metadata": {},
   "source": [
    "- Imagine we are in 2020, we can only train the data up until 31st December 2020, how good would have the model been going foward?"
   ]
  },
  {
   "cell_type": "code",
   "execution_count": 10,
   "id": "580137e8",
   "metadata": {},
   "outputs": [],
   "source": [
    "from sklearn.model_selection import TimeSeriesSplit"
   ]
  },
  {
   "cell_type": "code",
   "execution_count": 11,
   "id": "5c5c4a25",
   "metadata": {},
   "outputs": [],
   "source": [
    "ts = TimeSeriesSplit(max_train_size=600, test_size=200)"
   ]
  },
  {
   "cell_type": "code",
   "execution_count": 12,
   "id": "d8a46710",
   "metadata": {},
   "outputs": [],
   "source": [
    "list_df_train = []\n",
    "list_df_test = []\n",
    "\n",
    "for index_train, index_test in ts.split(df):\n",
    "    list_df_train.append(df.iloc[index_train])\n",
    "    list_df_test.append(df.iloc[index_test])"
   ]
  },
  {
   "cell_type": "code",
   "execution_count": 13,
   "id": "8a44acd5",
   "metadata": {},
   "outputs": [
    {
     "data": {
      "text/html": [
       "<div>\n",
       "<style scoped>\n",
       "    .dataframe tbody tr th:only-of-type {\n",
       "        vertical-align: middle;\n",
       "    }\n",
       "\n",
       "    .dataframe tbody tr th {\n",
       "        vertical-align: top;\n",
       "    }\n",
       "\n",
       "    .dataframe thead th {\n",
       "        text-align: right;\n",
       "    }\n",
       "</style>\n",
       "<table border=\"1\" class=\"dataframe\">\n",
       "  <thead>\n",
       "    <tr style=\"text-align: right;\">\n",
       "      <th></th>\n",
       "      <th>Open</th>\n",
       "      <th>High</th>\n",
       "      <th>Low</th>\n",
       "      <th>Close</th>\n",
       "      <th>Volume</th>\n",
       "      <th>change_tomorrow</th>\n",
       "    </tr>\n",
       "    <tr>\n",
       "      <th>Date</th>\n",
       "      <th></th>\n",
       "      <th></th>\n",
       "      <th></th>\n",
       "      <th></th>\n",
       "      <th></th>\n",
       "      <th></th>\n",
       "    </tr>\n",
       "  </thead>\n",
       "  <tbody>\n",
       "    <tr>\n",
       "      <th>2016-12-08</th>\n",
       "      <td>56.325228</td>\n",
       "      <td>56.582507</td>\n",
       "      <td>55.902560</td>\n",
       "      <td>56.058762</td>\n",
       "      <td>21220800</td>\n",
       "      <td>-1.549143</td>\n",
       "    </tr>\n",
       "    <tr>\n",
       "      <th>2016-12-09</th>\n",
       "      <td>56.214968</td>\n",
       "      <td>56.959234</td>\n",
       "      <td>56.169027</td>\n",
       "      <td>56.940857</td>\n",
       "      <td>27349400</td>\n",
       "      <td>-0.321692</td>\n",
       "    </tr>\n",
       "    <tr>\n",
       "      <th>...</th>\n",
       "      <td>...</td>\n",
       "      <td>...</td>\n",
       "      <td>...</td>\n",
       "      <td>...</td>\n",
       "      <td>...</td>\n",
       "      <td>...</td>\n",
       "    </tr>\n",
       "    <tr>\n",
       "      <th>2019-03-25</th>\n",
       "      <td>111.863188</td>\n",
       "      <td>113.254764</td>\n",
       "      <td>111.632861</td>\n",
       "      <td>112.918869</td>\n",
       "      <td>27067100</td>\n",
       "      <td>-0.212035</td>\n",
       "    </tr>\n",
       "    <tr>\n",
       "      <th>2019-03-26</th>\n",
       "      <td>113.840195</td>\n",
       "      <td>113.926565</td>\n",
       "      <td>112.141514</td>\n",
       "      <td>113.158806</td>\n",
       "      <td>26097700</td>\n",
       "      <td>0.976298</td>\n",
       "    </tr>\n",
       "  </tbody>\n",
       "</table>\n",
       "<p>576 rows × 6 columns</p>\n",
       "</div>"
      ],
      "text/plain": [
       "                  Open        High         Low       Close    Volume  \\\n",
       "Date                                                                   \n",
       "2016-12-08   56.325228   56.582507   55.902560   56.058762  21220800   \n",
       "2016-12-09   56.214968   56.959234   56.169027   56.940857  27349400   \n",
       "...                ...         ...         ...         ...       ...   \n",
       "2019-03-25  111.863188  113.254764  111.632861  112.918869  27067100   \n",
       "2019-03-26  113.840195  113.926565  112.141514  113.158806  26097700   \n",
       "\n",
       "            change_tomorrow  \n",
       "Date                         \n",
       "2016-12-08        -1.549143  \n",
       "2016-12-09        -0.321692  \n",
       "...                     ...  \n",
       "2019-03-25        -0.212035  \n",
       "2019-03-26         0.976298  \n",
       "\n",
       "[576 rows x 6 columns]"
      ]
     },
     "execution_count": 13,
     "metadata": {},
     "output_type": "execute_result"
    }
   ],
   "source": [
    "list_df_train[0]"
   ]
  },
  {
   "cell_type": "code",
   "execution_count": 14,
   "id": "d6d0865b",
   "metadata": {},
   "outputs": [
    {
     "data": {
      "text/html": [
       "<div>\n",
       "<style scoped>\n",
       "    .dataframe tbody tr th:only-of-type {\n",
       "        vertical-align: middle;\n",
       "    }\n",
       "\n",
       "    .dataframe tbody tr th {\n",
       "        vertical-align: top;\n",
       "    }\n",
       "\n",
       "    .dataframe thead th {\n",
       "        text-align: right;\n",
       "    }\n",
       "</style>\n",
       "<table border=\"1\" class=\"dataframe\">\n",
       "  <thead>\n",
       "    <tr style=\"text-align: right;\">\n",
       "      <th></th>\n",
       "      <th>Open</th>\n",
       "      <th>High</th>\n",
       "      <th>Low</th>\n",
       "      <th>Close</th>\n",
       "      <th>Volume</th>\n",
       "      <th>change_tomorrow</th>\n",
       "    </tr>\n",
       "    <tr>\n",
       "      <th>Date</th>\n",
       "      <th></th>\n",
       "      <th></th>\n",
       "      <th></th>\n",
       "      <th></th>\n",
       "      <th></th>\n",
       "      <th></th>\n",
       "    </tr>\n",
       "  </thead>\n",
       "  <tbody>\n",
       "    <tr>\n",
       "      <th>2019-03-27</th>\n",
       "      <td>113.129993</td>\n",
       "      <td>113.446697</td>\n",
       "      <td>110.865089</td>\n",
       "      <td>112.064720</td>\n",
       "      <td>22733400</td>\n",
       "      <td>-0.136831</td>\n",
       "    </tr>\n",
       "    <tr>\n",
       "      <th>2019-03-28</th>\n",
       "      <td>112.707721</td>\n",
       "      <td>112.842079</td>\n",
       "      <td>111.450503</td>\n",
       "      <td>112.218269</td>\n",
       "      <td>18334800</td>\n",
       "      <td>-0.856386</td>\n",
       "    </tr>\n",
       "    <tr>\n",
       "      <th>...</th>\n",
       "      <td>...</td>\n",
       "      <td>...</td>\n",
       "      <td>...</td>\n",
       "      <td>...</td>\n",
       "      <td>...</td>\n",
       "      <td>...</td>\n",
       "    </tr>\n",
       "    <tr>\n",
       "      <th>2020-01-08</th>\n",
       "      <td>154.122900</td>\n",
       "      <td>155.936349</td>\n",
       "      <td>153.172546</td>\n",
       "      <td>155.247818</td>\n",
       "      <td>27746500</td>\n",
       "      <td>-1.233897</td>\n",
       "    </tr>\n",
       "    <tr>\n",
       "      <th>2020-01-09</th>\n",
       "      <td>156.944909</td>\n",
       "      <td>157.313420</td>\n",
       "      <td>156.159411</td>\n",
       "      <td>157.187347</td>\n",
       "      <td>21385000</td>\n",
       "      <td>0.464873</td>\n",
       "    </tr>\n",
       "  </tbody>\n",
       "</table>\n",
       "<p>200 rows × 6 columns</p>\n",
       "</div>"
      ],
      "text/plain": [
       "                  Open        High         Low       Close    Volume  \\\n",
       "Date                                                                   \n",
       "2019-03-27  113.129993  113.446697  110.865089  112.064720  22733400   \n",
       "2019-03-28  112.707721  112.842079  111.450503  112.218269  18334800   \n",
       "...                ...         ...         ...         ...       ...   \n",
       "2020-01-08  154.122900  155.936349  153.172546  155.247818  27746500   \n",
       "2020-01-09  156.944909  157.313420  156.159411  157.187347  21385000   \n",
       "\n",
       "            change_tomorrow  \n",
       "Date                         \n",
       "2019-03-27        -0.136831  \n",
       "2019-03-28        -0.856386  \n",
       "...                     ...  \n",
       "2020-01-08        -1.233897  \n",
       "2020-01-09         0.464873  \n",
       "\n",
       "[200 rows x 6 columns]"
      ]
     },
     "execution_count": 14,
     "metadata": {},
     "output_type": "execute_result"
    }
   ],
   "source": [
    "list_df_test[0]"
   ]
  },
  {
   "cell_type": "code",
   "execution_count": 15,
   "id": "a3ccf1cc",
   "metadata": {},
   "outputs": [
    {
     "data": {
      "text/html": [
       "<div>\n",
       "<style scoped>\n",
       "    .dataframe tbody tr th:only-of-type {\n",
       "        vertical-align: middle;\n",
       "    }\n",
       "\n",
       "    .dataframe tbody tr th {\n",
       "        vertical-align: top;\n",
       "    }\n",
       "\n",
       "    .dataframe thead th {\n",
       "        text-align: right;\n",
       "    }\n",
       "</style>\n",
       "<table border=\"1\" class=\"dataframe\">\n",
       "  <thead>\n",
       "    <tr style=\"text-align: right;\">\n",
       "      <th></th>\n",
       "      <th>Open</th>\n",
       "      <th>High</th>\n",
       "      <th>Low</th>\n",
       "      <th>Close</th>\n",
       "      <th>Volume</th>\n",
       "      <th>change_tomorrow</th>\n",
       "    </tr>\n",
       "    <tr>\n",
       "      <th>Date</th>\n",
       "      <th></th>\n",
       "      <th></th>\n",
       "      <th></th>\n",
       "      <th></th>\n",
       "      <th></th>\n",
       "      <th></th>\n",
       "    </tr>\n",
       "  </thead>\n",
       "  <tbody>\n",
       "    <tr>\n",
       "      <th>2017-08-22</th>\n",
       "      <td>67.623224</td>\n",
       "      <td>68.455078</td>\n",
       "      <td>67.623224</td>\n",
       "      <td>68.380310</td>\n",
       "      <td>14343700</td>\n",
       "      <td>0.605051</td>\n",
       "    </tr>\n",
       "    <tr>\n",
       "      <th>2017-08-23</th>\n",
       "      <td>68.193381</td>\n",
       "      <td>68.370970</td>\n",
       "      <td>67.791474</td>\n",
       "      <td>67.969063</td>\n",
       "      <td>13766500</td>\n",
       "      <td>0.041291</td>\n",
       "    </tr>\n",
       "    <tr>\n",
       "      <th>...</th>\n",
       "      <td>...</td>\n",
       "      <td>...</td>\n",
       "      <td>...</td>\n",
       "      <td>...</td>\n",
       "      <td>...</td>\n",
       "      <td>...</td>\n",
       "    </tr>\n",
       "    <tr>\n",
       "      <th>2020-01-08</th>\n",
       "      <td>154.122900</td>\n",
       "      <td>155.936349</td>\n",
       "      <td>153.172546</td>\n",
       "      <td>155.247818</td>\n",
       "      <td>27746500</td>\n",
       "      <td>-1.233897</td>\n",
       "    </tr>\n",
       "    <tr>\n",
       "      <th>2020-01-09</th>\n",
       "      <td>156.944909</td>\n",
       "      <td>157.313420</td>\n",
       "      <td>156.159411</td>\n",
       "      <td>157.187347</td>\n",
       "      <td>21385000</td>\n",
       "      <td>0.464873</td>\n",
       "    </tr>\n",
       "  </tbody>\n",
       "</table>\n",
       "<p>600 rows × 6 columns</p>\n",
       "</div>"
      ],
      "text/plain": [
       "                  Open        High         Low       Close    Volume  \\\n",
       "Date                                                                   \n",
       "2017-08-22   67.623224   68.455078   67.623224   68.380310  14343700   \n",
       "2017-08-23   68.193381   68.370970   67.791474   67.969063  13766500   \n",
       "...                ...         ...         ...         ...       ...   \n",
       "2020-01-08  154.122900  155.936349  153.172546  155.247818  27746500   \n",
       "2020-01-09  156.944909  157.313420  156.159411  157.187347  21385000   \n",
       "\n",
       "            change_tomorrow  \n",
       "Date                         \n",
       "2017-08-22         0.605051  \n",
       "2017-08-23         0.041291  \n",
       "...                     ...  \n",
       "2020-01-08        -1.233897  \n",
       "2020-01-09         0.464873  \n",
       "\n",
       "[600 rows x 6 columns]"
      ]
     },
     "execution_count": 15,
     "metadata": {},
     "output_type": "execute_result"
    }
   ],
   "source": [
    "list_df_train[1]"
   ]
  },
  {
   "cell_type": "code",
   "execution_count": 16,
   "id": "6ec84031",
   "metadata": {},
   "outputs": [
    {
     "data": {
      "text/html": [
       "<div>\n",
       "<style scoped>\n",
       "    .dataframe tbody tr th:only-of-type {\n",
       "        vertical-align: middle;\n",
       "    }\n",
       "\n",
       "    .dataframe tbody tr th {\n",
       "        vertical-align: top;\n",
       "    }\n",
       "\n",
       "    .dataframe thead th {\n",
       "        text-align: right;\n",
       "    }\n",
       "</style>\n",
       "<table border=\"1\" class=\"dataframe\">\n",
       "  <thead>\n",
       "    <tr style=\"text-align: right;\">\n",
       "      <th></th>\n",
       "      <th>Open</th>\n",
       "      <th>High</th>\n",
       "      <th>Low</th>\n",
       "      <th>Close</th>\n",
       "      <th>Volume</th>\n",
       "      <th>change_tomorrow</th>\n",
       "    </tr>\n",
       "    <tr>\n",
       "      <th>Date</th>\n",
       "      <th></th>\n",
       "      <th></th>\n",
       "      <th></th>\n",
       "      <th></th>\n",
       "      <th></th>\n",
       "      <th></th>\n",
       "    </tr>\n",
       "  </thead>\n",
       "  <tbody>\n",
       "    <tr>\n",
       "      <th>2020-01-10</th>\n",
       "      <td>157.895252</td>\n",
       "      <td>158.283148</td>\n",
       "      <td>156.304843</td>\n",
       "      <td>156.460007</td>\n",
       "      <td>20725900</td>\n",
       "      <td>-1.188150</td>\n",
       "    </tr>\n",
       "    <tr>\n",
       "      <th>2020-01-13</th>\n",
       "      <td>156.867310</td>\n",
       "      <td>158.370431</td>\n",
       "      <td>156.382433</td>\n",
       "      <td>158.341339</td>\n",
       "      <td>21626500</td>\n",
       "      <td>0.709280</td>\n",
       "    </tr>\n",
       "    <tr>\n",
       "      <th>...</th>\n",
       "      <td>...</td>\n",
       "      <td>...</td>\n",
       "      <td>...</td>\n",
       "      <td>...</td>\n",
       "      <td>...</td>\n",
       "      <td>...</td>\n",
       "    </tr>\n",
       "    <tr>\n",
       "      <th>2020-10-22</th>\n",
       "      <td>209.109629</td>\n",
       "      <td>211.191639</td>\n",
       "      <td>206.929880</td>\n",
       "      <td>210.048004</td>\n",
       "      <td>22351500</td>\n",
       "      <td>-0.619714</td>\n",
       "    </tr>\n",
       "    <tr>\n",
       "      <th>2020-10-23</th>\n",
       "      <td>210.184860</td>\n",
       "      <td>211.406695</td>\n",
       "      <td>208.357001</td>\n",
       "      <td>211.357819</td>\n",
       "      <td>18879600</td>\n",
       "      <td>2.927458</td>\n",
       "    </tr>\n",
       "  </tbody>\n",
       "</table>\n",
       "<p>200 rows × 6 columns</p>\n",
       "</div>"
      ],
      "text/plain": [
       "                  Open        High         Low       Close    Volume  \\\n",
       "Date                                                                   \n",
       "2020-01-10  157.895252  158.283148  156.304843  156.460007  20725900   \n",
       "2020-01-13  156.867310  158.370431  156.382433  158.341339  21626500   \n",
       "...                ...         ...         ...         ...       ...   \n",
       "2020-10-22  209.109629  211.191639  206.929880  210.048004  22351500   \n",
       "2020-10-23  210.184860  211.406695  208.357001  211.357819  18879600   \n",
       "\n",
       "            change_tomorrow  \n",
       "Date                         \n",
       "2020-01-10        -1.188150  \n",
       "2020-01-13         0.709280  \n",
       "...                     ...  \n",
       "2020-10-22        -0.619714  \n",
       "2020-10-23         2.927458  \n",
       "\n",
       "[200 rows x 6 columns]"
      ]
     },
     "execution_count": 16,
     "metadata": {},
     "output_type": "execute_result"
    }
   ],
   "source": [
    "list_df_test[1]"
   ]
  },
  {
   "cell_type": "markdown",
   "id": "be425be6",
   "metadata": {},
   "source": [
    "### Separate the data with X and y for training and testing"
   ]
  },
  {
   "cell_type": "code",
   "execution_count": 17,
   "id": "4e8193a2",
   "metadata": {},
   "outputs": [],
   "source": [
    "y = df.change_tomorrow\n",
    "X = df.drop(columns='change_tomorrow')"
   ]
  },
  {
   "cell_type": "code",
   "execution_count": 18,
   "id": "dc340c09",
   "metadata": {},
   "outputs": [],
   "source": [
    "list_df_train = []\n",
    "list_df_test = []\n",
    "\n",
    "for index_train, index_test in ts.split(df):\n",
    "    X_train, y_train = X.iloc[index_train], y.iloc[index_train]\n",
    "    X_test, y_test = X.iloc[index_test], y.iloc[index_test]\n"
   ]
  },
  {
   "attachments": {},
   "cell_type": "markdown",
   "id": "cc103240",
   "metadata": {},
   "source": [
    "### Simulate one computation of the ML model\n",
    "\n",
    "- Compute the model\n",
    "- Calculate predictions on the test set\n",
    "- Evaluate how good the model is"
   ]
  },
  {
   "cell_type": "code",
   "execution_count": 19,
   "id": "411f911f",
   "metadata": {},
   "outputs": [],
   "source": [
    "model_dt = DecisionTreeRegressor(max_depth=15, random_state=42)"
   ]
  },
  {
   "cell_type": "code",
   "execution_count": 20,
   "id": "af9fbfb2",
   "metadata": {},
   "outputs": [
    {
     "data": {
      "text/html": [
       "<style>#sk-container-id-2 {color: black;background-color: white;}#sk-container-id-2 pre{padding: 0;}#sk-container-id-2 div.sk-toggleable {background-color: white;}#sk-container-id-2 label.sk-toggleable__label {cursor: pointer;display: block;width: 100%;margin-bottom: 0;padding: 0.3em;box-sizing: border-box;text-align: center;}#sk-container-id-2 label.sk-toggleable__label-arrow:before {content: \"▸\";float: left;margin-right: 0.25em;color: #696969;}#sk-container-id-2 label.sk-toggleable__label-arrow:hover:before {color: black;}#sk-container-id-2 div.sk-estimator:hover label.sk-toggleable__label-arrow:before {color: black;}#sk-container-id-2 div.sk-toggleable__content {max-height: 0;max-width: 0;overflow: hidden;text-align: left;background-color: #f0f8ff;}#sk-container-id-2 div.sk-toggleable__content pre {margin: 0.2em;color: black;border-radius: 0.25em;background-color: #f0f8ff;}#sk-container-id-2 input.sk-toggleable__control:checked~div.sk-toggleable__content {max-height: 200px;max-width: 100%;overflow: auto;}#sk-container-id-2 input.sk-toggleable__control:checked~label.sk-toggleable__label-arrow:before {content: \"▾\";}#sk-container-id-2 div.sk-estimator input.sk-toggleable__control:checked~label.sk-toggleable__label {background-color: #d4ebff;}#sk-container-id-2 div.sk-label input.sk-toggleable__control:checked~label.sk-toggleable__label {background-color: #d4ebff;}#sk-container-id-2 input.sk-hidden--visually {border: 0;clip: rect(1px 1px 1px 1px);clip: rect(1px, 1px, 1px, 1px);height: 1px;margin: -1px;overflow: hidden;padding: 0;position: absolute;width: 1px;}#sk-container-id-2 div.sk-estimator {font-family: monospace;background-color: #f0f8ff;border: 1px dotted black;border-radius: 0.25em;box-sizing: border-box;margin-bottom: 0.5em;}#sk-container-id-2 div.sk-estimator:hover {background-color: #d4ebff;}#sk-container-id-2 div.sk-parallel-item::after {content: \"\";width: 100%;border-bottom: 1px solid gray;flex-grow: 1;}#sk-container-id-2 div.sk-label:hover label.sk-toggleable__label {background-color: #d4ebff;}#sk-container-id-2 div.sk-serial::before {content: \"\";position: absolute;border-left: 1px solid gray;box-sizing: border-box;top: 0;bottom: 0;left: 50%;z-index: 0;}#sk-container-id-2 div.sk-serial {display: flex;flex-direction: column;align-items: center;background-color: white;padding-right: 0.2em;padding-left: 0.2em;position: relative;}#sk-container-id-2 div.sk-item {position: relative;z-index: 1;}#sk-container-id-2 div.sk-parallel {display: flex;align-items: stretch;justify-content: center;background-color: white;position: relative;}#sk-container-id-2 div.sk-item::before, #sk-container-id-2 div.sk-parallel-item::before {content: \"\";position: absolute;border-left: 1px solid gray;box-sizing: border-box;top: 0;bottom: 0;left: 50%;z-index: -1;}#sk-container-id-2 div.sk-parallel-item {display: flex;flex-direction: column;z-index: 1;position: relative;background-color: white;}#sk-container-id-2 div.sk-parallel-item:first-child::after {align-self: flex-end;width: 50%;}#sk-container-id-2 div.sk-parallel-item:last-child::after {align-self: flex-start;width: 50%;}#sk-container-id-2 div.sk-parallel-item:only-child::after {width: 0;}#sk-container-id-2 div.sk-dashed-wrapped {border: 1px dashed gray;margin: 0 0.4em 0.5em 0.4em;box-sizing: border-box;padding-bottom: 0.4em;background-color: white;}#sk-container-id-2 div.sk-label label {font-family: monospace;font-weight: bold;display: inline-block;line-height: 1.2em;}#sk-container-id-2 div.sk-label-container {text-align: center;}#sk-container-id-2 div.sk-container {/* jupyter's `normalize.less` sets `[hidden] { display: none; }` but bootstrap.min.css set `[hidden] { display: none !important; }` so we also need the `!important` here to be able to override the default hidden behavior on the sphinx rendered scikit-learn.org. See: https://github.com/scikit-learn/scikit-learn/issues/21755 */display: inline-block !important;position: relative;}#sk-container-id-2 div.sk-text-repr-fallback {display: none;}</style><div id=\"sk-container-id-2\" class=\"sk-top-container\"><div class=\"sk-text-repr-fallback\"><pre>DecisionTreeRegressor(max_depth=15, random_state=42)</pre><b>In a Jupyter environment, please rerun this cell to show the HTML representation or trust the notebook. <br />On GitHub, the HTML representation is unable to render, please try loading this page with nbviewer.org.</b></div><div class=\"sk-container\" hidden><div class=\"sk-item\"><div class=\"sk-estimator sk-toggleable\"><input class=\"sk-toggleable__control sk-hidden--visually\" id=\"sk-estimator-id-2\" type=\"checkbox\" checked><label for=\"sk-estimator-id-2\" class=\"sk-toggleable__label sk-toggleable__label-arrow\">DecisionTreeRegressor</label><div class=\"sk-toggleable__content\"><pre>DecisionTreeRegressor(max_depth=15, random_state=42)</pre></div></div></div></div></div>"
      ],
      "text/plain": [
       "DecisionTreeRegressor(max_depth=15, random_state=42)"
      ]
     },
     "execution_count": 20,
     "metadata": {},
     "output_type": "execute_result"
    }
   ],
   "source": [
    "model_dt.fit(X_train, y_train)"
   ]
  },
  {
   "cell_type": "code",
   "execution_count": 21,
   "id": "3b917e18",
   "metadata": {},
   "outputs": [],
   "source": [
    "y_pred = model_dt.predict(X_test)"
   ]
  },
  {
   "cell_type": "code",
   "execution_count": 23,
   "id": "0b383789",
   "metadata": {},
   "outputs": [],
   "source": [
    "from sklearn.metrics import mean_squared_error"
   ]
  },
  {
   "cell_type": "code",
   "execution_count": 24,
   "id": "6bf2f8c7",
   "metadata": {},
   "outputs": [],
   "source": [
    "error = mean_squared_error(y_test, y_pred)"
   ]
  },
  {
   "attachments": {},
   "cell_type": "markdown",
   "id": "1dcffb9d",
   "metadata": {},
   "source": [
    "### Add the procedure inside the for loop"
   ]
  },
  {
   "cell_type": "code",
   "execution_count": 25,
   "id": "9d693c23",
   "metadata": {},
   "outputs": [],
   "source": [
    "model_dt = DecisionTreeRegressor(max_depth=15, random_state=42)\n",
    "\n",
    "list_df_train = []\n",
    "list_df_test = []\n",
    "\n",
    "list_y_preds =  []\n",
    "list_errors = []\n",
    "\n",
    "for index_train, index_test in ts.split(df):\n",
    "    X_train, y_train = X.iloc[index_train], y.iloc[index_train]\n",
    "    X_test, y_test = X.iloc[index_test], y.iloc[index_test]\n",
    "    \n",
    "    model_dt.fit(X_train, y_train)\n",
    "    y_pred = model_dt.predict(X_test)\n",
    "    error = mean_squared_error(y_test, y_pred)\n",
    "\n",
    "    list_y_preds.append(y_pred)\n",
    "    list_errors.append(error)"
   ]
  },
  {
   "cell_type": "code",
   "execution_count": 26,
   "id": "7f1345e5",
   "metadata": {},
   "outputs": [
    {
     "data": {
      "text/plain": [
       "[9.37728476681153,\n",
       " 11.93334281841984,\n",
       " 33.695782586127095,\n",
       " 4.759242524119641,\n",
       " 4.713438223196523]"
      ]
     },
     "execution_count": 26,
     "metadata": {},
     "output_type": "execute_result"
    }
   ],
   "source": [
    "list_errors"
   ]
  },
  {
   "cell_type": "code",
   "execution_count": 28,
   "id": "46159515",
   "metadata": {},
   "outputs": [],
   "source": [
    "import  numpy as np"
   ]
  },
  {
   "cell_type": "code",
   "execution_count": 29,
   "id": "969031ca",
   "metadata": {},
   "outputs": [
    {
     "data": {
      "text/plain": [
       "12.895818183734926"
      ]
     },
     "execution_count": 29,
     "metadata": {},
     "output_type": "execute_result"
    }
   ],
   "source": [
    "np.mean(list_errors)"
   ]
  },
  {
   "cell_type": "code",
   "execution_count": 30,
   "id": "43494e70",
   "metadata": {},
   "outputs": [],
   "source": [
    "from backtesting import Strategy"
   ]
  },
  {
   "cell_type": "code",
   "execution_count": 31,
   "id": "be4c0515",
   "metadata": {},
   "outputs": [],
   "source": [
    "class Regression(Strategy):\n",
    "    model = None\n",
    "\n",
    "    limit_buy = 1\n",
    "    limit_sell = -5\n",
    "\n",
    "    N_TRAIN = 600\n",
    "\n",
    "    def init(self):\n",
    "        self.already_bought = False\n",
    "        \n",
    "        X_train = self.data.df.iloc[:self.N_TRAIN, :-1]\n",
    "        y_train = self.data.df.iloc[:self.N_TRAIN, -1]\n",
    "\n",
    "        self.model.fit(X_train, y_train)\n",
    "\n",
    "    def next(self):\n",
    "        explanatory_today = self.data.df.iloc[[-1], :-1]\n",
    "        forecast_tomorrow = self.model.predict(explanatory_today)[0]\n",
    "        \n",
    "        # conditions to sell or buy\n",
    "        if forecast_tomorrow > self.limit_buy and self.already_bought == False:\n",
    "            self.buy()\n",
    "            self.already_bought = True\n",
    "        elif forecast_tomorrow < self.limit_sell and self.already_bought == True:\n",
    "            self.sell()\n",
    "            self.already_bought = False\n",
    "        else:\n",
    "            pass"
   ]
  },
  {
   "cell_type": "code",
   "execution_count": 32,
   "id": "e9ef7039",
   "metadata": {},
   "outputs": [],
   "source": [
    "class WalkForward(Regression):\n",
    "    def next(self):\n",
    "\n",
    "        if len(self.data) < self.N_TRAIN:\n",
    "            return # we don't take any action and move on to the following day\n",
    "        \n",
    "        if len(self.data) % 200 != 0:\n",
    "            return super().next()\n",
    "        \n",
    "        X_train = self.data.df.iloc[-self.N_TRAIN:, :-1]\n",
    "        y_train = self.data.df.iloc[-self.N_TRAIN:, -1]\n",
    "\n",
    "        self.model.fit(X_train, y_train)\n",
    "\n",
    "        super().next()"
   ]
  },
  {
   "cell_type": "code",
   "execution_count": 33,
   "id": "dd460401",
   "metadata": {},
   "outputs": [],
   "source": [
    "from backtesting import Backtest"
   ]
  },
  {
   "cell_type": "code",
   "execution_count": 34,
   "id": "dd0170ce",
   "metadata": {},
   "outputs": [],
   "source": [
    "bt = Backtest(df, WalkForward, cash=10000, commission=.002, exclusive_orders=True)"
   ]
  },
  {
   "cell_type": "code",
   "execution_count": 35,
   "id": "9b9ba87b",
   "metadata": {},
   "outputs": [],
   "source": [
    "model_dt = DecisionTreeRegressor(max_depth=15, random_state=42)"
   ]
  },
  {
   "cell_type": "code",
   "execution_count": 36,
   "id": "99f625f8",
   "metadata": {},
   "outputs": [],
   "source": [
    "result = bt.run(N_TRAIN = 600, model = model_dt, limit_buy = 1, limit_sell = -5)"
   ]
  },
  {
   "cell_type": "code",
   "execution_count": 37,
   "id": "7bdcf937",
   "metadata": {},
   "outputs": [
    {
     "data": {
      "text/html": [
       "<style type=\"text/css\">\n",
       "</style>\n",
       "<table id=\"T_e30f9\">\n",
       "  <thead>\n",
       "    <tr>\n",
       "      <th class=\"blank level0\" >&nbsp;</th>\n",
       "      <th id=\"T_e30f9_level0_col0\" class=\"col_heading level0 col0\" >Value</th>\n",
       "    </tr>\n",
       "  </thead>\n",
       "  <tbody>\n",
       "    <tr>\n",
       "      <th id=\"T_e30f9_level0_row0\" class=\"row_heading level0 row0\" >Start</th>\n",
       "      <td id=\"T_e30f9_row0_col0\" class=\"data row0 col0\" >2016-12-08 00:00:00</td>\n",
       "    </tr>\n",
       "    <tr>\n",
       "      <th id=\"T_e30f9_level0_row1\" class=\"row_heading level0 row1\" >End</th>\n",
       "      <td id=\"T_e30f9_row1_col0\" class=\"data row1 col0\" >2023-03-15 00:00:00</td>\n",
       "    </tr>\n",
       "    <tr>\n",
       "      <th id=\"T_e30f9_level0_row2\" class=\"row_heading level0 row2\" >Duration</th>\n",
       "      <td id=\"T_e30f9_row2_col0\" class=\"data row2 col0\" >2288 days 00:00:00</td>\n",
       "    </tr>\n",
       "    <tr>\n",
       "      <th id=\"T_e30f9_level0_row3\" class=\"row_heading level0 row3\" >Exposure Time [%]</th>\n",
       "      <td id=\"T_e30f9_row3_col0\" class=\"data row3 col0\" >61.928934</td>\n",
       "    </tr>\n",
       "    <tr>\n",
       "      <th id=\"T_e30f9_level0_row4\" class=\"row_heading level0 row4\" >Equity Final [$]</th>\n",
       "      <td id=\"T_e30f9_row4_col0\" class=\"data row4 col0\" >20622.276216</td>\n",
       "    </tr>\n",
       "    <tr>\n",
       "      <th id=\"T_e30f9_level0_row5\" class=\"row_heading level0 row5\" >Equity Peak [$]</th>\n",
       "      <td id=\"T_e30f9_row5_col0\" class=\"data row5 col0\" >26870.822297</td>\n",
       "    </tr>\n",
       "    <tr>\n",
       "      <th id=\"T_e30f9_level0_row6\" class=\"row_heading level0 row6\" >Return [%]</th>\n",
       "      <td id=\"T_e30f9_row6_col0\" class=\"data row6 col0\" >106.222762</td>\n",
       "    </tr>\n",
       "  </tbody>\n",
       "</table>\n"
      ],
      "text/plain": [
       "<pandas.io.formats.style.Styler at 0x28200e950>"
      ]
     },
     "execution_count": 37,
     "metadata": {},
     "output_type": "execute_result"
    }
   ],
   "source": [
    "result.to_frame(name='Value').loc[:'Return [%]'].style"
   ]
  },
  {
   "cell_type": "code",
   "execution_count": 233,
   "id": "8e0af3ae",
   "metadata": {},
   "outputs": [
    {
     "data": {
      "text/html": [
       "<div style=\"display: table;\"><div style=\"display: table-row;\"><div style=\"display: table-cell;\"><b title=\"bokeh.models.layouts.Row\">Row</b>(</div><div style=\"display: table-cell;\">id&nbsp;=&nbsp;'3447', <span id=\"4061\" style=\"cursor: pointer;\">&hellip;)</span></div></div><div class=\"4060\" style=\"display: none;\"><div style=\"display: table-cell;\"></div><div style=\"display: table-cell;\">align&nbsp;=&nbsp;'start',</div></div><div class=\"4060\" style=\"display: none;\"><div style=\"display: table-cell;\"></div><div style=\"display: table-cell;\">aspect_ratio&nbsp;=&nbsp;None,</div></div><div class=\"4060\" style=\"display: none;\"><div style=\"display: table-cell;\"></div><div style=\"display: table-cell;\">background&nbsp;=&nbsp;None,</div></div><div class=\"4060\" style=\"display: none;\"><div style=\"display: table-cell;\"></div><div style=\"display: table-cell;\">children&nbsp;=&nbsp;[GridBox(id='3444', ...), ToolbarBox(id='3446', ...)],</div></div><div class=\"4060\" style=\"display: none;\"><div style=\"display: table-cell;\"></div><div style=\"display: table-cell;\">cols&nbsp;=&nbsp;'auto',</div></div><div class=\"4060\" style=\"display: none;\"><div style=\"display: table-cell;\"></div><div style=\"display: table-cell;\">css_classes&nbsp;=&nbsp;[],</div></div><div class=\"4060\" style=\"display: none;\"><div style=\"display: table-cell;\"></div><div style=\"display: table-cell;\">disabled&nbsp;=&nbsp;False,</div></div><div class=\"4060\" style=\"display: none;\"><div style=\"display: table-cell;\"></div><div style=\"display: table-cell;\">height&nbsp;=&nbsp;None,</div></div><div class=\"4060\" style=\"display: none;\"><div style=\"display: table-cell;\"></div><div style=\"display: table-cell;\">height_policy&nbsp;=&nbsp;'auto',</div></div><div class=\"4060\" style=\"display: none;\"><div style=\"display: table-cell;\"></div><div style=\"display: table-cell;\">js_event_callbacks&nbsp;=&nbsp;{},</div></div><div class=\"4060\" style=\"display: none;\"><div style=\"display: table-cell;\"></div><div style=\"display: table-cell;\">js_property_callbacks&nbsp;=&nbsp;{},</div></div><div class=\"4060\" style=\"display: none;\"><div style=\"display: table-cell;\"></div><div style=\"display: table-cell;\">margin&nbsp;=&nbsp;(0, 0, 0, 0),</div></div><div class=\"4060\" style=\"display: none;\"><div style=\"display: table-cell;\"></div><div style=\"display: table-cell;\">max_height&nbsp;=&nbsp;None,</div></div><div class=\"4060\" style=\"display: none;\"><div style=\"display: table-cell;\"></div><div style=\"display: table-cell;\">max_width&nbsp;=&nbsp;None,</div></div><div class=\"4060\" style=\"display: none;\"><div style=\"display: table-cell;\"></div><div style=\"display: table-cell;\">min_height&nbsp;=&nbsp;None,</div></div><div class=\"4060\" style=\"display: none;\"><div style=\"display: table-cell;\"></div><div style=\"display: table-cell;\">min_width&nbsp;=&nbsp;None,</div></div><div class=\"4060\" style=\"display: none;\"><div style=\"display: table-cell;\"></div><div style=\"display: table-cell;\">name&nbsp;=&nbsp;None,</div></div><div class=\"4060\" style=\"display: none;\"><div style=\"display: table-cell;\"></div><div style=\"display: table-cell;\">sizing_mode&nbsp;=&nbsp;'stretch_width',</div></div><div class=\"4060\" style=\"display: none;\"><div style=\"display: table-cell;\"></div><div style=\"display: table-cell;\">spacing&nbsp;=&nbsp;0,</div></div><div class=\"4060\" style=\"display: none;\"><div style=\"display: table-cell;\"></div><div style=\"display: table-cell;\">subscribed_events&nbsp;=&nbsp;[],</div></div><div class=\"4060\" style=\"display: none;\"><div style=\"display: table-cell;\"></div><div style=\"display: table-cell;\">syncable&nbsp;=&nbsp;True,</div></div><div class=\"4060\" style=\"display: none;\"><div style=\"display: table-cell;\"></div><div style=\"display: table-cell;\">tags&nbsp;=&nbsp;[],</div></div><div class=\"4060\" style=\"display: none;\"><div style=\"display: table-cell;\"></div><div style=\"display: table-cell;\">visible&nbsp;=&nbsp;True,</div></div><div class=\"4060\" style=\"display: none;\"><div style=\"display: table-cell;\"></div><div style=\"display: table-cell;\">width&nbsp;=&nbsp;None,</div></div><div class=\"4060\" style=\"display: none;\"><div style=\"display: table-cell;\"></div><div style=\"display: table-cell;\">width_policy&nbsp;=&nbsp;'auto')</div></div></div>\n",
       "<script>\n",
       "(function() {\n",
       "  let expanded = false;\n",
       "  const ellipsis = document.getElementById(\"4061\");\n",
       "  ellipsis.addEventListener(\"click\", function() {\n",
       "    const rows = document.getElementsByClassName(\"4060\");\n",
       "    for (let i = 0; i < rows.length; i++) {\n",
       "      const el = rows[i];\n",
       "      el.style.display = expanded ? \"none\" : \"table-row\";\n",
       "    }\n",
       "    ellipsis.innerHTML = expanded ? \"&hellip;)\" : \"&lsaquo;&lsaquo;&lsaquo;\";\n",
       "    expanded = !expanded;\n",
       "  });\n",
       "})();\n",
       "</script>\n"
      ],
      "text/plain": [
       "Row(id='3447', ...)"
      ]
     },
     "execution_count": 233,
     "metadata": {},
     "output_type": "execute_result"
    }
   ],
   "source": [
    "bt.plot(filename='a.html')"
   ]
  },
  {
   "cell_type": "code",
   "execution_count": 38,
   "id": "f8de4527",
   "metadata": {},
   "outputs": [],
   "source": [
    "import multiprocessing as mp\n",
    "mp.set_start_method('fork')"
   ]
  },
  {
   "cell_type": "code",
   "execution_count": 39,
   "id": "442cf8a2",
   "metadata": {},
   "outputs": [
    {
     "name": "stdout",
     "output_type": "stream",
     "text": [
      "CPU times: user 28.4 s, sys: 98.2 ms, total: 28.5 s\n",
      "Wall time: 28.7 s\n"
     ]
    }
   ],
   "source": [
    "%%time\n",
    "\n",
    "stats_skopt, heatmap, optimize_result = bt.optimize(\n",
    "    N_TRAIN = range(300, 1000),\n",
    "    model = [model_dt],\n",
    "    limit_buy = range(0, 5), limit_sell = range(-5, 0),\n",
    "    maximize='Return [%]',\n",
    "    max_tries=500,\n",
    "    random_state=0,\n",
    "    return_heatmap=True,\n",
    "    return_optimization=True,\n",
    "    method='skopt'\n",
    "    )"
   ]
  },
  {
   "cell_type": "code",
   "execution_count": 40,
   "id": "09f00c56",
   "metadata": {},
   "outputs": [],
   "source": [
    "dff = heatmap.reset_index()"
   ]
  },
  {
   "cell_type": "code",
   "execution_count": 41,
   "id": "2ff8b1df",
   "metadata": {},
   "outputs": [
    {
     "data": {
      "text/html": [
       "<div>\n",
       "<style scoped>\n",
       "    .dataframe tbody tr th:only-of-type {\n",
       "        vertical-align: middle;\n",
       "    }\n",
       "\n",
       "    .dataframe tbody tr th {\n",
       "        vertical-align: top;\n",
       "    }\n",
       "\n",
       "    .dataframe thead th {\n",
       "        text-align: right;\n",
       "    }\n",
       "</style>\n",
       "<table border=\"1\" class=\"dataframe\">\n",
       "  <thead>\n",
       "    <tr style=\"text-align: right;\">\n",
       "      <th></th>\n",
       "      <th>N_TRAIN</th>\n",
       "      <th>model</th>\n",
       "      <th>limit_buy</th>\n",
       "      <th>limit_sell</th>\n",
       "      <th>Return [%]</th>\n",
       "    </tr>\n",
       "  </thead>\n",
       "  <tbody>\n",
       "    <tr>\n",
       "      <th>16</th>\n",
       "      <td>324</td>\n",
       "      <td>DecisionTreeRegressor(max_depth=15, random_sta...</td>\n",
       "      <td>4</td>\n",
       "      <td>-4</td>\n",
       "      <td>232.951342</td>\n",
       "    </tr>\n",
       "    <tr>\n",
       "      <th>15</th>\n",
       "      <td>323</td>\n",
       "      <td>DecisionTreeRegressor(max_depth=15, random_sta...</td>\n",
       "      <td>4</td>\n",
       "      <td>-4</td>\n",
       "      <td>232.797776</td>\n",
       "    </tr>\n",
       "    <tr>\n",
       "      <th>13</th>\n",
       "      <td>322</td>\n",
       "      <td>DecisionTreeRegressor(max_depth=15, random_sta...</td>\n",
       "      <td>4</td>\n",
       "      <td>-4</td>\n",
       "      <td>232.797776</td>\n",
       "    </tr>\n",
       "    <tr>\n",
       "      <th>20</th>\n",
       "      <td>329</td>\n",
       "      <td>DecisionTreeRegressor(max_depth=15, random_sta...</td>\n",
       "      <td>1</td>\n",
       "      <td>-5</td>\n",
       "      <td>225.423667</td>\n",
       "    </tr>\n",
       "    <tr>\n",
       "      <th>9</th>\n",
       "      <td>315</td>\n",
       "      <td>DecisionTreeRegressor(max_depth=15, random_sta...</td>\n",
       "      <td>4</td>\n",
       "      <td>-4</td>\n",
       "      <td>223.634951</td>\n",
       "    </tr>\n",
       "    <tr>\n",
       "      <th>11</th>\n",
       "      <td>320</td>\n",
       "      <td>DecisionTreeRegressor(max_depth=15, random_sta...</td>\n",
       "      <td>4</td>\n",
       "      <td>-4</td>\n",
       "      <td>222.283006</td>\n",
       "    </tr>\n",
       "    <tr>\n",
       "      <th>3</th>\n",
       "      <td>303</td>\n",
       "      <td>DecisionTreeRegressor(max_depth=15, random_sta...</td>\n",
       "      <td>4</td>\n",
       "      <td>-4</td>\n",
       "      <td>220.893393</td>\n",
       "    </tr>\n",
       "    <tr>\n",
       "      <th>1</th>\n",
       "      <td>300</td>\n",
       "      <td>DecisionTreeRegressor(max_depth=15, random_sta...</td>\n",
       "      <td>4</td>\n",
       "      <td>-4</td>\n",
       "      <td>220.755709</td>\n",
       "    </tr>\n",
       "    <tr>\n",
       "      <th>23</th>\n",
       "      <td>335</td>\n",
       "      <td>DecisionTreeRegressor(max_depth=15, random_sta...</td>\n",
       "      <td>0</td>\n",
       "      <td>-5</td>\n",
       "      <td>220.663415</td>\n",
       "    </tr>\n",
       "    <tr>\n",
       "      <th>4</th>\n",
       "      <td>304</td>\n",
       "      <td>DecisionTreeRegressor(max_depth=15, random_sta...</td>\n",
       "      <td>3</td>\n",
       "      <td>-4</td>\n",
       "      <td>217.410508</td>\n",
       "    </tr>\n",
       "  </tbody>\n",
       "</table>\n",
       "</div>"
      ],
      "text/plain": [
       "    N_TRAIN                                              model  limit_buy  \\\n",
       "16      324  DecisionTreeRegressor(max_depth=15, random_sta...          4   \n",
       "15      323  DecisionTreeRegressor(max_depth=15, random_sta...          4   \n",
       "13      322  DecisionTreeRegressor(max_depth=15, random_sta...          4   \n",
       "20      329  DecisionTreeRegressor(max_depth=15, random_sta...          1   \n",
       "9       315  DecisionTreeRegressor(max_depth=15, random_sta...          4   \n",
       "11      320  DecisionTreeRegressor(max_depth=15, random_sta...          4   \n",
       "3       303  DecisionTreeRegressor(max_depth=15, random_sta...          4   \n",
       "1       300  DecisionTreeRegressor(max_depth=15, random_sta...          4   \n",
       "23      335  DecisionTreeRegressor(max_depth=15, random_sta...          0   \n",
       "4       304  DecisionTreeRegressor(max_depth=15, random_sta...          3   \n",
       "\n",
       "    limit_sell  Return [%]  \n",
       "16          -4  232.951342  \n",
       "15          -4  232.797776  \n",
       "13          -4  232.797776  \n",
       "20          -5  225.423667  \n",
       "9           -4  223.634951  \n",
       "11          -4  222.283006  \n",
       "3           -4  220.893393  \n",
       "1           -4  220.755709  \n",
       "23          -5  220.663415  \n",
       "4           -4  217.410508  "
      ]
     },
     "execution_count": 41,
     "metadata": {},
     "output_type": "execute_result"
    }
   ],
   "source": [
    "dff.sort_values('Return [%]', ascending=False).head(10)"
   ]
  },
  {
   "cell_type": "code",
   "execution_count": 239,
   "id": "51e7fee3",
   "metadata": {},
   "outputs": [],
   "source": [
    "result = bt.run(N_TRAIN=200, model=model_dt, limit_buy=0, limit_sell=-4)"
   ]
  },
  {
   "cell_type": "code",
   "execution_count": 185,
   "id": "2aff3402",
   "metadata": {},
   "outputs": [
    {
     "data": {
      "text/html": [
       "<div style=\"display: table;\"><div style=\"display: table-row;\"><div style=\"display: table-cell;\"><b title=\"bokeh.models.layouts.Row\">Row</b>(</div><div style=\"display: table-cell;\">id&nbsp;=&nbsp;'2427', <span id=\"3041\" style=\"cursor: pointer;\">&hellip;)</span></div></div><div class=\"3040\" style=\"display: none;\"><div style=\"display: table-cell;\"></div><div style=\"display: table-cell;\">align&nbsp;=&nbsp;'start',</div></div><div class=\"3040\" style=\"display: none;\"><div style=\"display: table-cell;\"></div><div style=\"display: table-cell;\">aspect_ratio&nbsp;=&nbsp;None,</div></div><div class=\"3040\" style=\"display: none;\"><div style=\"display: table-cell;\"></div><div style=\"display: table-cell;\">background&nbsp;=&nbsp;None,</div></div><div class=\"3040\" style=\"display: none;\"><div style=\"display: table-cell;\"></div><div style=\"display: table-cell;\">children&nbsp;=&nbsp;[GridBox(id='2424', ...), ToolbarBox(id='2426', ...)],</div></div><div class=\"3040\" style=\"display: none;\"><div style=\"display: table-cell;\"></div><div style=\"display: table-cell;\">cols&nbsp;=&nbsp;'auto',</div></div><div class=\"3040\" style=\"display: none;\"><div style=\"display: table-cell;\"></div><div style=\"display: table-cell;\">css_classes&nbsp;=&nbsp;[],</div></div><div class=\"3040\" style=\"display: none;\"><div style=\"display: table-cell;\"></div><div style=\"display: table-cell;\">disabled&nbsp;=&nbsp;False,</div></div><div class=\"3040\" style=\"display: none;\"><div style=\"display: table-cell;\"></div><div style=\"display: table-cell;\">height&nbsp;=&nbsp;None,</div></div><div class=\"3040\" style=\"display: none;\"><div style=\"display: table-cell;\"></div><div style=\"display: table-cell;\">height_policy&nbsp;=&nbsp;'auto',</div></div><div class=\"3040\" style=\"display: none;\"><div style=\"display: table-cell;\"></div><div style=\"display: table-cell;\">js_event_callbacks&nbsp;=&nbsp;{},</div></div><div class=\"3040\" style=\"display: none;\"><div style=\"display: table-cell;\"></div><div style=\"display: table-cell;\">js_property_callbacks&nbsp;=&nbsp;{},</div></div><div class=\"3040\" style=\"display: none;\"><div style=\"display: table-cell;\"></div><div style=\"display: table-cell;\">margin&nbsp;=&nbsp;(0, 0, 0, 0),</div></div><div class=\"3040\" style=\"display: none;\"><div style=\"display: table-cell;\"></div><div style=\"display: table-cell;\">max_height&nbsp;=&nbsp;None,</div></div><div class=\"3040\" style=\"display: none;\"><div style=\"display: table-cell;\"></div><div style=\"display: table-cell;\">max_width&nbsp;=&nbsp;None,</div></div><div class=\"3040\" style=\"display: none;\"><div style=\"display: table-cell;\"></div><div style=\"display: table-cell;\">min_height&nbsp;=&nbsp;None,</div></div><div class=\"3040\" style=\"display: none;\"><div style=\"display: table-cell;\"></div><div style=\"display: table-cell;\">min_width&nbsp;=&nbsp;None,</div></div><div class=\"3040\" style=\"display: none;\"><div style=\"display: table-cell;\"></div><div style=\"display: table-cell;\">name&nbsp;=&nbsp;None,</div></div><div class=\"3040\" style=\"display: none;\"><div style=\"display: table-cell;\"></div><div style=\"display: table-cell;\">sizing_mode&nbsp;=&nbsp;'stretch_width',</div></div><div class=\"3040\" style=\"display: none;\"><div style=\"display: table-cell;\"></div><div style=\"display: table-cell;\">spacing&nbsp;=&nbsp;0,</div></div><div class=\"3040\" style=\"display: none;\"><div style=\"display: table-cell;\"></div><div style=\"display: table-cell;\">subscribed_events&nbsp;=&nbsp;[],</div></div><div class=\"3040\" style=\"display: none;\"><div style=\"display: table-cell;\"></div><div style=\"display: table-cell;\">syncable&nbsp;=&nbsp;True,</div></div><div class=\"3040\" style=\"display: none;\"><div style=\"display: table-cell;\"></div><div style=\"display: table-cell;\">tags&nbsp;=&nbsp;[],</div></div><div class=\"3040\" style=\"display: none;\"><div style=\"display: table-cell;\"></div><div style=\"display: table-cell;\">visible&nbsp;=&nbsp;True,</div></div><div class=\"3040\" style=\"display: none;\"><div style=\"display: table-cell;\"></div><div style=\"display: table-cell;\">width&nbsp;=&nbsp;None,</div></div><div class=\"3040\" style=\"display: none;\"><div style=\"display: table-cell;\"></div><div style=\"display: table-cell;\">width_policy&nbsp;=&nbsp;'auto')</div></div></div>\n",
       "<script>\n",
       "(function() {\n",
       "  let expanded = false;\n",
       "  const ellipsis = document.getElementById(\"3041\");\n",
       "  ellipsis.addEventListener(\"click\", function() {\n",
       "    const rows = document.getElementsByClassName(\"3040\");\n",
       "    for (let i = 0; i < rows.length; i++) {\n",
       "      const el = rows[i];\n",
       "      el.style.display = expanded ? \"none\" : \"table-row\";\n",
       "    }\n",
       "    ellipsis.innerHTML = expanded ? \"&hellip;)\" : \"&lsaquo;&lsaquo;&lsaquo;\";\n",
       "    expanded = !expanded;\n",
       "  });\n",
       "})();\n",
       "</script>\n"
      ],
      "text/plain": [
       "Row(id='2427', ...)"
      ]
     },
     "execution_count": 185,
     "metadata": {},
     "output_type": "execute_result"
    }
   ],
   "source": [
    "bt.plot(filename='a.html')"
   ]
  },
  {
   "cell_type": "code",
   "execution_count": 240,
   "id": "6fbffe2f",
   "metadata": {},
   "outputs": [
    {
     "data": {
      "text/html": [
       "<style type=\"text/css\">\n",
       "</style>\n",
       "<table id=\"T_53f81\">\n",
       "  <thead>\n",
       "    <tr>\n",
       "      <th class=\"blank level0\" >&nbsp;</th>\n",
       "      <th id=\"T_53f81_level0_col0\" class=\"col_heading level0 col0\" >Value</th>\n",
       "    </tr>\n",
       "  </thead>\n",
       "  <tbody>\n",
       "    <tr>\n",
       "      <th id=\"T_53f81_level0_row0\" class=\"row_heading level0 row0\" >Start</th>\n",
       "      <td id=\"T_53f81_row0_col0\" class=\"data row0 col0\" >2016-12-08 00:00:00</td>\n",
       "    </tr>\n",
       "    <tr>\n",
       "      <th id=\"T_53f81_level0_row1\" class=\"row_heading level0 row1\" >End</th>\n",
       "      <td id=\"T_53f81_row1_col0\" class=\"data row1 col0\" >2023-03-15 00:00:00</td>\n",
       "    </tr>\n",
       "    <tr>\n",
       "      <th id=\"T_53f81_level0_row2\" class=\"row_heading level0 row2\" >Duration</th>\n",
       "      <td id=\"T_53f81_row2_col0\" class=\"data row2 col0\" >2288 days 00:00:00</td>\n",
       "    </tr>\n",
       "    <tr>\n",
       "      <th id=\"T_53f81_level0_row3\" class=\"row_heading level0 row3\" >Exposure Time [%]</th>\n",
       "      <td id=\"T_53f81_row3_col0\" class=\"data row3 col0\" >87.182741</td>\n",
       "    </tr>\n",
       "    <tr>\n",
       "      <th id=\"T_53f81_level0_row4\" class=\"row_heading level0 row4\" >Equity Final [$]</th>\n",
       "      <td id=\"T_53f81_row4_col0\" class=\"data row4 col0\" >41086.639496</td>\n",
       "    </tr>\n",
       "    <tr>\n",
       "      <th id=\"T_53f81_level0_row5\" class=\"row_heading level0 row5\" >Equity Peak [$]</th>\n",
       "      <td id=\"T_53f81_row5_col0\" class=\"data row5 col0\" >49179.374064</td>\n",
       "    </tr>\n",
       "    <tr>\n",
       "      <th id=\"T_53f81_level0_row6\" class=\"row_heading level0 row6\" >Return [%]</th>\n",
       "      <td id=\"T_53f81_row6_col0\" class=\"data row6 col0\" >310.866395</td>\n",
       "    </tr>\n",
       "  </tbody>\n",
       "</table>\n"
      ],
      "text/plain": [
       "<pandas.io.formats.style.Styler at 0x28dface50>"
      ]
     },
     "execution_count": 240,
     "metadata": {},
     "output_type": "execute_result"
    }
   ],
   "source": [
    "result.to_frame(name='Value').loc[:'Return [%]'].style"
   ]
  }
 ],
 "metadata": {
  "kernelspec": {
   "display_name": "backtesting",
   "language": "python",
   "name": "python3"
  },
  "language_info": {
   "codemirror_mode": {
    "name": "ipython",
    "version": 3
   },
   "file_extension": ".py",
   "mimetype": "text/x-python",
   "name": "python",
   "nbconvert_exporter": "python",
   "pygments_lexer": "ipython3",
   "version": "3.11.0"
  }
 },
 "nbformat": 4,
 "nbformat_minor": 5
}
