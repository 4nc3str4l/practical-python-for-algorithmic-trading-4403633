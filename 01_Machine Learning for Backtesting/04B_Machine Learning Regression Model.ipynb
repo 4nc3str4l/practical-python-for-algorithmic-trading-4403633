{
 "cells": [
  {
   "cell_type": "markdown",
   "id": "19042295-3a3e-4e14-afc4-201c9e34e999",
   "metadata": {},
   "source": [
    "# Machine Learning Regression Model"
   ]
  },
  {
   "cell_type": "markdown",
   "id": "726ed1f5-8f2e-4e72-9e96-643fec7ca11a",
   "metadata": {},
   "source": [
    "## Load the data"
   ]
  },
  {
   "cell_type": "code",
   "execution_count": 1,
   "id": "9f9d6220-8756-4c2b-9b36-834614882376",
   "metadata": {},
   "outputs": [
    {
     "data": {
      "text/html": [
       "<div>\n",
       "<style scoped>\n",
       "    .dataframe tbody tr th:only-of-type {\n",
       "        vertical-align: middle;\n",
       "    }\n",
       "\n",
       "    .dataframe tbody tr th {\n",
       "        vertical-align: top;\n",
       "    }\n",
       "\n",
       "    .dataframe thead th {\n",
       "        text-align: right;\n",
       "    }\n",
       "</style>\n",
       "<table border=\"1\" class=\"dataframe\">\n",
       "  <thead>\n",
       "    <tr style=\"text-align: right;\">\n",
       "      <th></th>\n",
       "      <th>Open</th>\n",
       "      <th>High</th>\n",
       "      <th>Low</th>\n",
       "      <th>Close</th>\n",
       "      <th>Volume</th>\n",
       "      <th>diff_daily_1</th>\n",
       "      <th>diff_daily_1_direction</th>\n",
       "      <th>buy</th>\n",
       "      <th>buy_sell</th>\n",
       "    </tr>\n",
       "    <tr>\n",
       "      <th>Date</th>\n",
       "      <th></th>\n",
       "      <th></th>\n",
       "      <th></th>\n",
       "      <th></th>\n",
       "      <th></th>\n",
       "      <th></th>\n",
       "      <th></th>\n",
       "      <th></th>\n",
       "      <th></th>\n",
       "    </tr>\n",
       "  </thead>\n",
       "  <tbody>\n",
       "    <tr>\n",
       "      <th>2016-12-09</th>\n",
       "      <td>56.214968</td>\n",
       "      <td>56.959234</td>\n",
       "      <td>56.169027</td>\n",
       "      <td>56.940857</td>\n",
       "      <td>27349400</td>\n",
       "      <td>0.882095</td>\n",
       "      <td>UP</td>\n",
       "      <td>1</td>\n",
       "      <td>1</td>\n",
       "    </tr>\n",
       "    <tr>\n",
       "      <th>2016-12-12</th>\n",
       "      <td>56.803028</td>\n",
       "      <td>57.244073</td>\n",
       "      <td>56.711145</td>\n",
       "      <td>57.124622</td>\n",
       "      <td>20198100</td>\n",
       "      <td>0.183765</td>\n",
       "      <td>UP</td>\n",
       "      <td>1</td>\n",
       "      <td>0</td>\n",
       "    </tr>\n",
       "    <tr>\n",
       "      <th>...</th>\n",
       "      <td>...</td>\n",
       "      <td>...</td>\n",
       "      <td>...</td>\n",
       "      <td>...</td>\n",
       "      <td>...</td>\n",
       "      <td>...</td>\n",
       "      <td>...</td>\n",
       "      <td>...</td>\n",
       "      <td>...</td>\n",
       "    </tr>\n",
       "    <tr>\n",
       "      <th>2023-03-15</th>\n",
       "      <td>259.980011</td>\n",
       "      <td>266.480011</td>\n",
       "      <td>259.209991</td>\n",
       "      <td>265.440002</td>\n",
       "      <td>46028000</td>\n",
       "      <td>4.649994</td>\n",
       "      <td>UP</td>\n",
       "      <td>1</td>\n",
       "      <td>0</td>\n",
       "    </tr>\n",
       "    <tr>\n",
       "      <th>2023-03-16</th>\n",
       "      <td>265.209991</td>\n",
       "      <td>276.559998</td>\n",
       "      <td>263.279999</td>\n",
       "      <td>276.200012</td>\n",
       "      <td>54768800</td>\n",
       "      <td>10.760010</td>\n",
       "      <td>UP</td>\n",
       "      <td>1</td>\n",
       "      <td>0</td>\n",
       "    </tr>\n",
       "  </tbody>\n",
       "</table>\n",
       "<p>1576 rows × 9 columns</p>\n",
       "</div>"
      ],
      "text/plain": [
       "                  Open        High         Low       Close    Volume  \\\n",
       "Date                                                                   \n",
       "2016-12-09   56.214968   56.959234   56.169027   56.940857  27349400   \n",
       "2016-12-12   56.803028   57.244073   56.711145   57.124622  20198100   \n",
       "...                ...         ...         ...         ...       ...   \n",
       "2023-03-15  259.980011  266.480011  259.209991  265.440002  46028000   \n",
       "2023-03-16  265.209991  276.559998  263.279999  276.200012  54768800   \n",
       "\n",
       "            diff_daily_1 diff_daily_1_direction  buy  buy_sell  \n",
       "Date                                                            \n",
       "2016-12-09      0.882095                     UP    1         1  \n",
       "2016-12-12      0.183765                     UP    1         0  \n",
       "...                  ...                    ...  ...       ...  \n",
       "2023-03-15      4.649994                     UP    1         0  \n",
       "2023-03-16     10.760010                     UP    1         0  \n",
       "\n",
       "[1576 rows x 9 columns]"
      ]
     },
     "execution_count": 1,
     "metadata": {},
     "output_type": "execute_result"
    }
   ],
   "source": [
    "import pandas as pd\n",
    "\n",
    "df = pd.read_excel('data/Stock_Microsfot_x_Linkedin_Processed.xlsx', parse_dates=['Date'], index_col=0)\n",
    "df"
   ]
  },
  {
   "cell_type": "markdown",
   "id": "71e77503-0b0d-4041-895b-f0a07a595b81",
   "metadata": {},
   "source": [
    "## Machine Learning Model"
   ]
  },
  {
   "cell_type": "markdown",
   "id": "bf95e298-19ea-4094-b3c5-bc755e69fdc3",
   "metadata": {},
   "source": [
    "### Separate the data\n",
    "\n",
    "1. Target: which variable do you want to predict?\n",
    "2. Explanatory: which variables will you use to calculate the prediction?"
   ]
  },
  {
   "cell_type": "code",
   "execution_count": 2,
   "id": "2276993f-9b26-40a9-a639-3736682f641c",
   "metadata": {},
   "outputs": [],
   "source": [
    "target = df.diff_daily_1\n",
    "explanatory = df[['Open','High','Low','Close','Volume']]"
   ]
  },
  {
   "cell_type": "markdown",
   "id": "9fc0cfb0-881f-464c-bcde-10bf38b12e19",
   "metadata": {},
   "source": [
    "### Compute the model\n",
    "\n",
    "The following model will predict the **numerical increase** of the stock for the following day.\n",
    "\n",
    "As the variable we predict is numerical, we talk about regression models. In the previous tutorial, we used a classification model since the variable we predicted was categorical (UP or DOWN)."
   ]
  },
  {
   "cell_type": "code",
   "execution_count": 3,
   "id": "ba2edbe7-7841-40dc-a26d-e03d3c2680d6",
   "metadata": {},
   "outputs": [
    {
     "data": {
      "text/html": [
       "<style>#sk-container-id-1 {color: black;background-color: white;}#sk-container-id-1 pre{padding: 0;}#sk-container-id-1 div.sk-toggleable {background-color: white;}#sk-container-id-1 label.sk-toggleable__label {cursor: pointer;display: block;width: 100%;margin-bottom: 0;padding: 0.3em;box-sizing: border-box;text-align: center;}#sk-container-id-1 label.sk-toggleable__label-arrow:before {content: \"▸\";float: left;margin-right: 0.25em;color: #696969;}#sk-container-id-1 label.sk-toggleable__label-arrow:hover:before {color: black;}#sk-container-id-1 div.sk-estimator:hover label.sk-toggleable__label-arrow:before {color: black;}#sk-container-id-1 div.sk-toggleable__content {max-height: 0;max-width: 0;overflow: hidden;text-align: left;background-color: #f0f8ff;}#sk-container-id-1 div.sk-toggleable__content pre {margin: 0.2em;color: black;border-radius: 0.25em;background-color: #f0f8ff;}#sk-container-id-1 input.sk-toggleable__control:checked~div.sk-toggleable__content {max-height: 200px;max-width: 100%;overflow: auto;}#sk-container-id-1 input.sk-toggleable__control:checked~label.sk-toggleable__label-arrow:before {content: \"▾\";}#sk-container-id-1 div.sk-estimator input.sk-toggleable__control:checked~label.sk-toggleable__label {background-color: #d4ebff;}#sk-container-id-1 div.sk-label input.sk-toggleable__control:checked~label.sk-toggleable__label {background-color: #d4ebff;}#sk-container-id-1 input.sk-hidden--visually {border: 0;clip: rect(1px 1px 1px 1px);clip: rect(1px, 1px, 1px, 1px);height: 1px;margin: -1px;overflow: hidden;padding: 0;position: absolute;width: 1px;}#sk-container-id-1 div.sk-estimator {font-family: monospace;background-color: #f0f8ff;border: 1px dotted black;border-radius: 0.25em;box-sizing: border-box;margin-bottom: 0.5em;}#sk-container-id-1 div.sk-estimator:hover {background-color: #d4ebff;}#sk-container-id-1 div.sk-parallel-item::after {content: \"\";width: 100%;border-bottom: 1px solid gray;flex-grow: 1;}#sk-container-id-1 div.sk-label:hover label.sk-toggleable__label {background-color: #d4ebff;}#sk-container-id-1 div.sk-serial::before {content: \"\";position: absolute;border-left: 1px solid gray;box-sizing: border-box;top: 0;bottom: 0;left: 50%;z-index: 0;}#sk-container-id-1 div.sk-serial {display: flex;flex-direction: column;align-items: center;background-color: white;padding-right: 0.2em;padding-left: 0.2em;position: relative;}#sk-container-id-1 div.sk-item {position: relative;z-index: 1;}#sk-container-id-1 div.sk-parallel {display: flex;align-items: stretch;justify-content: center;background-color: white;position: relative;}#sk-container-id-1 div.sk-item::before, #sk-container-id-1 div.sk-parallel-item::before {content: \"\";position: absolute;border-left: 1px solid gray;box-sizing: border-box;top: 0;bottom: 0;left: 50%;z-index: -1;}#sk-container-id-1 div.sk-parallel-item {display: flex;flex-direction: column;z-index: 1;position: relative;background-color: white;}#sk-container-id-1 div.sk-parallel-item:first-child::after {align-self: flex-end;width: 50%;}#sk-container-id-1 div.sk-parallel-item:last-child::after {align-self: flex-start;width: 50%;}#sk-container-id-1 div.sk-parallel-item:only-child::after {width: 0;}#sk-container-id-1 div.sk-dashed-wrapped {border: 1px dashed gray;margin: 0 0.4em 0.5em 0.4em;box-sizing: border-box;padding-bottom: 0.4em;background-color: white;}#sk-container-id-1 div.sk-label label {font-family: monospace;font-weight: bold;display: inline-block;line-height: 1.2em;}#sk-container-id-1 div.sk-label-container {text-align: center;}#sk-container-id-1 div.sk-container {/* jupyter's `normalize.less` sets `[hidden] { display: none; }` but bootstrap.min.css set `[hidden] { display: none !important; }` so we also need the `!important` here to be able to override the default hidden behavior on the sphinx rendered scikit-learn.org. See: https://github.com/scikit-learn/scikit-learn/issues/21755 */display: inline-block !important;position: relative;}#sk-container-id-1 div.sk-text-repr-fallback {display: none;}</style><div id=\"sk-container-id-1\" class=\"sk-top-container\"><div class=\"sk-text-repr-fallback\"><pre>DecisionTreeRegressor(max_depth=15)</pre><b>In a Jupyter environment, please rerun this cell to show the HTML representation or trust the notebook. <br />On GitHub, the HTML representation is unable to render, please try loading this page with nbviewer.org.</b></div><div class=\"sk-container\" hidden><div class=\"sk-item\"><div class=\"sk-estimator sk-toggleable\"><input class=\"sk-toggleable__control sk-hidden--visually\" id=\"sk-estimator-id-1\" type=\"checkbox\" checked><label for=\"sk-estimator-id-1\" class=\"sk-toggleable__label sk-toggleable__label-arrow\">DecisionTreeRegressor</label><div class=\"sk-toggleable__content\"><pre>DecisionTreeRegressor(max_depth=15)</pre></div></div></div></div></div>"
      ],
      "text/plain": [
       "DecisionTreeRegressor(max_depth=15)"
      ]
     },
     "execution_count": 3,
     "metadata": {},
     "output_type": "execute_result"
    }
   ],
   "source": [
    "from sklearn.tree import DecisionTreeRegressor\n",
    "\n",
    "model_dt = DecisionTreeRegressor(max_depth=15)\n",
    "model_dt.fit(explanatory, target)"
   ]
  },
  {
   "cell_type": "markdown",
   "id": "63cfdcf3-cf2a-4d4c-99e8-f31dfe43a1f9",
   "metadata": {},
   "source": [
    "### Visualize the model"
   ]
  },
  {
   "cell_type": "code",
   "execution_count": 4,
   "id": "43573809-514d-44ef-84d7-4b6236728e8e",
   "metadata": {},
   "outputs": [
    {
     "data": {
      "image/png": "[encoded data removed]",
      "text/plain": [
       "<Figure size 600x337.5 with 1 Axes>"
      ]
     },
     "metadata": {},
     "output_type": "display_data"
    }
   ],
   "source": [
    "from sklearn.tree import plot_tree\n",
    "\n",
    "plot_tree(decision_tree=model_dt, feature_names=model_dt.feature_names_in_);"
   ]
  },
  {
   "cell_type": "markdown",
   "id": "2400ea55-6f2d-4901-af7b-fea9e9c1c8ac",
   "metadata": {},
   "source": [
    "### Calculate the predictions"
   ]
  },
  {
   "cell_type": "code",
   "execution_count": 5,
   "id": "55b03be5-c322-47f0-898b-1c7d0b9a35df",
   "metadata": {},
   "outputs": [
    {
     "data": {
      "text/html": [
       "<div>\n",
       "<style scoped>\n",
       "    .dataframe tbody tr th:only-of-type {\n",
       "        vertical-align: middle;\n",
       "    }\n",
       "\n",
       "    .dataframe tbody tr th {\n",
       "        vertical-align: top;\n",
       "    }\n",
       "\n",
       "    .dataframe thead th {\n",
       "        text-align: right;\n",
       "    }\n",
       "</style>\n",
       "<table border=\"1\" class=\"dataframe\">\n",
       "  <thead>\n",
       "    <tr style=\"text-align: right;\">\n",
       "      <th></th>\n",
       "      <th>diff_daily_1</th>\n",
       "      <th>prediction</th>\n",
       "    </tr>\n",
       "    <tr>\n",
       "      <th>Date</th>\n",
       "      <th></th>\n",
       "      <th></th>\n",
       "    </tr>\n",
       "  </thead>\n",
       "  <tbody>\n",
       "    <tr>\n",
       "      <th>2016-12-09</th>\n",
       "      <td>0.882095</td>\n",
       "      <td>0.275797</td>\n",
       "    </tr>\n",
       "    <tr>\n",
       "      <th>2016-12-12</th>\n",
       "      <td>0.183765</td>\n",
       "      <td>0.275797</td>\n",
       "    </tr>\n",
       "    <tr>\n",
       "      <th>...</th>\n",
       "      <td>...</td>\n",
       "      <td>...</td>\n",
       "    </tr>\n",
       "    <tr>\n",
       "      <th>2023-03-15</th>\n",
       "      <td>4.649994</td>\n",
       "      <td>4.649994</td>\n",
       "    </tr>\n",
       "    <tr>\n",
       "      <th>2023-03-16</th>\n",
       "      <td>10.760010</td>\n",
       "      <td>10.760010</td>\n",
       "    </tr>\n",
       "  </tbody>\n",
       "</table>\n",
       "<p>1576 rows × 2 columns</p>\n",
       "</div>"
      ],
      "text/plain": [
       "            diff_daily_1  prediction\n",
       "Date                                \n",
       "2016-12-09      0.882095    0.275797\n",
       "2016-12-12      0.183765    0.275797\n",
       "...                  ...         ...\n",
       "2023-03-15      4.649994    4.649994\n",
       "2023-03-16     10.760010   10.760010\n",
       "\n",
       "[1576 rows x 2 columns]"
      ]
     },
     "execution_count": 5,
     "metadata": {},
     "output_type": "execute_result"
    }
   ],
   "source": [
    "y_pred = model_dt.predict(X=explanatory)\n",
    "df_predictions = df[['diff_daily_1']].copy()\n",
    "\n",
    "df_predictions['prediction'] = y_pred\n",
    "df_predictions"
   ]
  },
  {
   "cell_type": "markdown",
   "id": "c9283287-67e8-4f24-a051-9a02d6324372",
   "metadata": {},
   "source": [
    "### Evaluate the model: compare predictions with the reality"
   ]
  },
  {
   "cell_type": "code",
   "execution_count": 6,
   "id": "2b7e9074-85d8-4029-b51b-e56874a33852",
   "metadata": {},
   "outputs": [
    {
     "data": {
      "text/plain": [
       "-0.0"
      ]
     },
     "execution_count": 6,
     "metadata": {},
     "output_type": "execute_result"
    }
   ],
   "source": [
    "error = df_predictions.diff_daily_1 - df_predictions.prediction\n",
    "error.sum().round(2)"
   ]
  },
  {
   "cell_type": "code",
   "execution_count": 7,
   "id": "9bf62449-c951-4b07-bb1c-6a22c9733732",
   "metadata": {},
   "outputs": [
    {
     "data": {
      "text/plain": [
       "5484.450477496076"
      ]
     },
     "execution_count": 7,
     "metadata": {},
     "output_type": "execute_result"
    }
   ],
   "source": [
    "error_squared = error**2\n",
    "error_squared.sum()"
   ]
  },
  {
   "cell_type": "code",
   "execution_count": 8,
   "id": "a3283e30-4c7a-472c-a238-79a98aa8ff01",
   "metadata": {},
   "outputs": [
    {
     "data": {
      "text/plain": [
       "3.4799812674467487"
      ]
     },
     "execution_count": 8,
     "metadata": {},
     "output_type": "execute_result"
    }
   ],
   "source": [
    "error_squared.mean()"
   ]
  },
  {
   "cell_type": "code",
   "execution_count": 9,
   "id": "362abd5a-6748-455e-89c3-c39dfe2b5e69",
   "metadata": {},
   "outputs": [
    {
     "data": {
      "text/plain": [
       "3.4799812674467487"
      ]
     },
     "execution_count": 9,
     "metadata": {},
     "output_type": "execute_result"
    }
   ],
   "source": [
    "error_squared_mean = error_squared.mean()\n",
    "error_squared_mean"
   ]
  },
  {
   "cell_type": "code",
   "execution_count": 10,
   "id": "e2723a44-9ac4-4696-a98b-6a1a9503bc41",
   "metadata": {},
   "outputs": [
    {
     "data": {
      "text/plain": [
       "1.8654707897597187"
      ]
     },
     "execution_count": 10,
     "metadata": {},
     "output_type": "execute_result"
    }
   ],
   "source": [
    "import numpy as np\n",
    "\n",
    "rmse = np.sqrt(error_squared_mean)\n",
    "rmse"
   ]
  },
  {
   "cell_type": "code",
   "execution_count": 12,
   "id": "a4cb681d-4408-43f6-98e3-d9a68dbb6c3d",
   "metadata": {},
   "outputs": [
    {
     "data": {
      "text/plain": [
       "1.8660629087366234"
      ]
     },
     "execution_count": 12,
     "metadata": {},
     "output_type": "execute_result"
    }
   ],
   "source": [
    "error.std()"
   ]
  },
  {
   "cell_type": "code",
   "execution_count": null,
   "id": "44a5de72-7072-47af-abdb-63f02d447f5f",
   "metadata": {},
   "outputs": [
    {
     "data": {
      "image/png": "[encoded data removed]",
      "text/plain": [
       "<Figure size 600x337.5 with 1 Axes>"
      ]
     },
     "metadata": {},
     "output_type": "display_data"
    }
   ],
   "source": [
    "error.hist(bins=30);"
   ]
  },
  {
   "cell_type": "markdown",
   "id": "4fdd72ba-fbc8-4cf2-bf9c-91a4290bdd84",
   "metadata": {},
   "source": [
    "The Standard Deviation of the Error|The Normal Distribution\n",
    "-|-\n",
    "![](src/std.png) | ![](https://upload.wikimedia.org/wikipedia/commons/thumb/8/8c/Standard_deviation_diagram.svg/1200px-Standard_deviation_diagram.svg.png)"
   ]
  },
  {
   "cell_type": "markdown",
   "id": "cf7b5699-2309-44b1-8b26-039ab54fc1e3",
   "metadata": {},
   "source": [
    "## Save the model into a file\n",
    "\n",
    "- We'll write the numbers of the Decision Tree's mathematical equation into a file."
   ]
  },
  {
   "cell_type": "code",
   "execution_count": 110,
   "id": "47d6620b-6c85-49b3-acfe-d5ad5b202cfa",
   "metadata": {},
   "outputs": [],
   "source": [
    "import pickle"
   ]
  },
  {
   "cell_type": "code",
   "execution_count": 111,
   "id": "20db632c-098e-4c62-ad4b-53a0a9019161",
   "metadata": {},
   "outputs": [],
   "source": [
    "with open('models/model_dt_microsoft_linkedin_regression.pkl', 'wb') as f:\n",
    "    pickle.dump(model_dt, f)"
   ]
  }
 ],
 "metadata": {
  "kernelspec": {
   "display_name": "Python (backtesting)",
   "language": "python",
   "name": "backtesting"
  },
  "language_info": {
   "codemirror_mode": {
    "name": "ipython",
    "version": 3
   },
   "file_extension": ".py",
   "mimetype": "text/x-python",
   "name": "python",
   "nbconvert_exporter": "python",
   "pygments_lexer": "ipython3",
   "version": "3.11.0"
  }
 },
 "nbformat": 4,
 "nbformat_minor": 5
}
