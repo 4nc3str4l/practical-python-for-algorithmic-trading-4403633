{
 "cells": [
  {
   "cell_type": "markdown",
   "id": "b61efee3-37fe-4d3c-8119-1d05c8f262d4",
   "metadata": {},
   "source": [
    "# Data Preprocessing"
   ]
  },
  {
   "cell_type": "markdown",
   "id": "89c3da3e-7cf8-4a13-af6e-449e00657208",
   "metadata": {},
   "source": [
    "## Load the data"
   ]
  },
  {
   "cell_type": "code",
   "execution_count": null,
   "id": "688726e7-be66-47d6-b039-034607ab51f6",
   "metadata": {},
   "outputs": [],
   "source": []
  },
  {
   "cell_type": "markdown",
   "id": "04cf04bc-5f89-4362-b6e7-9bd8254a86b8",
   "metadata": {},
   "source": [
    "## Filter the data"
   ]
  },
  {
   "cell_type": "markdown",
   "id": "bae566d6-761b-4256-ac8c-5c8de59e6daf",
   "metadata": {},
   "source": [
    "![](src/MICROSOFT_LinkedIn.png)"
   ]
  },
  {
   "cell_type": "code",
   "execution_count": null,
   "id": "bc8d3610-2722-4b63-aae9-a180c919402f",
   "metadata": {},
   "outputs": [],
   "source": []
  },
  {
   "cell_type": "markdown",
   "id": "9b2bb568-db35-4eb4-a7cb-6145804b9e4a",
   "metadata": {},
   "source": [
    "## Calculate the daily difference"
   ]
  },
  {
   "cell_type": "code",
   "execution_count": null,
   "id": "0b4149e3-96fa-4068-be95-267906a2aa97",
   "metadata": {},
   "outputs": [],
   "source": []
  },
  {
   "cell_type": "markdown",
   "id": "5b295654-d546-4cfe-a6c1-9f960750bf51",
   "metadata": {},
   "source": [
    "## Did the stock go up or down?"
   ]
  },
  {
   "cell_type": "code",
   "execution_count": null,
   "id": "06bdc2fb-679f-4ef5-b2be-247b16d11549",
   "metadata": {},
   "outputs": [],
   "source": []
  },
  {
   "cell_type": "markdown",
   "id": "e33c28b0-6ac3-4e85-b29f-b8d1ad6d6593",
   "metadata": {},
   "source": [
    "## Calculate Purchase Recommendation"
   ]
  },
  {
   "cell_type": "markdown",
   "id": "9f6ae9fc-3408-442d-81f6-69b5760a91b5",
   "metadata": {},
   "source": [
    "### Buy if it goes up"
   ]
  },
  {
   "cell_type": "code",
   "execution_count": null,
   "id": "1a8bed53-465d-4e57-9d94-faea06adf501",
   "metadata": {},
   "outputs": [],
   "source": []
  },
  {
   "cell_type": "markdown",
   "id": "d293ef37-dfde-46a6-bd56-011c0818dbb6",
   "metadata": {},
   "source": [
    "### Buy if it goes and sell if down\n",
    "\n",
    "> You can only sell if you have already bought"
   ]
  },
  {
   "cell_type": "code",
   "execution_count": null,
   "id": "a122d606-e313-4611-8ef3-14546ee03893",
   "metadata": {},
   "outputs": [],
   "source": []
  },
  {
   "cell_type": "markdown",
   "id": "911f9a25-0dc0-4e2d-a39a-c0c3b33547b8",
   "metadata": {},
   "source": [
    "## Save the processed DataFrame into an Excel"
   ]
  },
  {
   "cell_type": "code",
   "execution_count": null,
   "id": "c7518a59-2e9b-4e8d-bc21-dd9f3d0a395b",
   "metadata": {},
   "outputs": [],
   "source": []
  }
 ],
 "metadata": {
  "kernelspec": {
   "display_name": "Python 3 (ipykernel)",
   "language": "python",
   "name": "python3"
  },
  "language_info": {
   "codemirror_mode": {
    "name": "ipython",
    "version": 3
   },
   "file_extension": ".py",
   "mimetype": "text/x-python",
   "name": "python",
   "nbconvert_exporter": "python",
   "pygments_lexer": "ipython3",
   "version": "3.10.6"
  }
 },
 "nbformat": 4,
 "nbformat_minor": 5
}
