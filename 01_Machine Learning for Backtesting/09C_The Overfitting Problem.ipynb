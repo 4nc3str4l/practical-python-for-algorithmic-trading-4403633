{
 "cells": [
  {
   "attachments": {},
   "cell_type": "markdown",
   "id": "ab30d554-5b8c-4742-a3f2-4780875c67f8",
   "metadata": {},
   "source": [
    "# Challenge: Overfitting on Other Datasets"
   ]
  },
  {
   "attachments": {},
   "cell_type": "markdown",
   "id": "d0594980-9456-4a1b-88ad-ba2e56232600",
   "metadata": {},
   "source": [
    "## Download data from `yfinance`"
   ]
  },
  {
   "cell_type": "code",
   "execution_count": 7,
   "id": "972674d7-af41-44f1-839e-450246e53d17",
   "metadata": {},
   "outputs": [
    {
     "name": "stdout",
     "output_type": "stream",
     "text": [
      "[*********************100%***********************]  1 of 1 completed\n"
     ]
    },
    {
     "data": {
      "text/html": [
       "<div>\n",
       "<style scoped>\n",
       "    .dataframe tbody tr th:only-of-type {\n",
       "        vertical-align: middle;\n",
       "    }\n",
       "\n",
       "    .dataframe tbody tr th {\n",
       "        vertical-align: top;\n",
       "    }\n",
       "\n",
       "    .dataframe thead th {\n",
       "        text-align: right;\n",
       "    }\n",
       "</style>\n",
       "<table border=\"1\" class=\"dataframe\">\n",
       "  <thead>\n",
       "    <tr style=\"text-align: right;\">\n",
       "      <th></th>\n",
       "      <th>Open</th>\n",
       "      <th>High</th>\n",
       "      <th>Low</th>\n",
       "      <th>Close</th>\n",
       "      <th>Adj Close</th>\n",
       "      <th>Volume</th>\n",
       "    </tr>\n",
       "    <tr>\n",
       "      <th>Date</th>\n",
       "      <th></th>\n",
       "      <th></th>\n",
       "      <th></th>\n",
       "      <th></th>\n",
       "      <th></th>\n",
       "      <th></th>\n",
       "    </tr>\n",
       "  </thead>\n",
       "  <tbody>\n",
       "    <tr>\n",
       "      <th>2012-05-18</th>\n",
       "      <td>42.049999</td>\n",
       "      <td>45.000000</td>\n",
       "      <td>38.000000</td>\n",
       "      <td>38.230000</td>\n",
       "      <td>38.230000</td>\n",
       "      <td>573576400</td>\n",
       "    </tr>\n",
       "    <tr>\n",
       "      <th>2012-05-21</th>\n",
       "      <td>36.529999</td>\n",
       "      <td>36.660000</td>\n",
       "      <td>33.000000</td>\n",
       "      <td>34.029999</td>\n",
       "      <td>34.029999</td>\n",
       "      <td>168192700</td>\n",
       "    </tr>\n",
       "    <tr>\n",
       "      <th>...</th>\n",
       "      <td>...</td>\n",
       "      <td>...</td>\n",
       "      <td>...</td>\n",
       "      <td>...</td>\n",
       "      <td>...</td>\n",
       "      <td>...</td>\n",
       "    </tr>\n",
       "    <tr>\n",
       "      <th>2023-05-11</th>\n",
       "      <td>233.050003</td>\n",
       "      <td>238.210007</td>\n",
       "      <td>232.300003</td>\n",
       "      <td>235.789993</td>\n",
       "      <td>235.789993</td>\n",
       "      <td>20449000</td>\n",
       "    </tr>\n",
       "    <tr>\n",
       "      <th>2023-05-12</th>\n",
       "      <td>236.740005</td>\n",
       "      <td>236.960007</td>\n",
       "      <td>231.449997</td>\n",
       "      <td>233.809998</td>\n",
       "      <td>233.809998</td>\n",
       "      <td>16155300</td>\n",
       "    </tr>\n",
       "  </tbody>\n",
       "</table>\n",
       "<p>2764 rows × 6 columns</p>\n",
       "</div>"
      ],
      "text/plain": [
       "                  Open        High         Low       Close   Adj Close  \\\n",
       "Date                                                                     \n",
       "2012-05-18   42.049999   45.000000   38.000000   38.230000   38.230000   \n",
       "2012-05-21   36.529999   36.660000   33.000000   34.029999   34.029999   \n",
       "...                ...         ...         ...         ...         ...   \n",
       "2023-05-11  233.050003  238.210007  232.300003  235.789993  235.789993   \n",
       "2023-05-12  236.740005  236.960007  231.449997  233.809998  233.809998   \n",
       "\n",
       "               Volume  \n",
       "Date                   \n",
       "2012-05-18  573576400  \n",
       "2012-05-21  168192700  \n",
       "...               ...  \n",
       "2023-05-11   20449000  \n",
       "2023-05-12   16155300  \n",
       "\n",
       "[2764 rows x 6 columns]"
      ]
     },
     "execution_count": 7,
     "metadata": {},
     "output_type": "execute_result"
    }
   ],
   "source": [
    "import yfinance as yf\n",
    "\n",
    "ticker = 'META'\n",
    "df = yf.download(ticker)\n",
    "df"
   ]
  },
  {
   "attachments": {},
   "cell_type": "markdown",
   "id": "53bfc2d7-c044-48a7-aa83-234c751be651",
   "metadata": {},
   "source": [
    "## Preprocess the data"
   ]
  },
  {
   "attachments": {},
   "cell_type": "markdown",
   "id": "a21b6503-58f5-4c46-844d-496fc9f523f5",
   "metadata": {},
   "source": [
    "### Filter the date range\n",
    "\n",
    "- Since 1 year ago at least"
   ]
  },
  {
   "cell_type": "code",
   "execution_count": 8,
   "id": "27a99a2a-65ef-4bce-aa6e-761e532ef65b",
   "metadata": {},
   "outputs": [],
   "source": [
    "df = df.loc['2020-01-01':].copy()"
   ]
  },
  {
   "attachments": {},
   "cell_type": "markdown",
   "id": "96f2148e-b519-4694-9033-7ece26520ddc",
   "metadata": {},
   "source": [
    "### Create the target variable\n",
    "\n",
    "#### Percentage change\n",
    "\n",
    "- Percentage change on `Adj Close` for tomorrow"
   ]
  },
  {
   "cell_type": "code",
   "execution_count": 9,
   "id": "76b43f65-bf8b-40e5-b8af-0df5f4fbe9d6",
   "metadata": {},
   "outputs": [],
   "source": [
    "df['change_tomorrow'] = df['Adj Close'].pct_change(-1)\n",
    "df.change_tomorrow = df.change_tomorrow * -1\n",
    "df.change_tomorrow = df.change_tomorrow * 100"
   ]
  },
  {
   "attachments": {},
   "cell_type": "markdown",
   "id": "e90a7218-3fa4-48e3-bf61-20a04eee45a7",
   "metadata": {},
   "source": [
    "#### Remove rows with any missing data"
   ]
  },
  {
   "cell_type": "code",
   "execution_count": 10,
   "id": "cb4a905c-6c69-4731-a4fa-54ef4dbf3e88",
   "metadata": {},
   "outputs": [
    {
     "data": {
      "text/html": [
       "<div>\n",
       "<style scoped>\n",
       "    .dataframe tbody tr th:only-of-type {\n",
       "        vertical-align: middle;\n",
       "    }\n",
       "\n",
       "    .dataframe tbody tr th {\n",
       "        vertical-align: top;\n",
       "    }\n",
       "\n",
       "    .dataframe thead th {\n",
       "        text-align: right;\n",
       "    }\n",
       "</style>\n",
       "<table border=\"1\" class=\"dataframe\">\n",
       "  <thead>\n",
       "    <tr style=\"text-align: right;\">\n",
       "      <th></th>\n",
       "      <th>Open</th>\n",
       "      <th>High</th>\n",
       "      <th>Low</th>\n",
       "      <th>Close</th>\n",
       "      <th>Adj Close</th>\n",
       "      <th>Volume</th>\n",
       "      <th>change_tomorrow</th>\n",
       "    </tr>\n",
       "    <tr>\n",
       "      <th>Date</th>\n",
       "      <th></th>\n",
       "      <th></th>\n",
       "      <th></th>\n",
       "      <th></th>\n",
       "      <th></th>\n",
       "      <th></th>\n",
       "      <th></th>\n",
       "    </tr>\n",
       "  </thead>\n",
       "  <tbody>\n",
       "    <tr>\n",
       "      <th>2020-01-02</th>\n",
       "      <td>206.750000</td>\n",
       "      <td>209.789993</td>\n",
       "      <td>206.270004</td>\n",
       "      <td>209.779999</td>\n",
       "      <td>209.779999</td>\n",
       "      <td>12077100</td>\n",
       "      <td>-0.531941</td>\n",
       "    </tr>\n",
       "    <tr>\n",
       "      <th>2020-01-03</th>\n",
       "      <td>207.210007</td>\n",
       "      <td>210.399994</td>\n",
       "      <td>206.949997</td>\n",
       "      <td>208.669998</td>\n",
       "      <td>208.669998</td>\n",
       "      <td>11188400</td>\n",
       "      <td>1.848546</td>\n",
       "    </tr>\n",
       "    <tr>\n",
       "      <th>...</th>\n",
       "      <td>...</td>\n",
       "      <td>...</td>\n",
       "      <td>...</td>\n",
       "      <td>...</td>\n",
       "      <td>...</td>\n",
       "      <td>...</td>\n",
       "      <td>...</td>\n",
       "    </tr>\n",
       "    <tr>\n",
       "      <th>2023-05-10</th>\n",
       "      <td>236.169998</td>\n",
       "      <td>236.750000</td>\n",
       "      <td>230.720001</td>\n",
       "      <td>233.080002</td>\n",
       "      <td>233.080002</td>\n",
       "      <td>19119000</td>\n",
       "      <td>1.149324</td>\n",
       "    </tr>\n",
       "    <tr>\n",
       "      <th>2023-05-11</th>\n",
       "      <td>233.050003</td>\n",
       "      <td>238.210007</td>\n",
       "      <td>232.300003</td>\n",
       "      <td>235.789993</td>\n",
       "      <td>235.789993</td>\n",
       "      <td>20449000</td>\n",
       "      <td>-0.846840</td>\n",
       "    </tr>\n",
       "  </tbody>\n",
       "</table>\n",
       "<p>846 rows × 7 columns</p>\n",
       "</div>"
      ],
      "text/plain": [
       "                  Open        High         Low       Close   Adj Close  \\\n",
       "Date                                                                     \n",
       "2020-01-02  206.750000  209.789993  206.270004  209.779999  209.779999   \n",
       "2020-01-03  207.210007  210.399994  206.949997  208.669998  208.669998   \n",
       "...                ...         ...         ...         ...         ...   \n",
       "2023-05-10  236.169998  236.750000  230.720001  233.080002  233.080002   \n",
       "2023-05-11  233.050003  238.210007  232.300003  235.789993  235.789993   \n",
       "\n",
       "              Volume  change_tomorrow  \n",
       "Date                                   \n",
       "2020-01-02  12077100        -0.531941  \n",
       "2020-01-03  11188400         1.848546  \n",
       "...              ...              ...  \n",
       "2023-05-10  19119000         1.149324  \n",
       "2023-05-11  20449000        -0.846840  \n",
       "\n",
       "[846 rows x 7 columns]"
      ]
     },
     "execution_count": 10,
     "metadata": {},
     "output_type": "execute_result"
    }
   ],
   "source": [
    "df = df.dropna().copy()\n",
    "df"
   ]
  },
  {
   "attachments": {},
   "cell_type": "markdown",
   "id": "e29ae486-480c-4a88-9bf3-9ba5e0e53f05",
   "metadata": {},
   "source": [
    "## Machine Learning modelling"
   ]
  },
  {
   "attachments": {},
   "cell_type": "markdown",
   "id": "6c2ffb1d-ffb7-427d-b2d0-6fc3dd3e98c1",
   "metadata": {},
   "source": [
    "### Feature selection\n",
    "\n",
    "1. Target: which variable do you want to predict?\n",
    "2. Explanatory: which variables will you use to calculate the prediction?"
   ]
  },
  {
   "cell_type": "code",
   "execution_count": 11,
   "id": "c36c1df6-10a7-4608-990e-2de157349247",
   "metadata": {},
   "outputs": [],
   "source": [
    "y = df.change_tomorrow\n",
    "X = df.drop(columns='change_tomorrow')"
   ]
  },
  {
   "attachments": {},
   "cell_type": "markdown",
   "id": "45b4e5fa-557b-4f24-99ab-87b0d621c4a1",
   "metadata": {},
   "source": [
    "### Train test split"
   ]
  },
  {
   "cell_type": "code",
   "execution_count": 12,
   "id": "759c1777-330d-49cd-98af-12799a9fc6ac",
   "metadata": {},
   "outputs": [],
   "source": [
    "from sklearn.model_selection import train_test_split"
   ]
  },
  {
   "cell_type": "code",
   "execution_count": null,
   "id": "fd7a22fc",
   "metadata": {},
   "outputs": [],
   "source": [
    "train_test_split"
   ]
  },
  {
   "cell_type": "code",
   "execution_count": null,
   "id": "cec60312",
   "metadata": {},
   "outputs": [],
   "source": [
    ">>> X_train, X_test, y_train, y_test = train_test_split(\n",
    "...     X, y, test_size=0.33, random_state=42)"
   ]
  },
  {
   "attachments": {},
   "cell_type": "markdown",
   "id": "a7aa2cdd-2f08-44e1-b6f6-60dfbd733a43",
   "metadata": {},
   "source": [
    "### Fit the model on train set"
   ]
  },
  {
   "cell_type": "code",
   "execution_count": null,
   "id": "e0ccf439-68ef-4fb8-91c6-b65e1f507149",
   "metadata": {},
   "outputs": [],
   "source": []
  },
  {
   "attachments": {},
   "cell_type": "markdown",
   "id": "d05d93d3-0108-4db2-8147-446e4f7acbcd",
   "metadata": {},
   "source": [
    "### Evaluate model"
   ]
  },
  {
   "attachments": {},
   "cell_type": "markdown",
   "id": "40e3e723-01ae-426b-a07f-76e6a0e86085",
   "metadata": {},
   "source": [
    "#### On test set"
   ]
  },
  {
   "cell_type": "code",
   "execution_count": null,
   "id": "963194dc-7266-44fe-bf13-44f4db7e6cbc",
   "metadata": {},
   "outputs": [],
   "source": [
    "from sklearn.metrics import ???"
   ]
  },
  {
   "cell_type": "code",
   "execution_count": null,
   "id": "e30cccf3-470f-4d9f-a085-5cc3a6b4cf42",
   "metadata": {},
   "outputs": [],
   "source": []
  },
  {
   "attachments": {},
   "cell_type": "markdown",
   "id": "dd598a11-d599-4ed8-811a-e1970a89ec21",
   "metadata": {},
   "source": [
    "#### On train set"
   ]
  },
  {
   "cell_type": "code",
   "execution_count": null,
   "id": "0e46086e-056f-4f1d-b81a-c2870a774991",
   "metadata": {},
   "outputs": [],
   "source": []
  },
  {
   "attachments": {},
   "cell_type": "markdown",
   "id": "32f4c9ba-ab10-4d00-8b45-bfda4b2298b8",
   "metadata": {},
   "source": [
    "## Backtesting"
   ]
  },
  {
   "cell_type": "code",
   "execution_count": null,
   "id": "a6aa60da-4c9a-4485-aae7-91324eed16e2",
   "metadata": {},
   "outputs": [],
   "source": [
    "from backtesting import Backtest, Strategy"
   ]
  },
  {
   "attachments": {},
   "cell_type": "markdown",
   "id": "367a9244-7176-43d2-b784-7e7db33c43df",
   "metadata": {},
   "source": [
    "### Create the `Strategy`"
   ]
  },
  {
   "cell_type": "code",
   "execution_count": null,
   "id": "05dec003-6544-4832-bec1-8195455191fd",
   "metadata": {},
   "outputs": [],
   "source": [
    "class Regression(Strategy):\n",
    "    limit_buy = 1\n",
    "    limit_sell = -5\n",
    "    \n",
    "    def init(self):\n",
    "        self.model = DecisionTreeRegressor(max_depth=15, random_state=42)\n",
    "        self.already_bought = False\n",
    "        \n",
    "        ???\n",
    "\n",
    "    def next(self):\n",
    "        explanatory_today = self.data.df.iloc[[-1], :]\n",
    "        forecast_tomorrow = self.model.predict(explanatory_today)[0]\n",
    "        \n",
    "        if forecast_tomorrow > self.limit_buy and self.already_bought == False:\n",
    "            self.buy()\n",
    "            self.already_bought = True\n",
    "        elif forecast_tomorrow < self.limit_sell and self.already_bought == True:\n",
    "            self.sell()\n",
    "            self.already_bought = False\n",
    "        else:\n",
    "            pass"
   ]
  },
  {
   "attachments": {},
   "cell_type": "markdown",
   "id": "10330a05-12bf-4c83-bf1b-3727fed50102",
   "metadata": {},
   "source": [
    "### Run the backtest on `test` data"
   ]
  },
  {
   "cell_type": "code",
   "execution_count": null,
   "id": "d0e892ec-9924-461a-ad18-09f0a1512aac",
   "metadata": {},
   "outputs": [],
   "source": [
    "bt = Backtest(???, Regression,\n",
    "              cash=10000, commission=.002, exclusive_orders=True)"
   ]
  },
  {
   "cell_type": "code",
   "execution_count": null,
   "id": "8f131c9c-3984-4d73-9e85-800d418287fc",
   "metadata": {},
   "outputs": [],
   "source": [
    "results = bt.run(limit_buy=1, limit_sell=-5)\n",
    "\n",
    "df_results_test = results.to_frame(name='Values').loc[:'Return [%]']\\\n",
    "    .rename({'Values':'Out of Sample (Test)'}, axis=1)\n",
    "df_results_test"
   ]
  },
  {
   "attachments": {},
   "cell_type": "markdown",
   "id": "b766904b-9ac0-4b99-aede-f1c5bcd0ac47",
   "metadata": {},
   "source": [
    "### Run the backtest on `train` data"
   ]
  },
  {
   "cell_type": "code",
   "execution_count": null,
   "id": "d12e8e0f-b56a-48e4-90d6-e16e61f6e4c6",
   "metadata": {},
   "outputs": [],
   "source": [
    "bt = Backtest(???, Regression,\n",
    "              cash=10000, commission=.002, exclusive_orders=True)\n",
    "\n",
    "results = bt.run(limit_buy=1, limit_sell=-5)\n",
    "\n",
    "df_results_train = results.to_frame(name='Values').loc[:'Return [%]']\\\n",
    "    .rename({'Values':'In Sample (Train)'}, axis=1)\n",
    "df_results_train"
   ]
  },
  {
   "attachments": {},
   "cell_type": "markdown",
   "id": "ae5295ab-18f4-42dc-a88c-0d78a5d235bf",
   "metadata": {},
   "source": [
    "### Compare both backtests\n",
    "\n",
    "- HINT: Concatenate the previous `DataFrames`"
   ]
  },
  {
   "cell_type": "code",
   "execution_count": null,
   "id": "617d9aad-0ad9-46ca-93bb-fe26b8316602",
   "metadata": {},
   "outputs": [],
   "source": []
  },
  {
   "attachments": {},
   "cell_type": "markdown",
   "id": "a6c3bb3c",
   "metadata": {},
   "source": [
    "#### Plot both backtest reports"
   ]
  },
  {
   "cell_type": "code",
   "execution_count": null,
   "id": "ac284691",
   "metadata": {},
   "outputs": [],
   "source": []
  },
  {
   "attachments": {},
   "cell_type": "markdown",
   "id": "3cc9048c-23f5-4ba8-a4d7-9e3116fabd0b",
   "metadata": {},
   "source": [
    "## Continue with the tutorials on the following chapter"
   ]
  },
  {
   "attachments": {},
   "cell_type": "markdown",
   "id": "b0a5f63b-bdc0-4c66-9414-5e1859cfe642",
   "metadata": {},
   "source": [
    "**How to solve the overfitting problem?**\n",
    "\n",
    "Walk Forward Validation: A Realistic Approach to Algorithmic Trading\n",
    "\n",
    "[LinkedIn Course Chapter]()"
   ]
  },
  {
   "attachments": {},
   "cell_type": "markdown",
   "id": "3a264bc8-d486-410c-98b2-a1e72c723f1a",
   "metadata": {},
   "source": [
    "![](<src/10_Table_Validation Methods.png>)"
   ]
  }
 ],
 "metadata": {
  "kernelspec": {
   "display_name": "Python 3",
   "language": "python",
   "name": "python3"
  },
  "language_info": {
   "codemirror_mode": {
    "name": "ipython",
    "version": 3
   },
   "file_extension": ".py",
   "mimetype": "text/x-python",
   "name": "python",
   "nbconvert_exporter": "python",
   "pygments_lexer": "ipython3",
   "version": "3.10.10"
  }
 },
 "nbformat": 4,
 "nbformat_minor": 5
}
