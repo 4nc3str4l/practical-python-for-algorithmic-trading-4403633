{
 "cells": [
  {
   "cell_type": "markdown",
   "id": "18d33b8c-9e99-4a14-aff7-c98e9989f4ac",
   "metadata": {},
   "source": [
    "# Smart Optimization to Save Computing Time"
   ]
  },
  {
   "cell_type": "code",
   "execution_count": null,
   "id": "e6d8a85c-cce6-4310-bb6b-df37a887a857",
   "metadata": {},
   "outputs": [],
   "source": [
    "???"
   ]
  },
  {
   "cell_type": "markdown",
   "id": "d8e6799e-36fb-4977-9eb0-10f075751756",
   "metadata": {},
   "source": [
    "<table style=\"width:100%; height:90%\">\n",
    "      <tr>\n",
    "    <th>Grid Search</th>\n",
    "    <th>Smart Search</th>\n",
    "  </tr>\n",
    "  <tr>\n",
    "    <td><img src=\"src/07_Table_Optimize BG Default Defaults.png\" alt=\"Optimizing Limits' Parameters\" style=\"width:100%; height:100%\"></td>\n",
    "    <td><img src=\"src/08_Table_Smart Optimization.png\" alt=\"Parametrize the Strategy\" style=\"width:100%; height:100%\"></td>\n",
    "  </tr>\n",
    "</table>"
   ]
  },
  {
   "cell_type": "markdown",
   "id": "0a1dfade-8726-4b47-9c2c-257db8522761",
   "metadata": {},
   "source": [
    "## Load the model"
   ]
  },
  {
   "cell_type": "code",
   "execution_count": null,
   "id": "f1864302-27a2-4bae-90d8-5067b274bc45",
   "metadata": {},
   "outputs": [],
   "source": [
    "import pickle\n",
    "\n",
    "with open('models/model_dt_regression.pkl', 'rb') as f:\n",
    "    model_dt = pickle.load(f)\n",
    "\n",
    "model_dt"
   ]
  },
  {
   "cell_type": "markdown",
   "id": "60ac3925-86b2-47e1-b5e3-c7abe24dc63e",
   "metadata": {},
   "source": [
    "## Load the data"
   ]
  },
  {
   "cell_type": "code",
   "execution_count": null,
   "id": "228dadf8-2ab5-4f70-864d-ab1f94004983",
   "metadata": {},
   "outputs": [],
   "source": [
    "import pandas as pd\n",
    "\n",
    "df = pd.read_excel('data/Microsoft_LinkedIn_Processed.xlsx', index_col=0, parse_dates=['Date'])\n",
    "df"
   ]
  },
  {
   "cell_type": "markdown",
   "id": "642b89a7-c7b1-462d-b228-05f27a9d7150",
   "metadata": {},
   "source": [
    "## Parametrize the Investment Strategy"
   ]
  },
  {
   "cell_type": "markdown",
   "id": "b6361f00-51f0-4eb5-b106-9dd32b22764b",
   "metadata": {},
   "source": [
    "### Import the strategy"
   ]
  },
  {
   "cell_type": "code",
   "execution_count": null,
   "id": "0d3e439a-93c4-4605-8d8e-48dbfafc8abc",
   "metadata": {},
   "outputs": [],
   "source": [
    "import strategies\n",
    "from backtesting import Backtest"
   ]
  },
  {
   "cell_type": "markdown",
   "id": "9094d5ca-7cc2-44d1-bb72-ca9807dd2648",
   "metadata": {},
   "source": [
    "### Create Backtest class"
   ]
  },
  {
   "cell_type": "code",
   "execution_count": null,
   "id": "4474775e-ddf4-435e-a38f-f4d76a25f70e",
   "metadata": {},
   "outputs": [],
   "source": [
    "df_explanatory = df[['Open', 'High', 'Low', 'Close', 'Volume']].copy()"
   ]
  },
  {
   "cell_type": "code",
   "execution_count": null,
   "id": "05414d32-8462-4778-b719-f19acb01915d",
   "metadata": {},
   "outputs": [],
   "source": [
    "bt = Backtest(df_explanatory, strategies.SimpleRegression,\n",
    "              cash=10000, commission=.002, exclusive_orders=True)"
   ]
  },
  {
   "cell_type": "markdown",
   "id": "4d1ca71d-422c-43db-b428-f0c6ad83c70a",
   "metadata": {},
   "source": [
    "### Optimize backtesting with multiple combinations"
   ]
  },
  {
   "cell_type": "code",
   "execution_count": null,
   "id": "ca64cb84-2306-4bea-8afd-5671d717c957",
   "metadata": {},
   "outputs": [],
   "source": [
    "import multiprocessing as mp\n",
    "mp.set_start_method('fork')"
   ]
  },
  {
   "cell_type": "code",
   "execution_count": null,
   "id": "2a17e673-a212-4330-8f3e-297b8ea3c7b4",
   "metadata": {},
   "outputs": [],
   "source": [
    "%%time\n",
    "\n",
    "stats_skopt, heatmap, optimize_result = bt.optimize(\n",
    "    limit_buy=[0, 10],\n",
    "    limit_sell=[-10, 0],\n",
    "    maximize='Return [%]',\n",
    "    method='skopt',\n",
    "    max_tries=500,\n",
    "    random_state=0,\n",
    "    return_heatmap=True,\n",
    "    return_optimization=True)"
   ]
  },
  {
   "cell_type": "markdown",
   "id": "5e6e67d5-05ab-4ef5-8167-99c4a3337a70",
   "metadata": {},
   "source": [
    "### Which are the best values for the parameters?"
   ]
  },
  {
   "cell_type": "code",
   "execution_count": null,
   "id": "19441dcb-9719-4d43-a999-357d5cb7bc05",
   "metadata": {},
   "outputs": [],
   "source": [
    "heatmap"
   ]
  },
  {
   "cell_type": "code",
   "execution_count": null,
   "id": "d1b82f36-4447-4972-a1bd-33e9f94cbc4e",
   "metadata": {},
   "outputs": [],
   "source": [
    "dff = heatmap.reset_index()"
   ]
  },
  {
   "cell_type": "code",
   "execution_count": null,
   "id": "eb27a7dc-9600-4876-9952-2478a4919c71",
   "metadata": {},
   "outputs": [],
   "source": [
    "dff"
   ]
  },
  {
   "cell_type": "code",
   "execution_count": null,
   "id": "c31f9704-e3ca-4bd7-b19d-6cc34f59a049",
   "metadata": {},
   "outputs": [],
   "source": [
    "dff = dff.pivot(index='limit_buy', columns='limit_sell', values='Return [%]')"
   ]
  },
  {
   "cell_type": "code",
   "execution_count": null,
   "id": "b9661294-f891-4968-a5e9-a99cdb25250c",
   "metadata": {},
   "outputs": [],
   "source": [
    "dff"
   ]
  },
  {
   "cell_type": "code",
   "execution_count": null,
   "id": "f7b372bc-eee8-41c5-8728-31724d997ef5",
   "metadata": {},
   "outputs": [],
   "source": [
    "import numpy as np"
   ]
  },
  {
   "cell_type": "code",
   "execution_count": null,
   "id": "2f1f7bb8",
   "metadata": {},
   "outputs": [],
   "source": [
    "dff.style.highlight_null(props='background-color: transparent; color: transparent')"
   ]
  },
  {
   "cell_type": "code",
   "execution_count": null,
   "id": "c429a8ec-4e32-49ef-b90c-b593595ed2b6",
   "metadata": {},
   "outputs": [],
   "source": [
    "dff.sort_index(axis=1, ascending=False)\\\n",
    "    .style.format(precision=0)\\\n",
    "    .background_gradient(vmin=np.nanmin(dff), vmax=np.nanmax(dff))\\\n",
    "    .highlight_null(props='background-color: transparent; color: transparent')"
   ]
  },
  {
   "cell_type": "markdown",
   "id": "3b7900be-d1dc-41a3-9092-ff0774aaf43e",
   "metadata": {},
   "source": [
    "### How to interpret smart optimization?"
   ]
  },
  {
   "cell_type": "markdown",
   "id": "ec3e6dec-58ea-47b8-9f04-758513c84c19",
   "metadata": {},
   "source": [
    "#### Number of evaluations"
   ]
  },
  {
   "cell_type": "markdown",
   "id": "9a564cda-47e8-45a6-ac08-f977cb04b650",
   "metadata": {},
   "source": [
    "https://kernc.github.io/backtesting.py/doc/examples/Parameter%20Heatmap%20&%20Optimization.html"
   ]
  },
  {
   "cell_type": "code",
   "execution_count": null,
   "id": "430ddb7b-4999-412d-a33c-3ee6e60c7698",
   "metadata": {},
   "outputs": [],
   "source": [
    "from skopt.plots import plot_evaluations\n",
    "\n",
    "_ = plot_evaluations(optimize_result, bins=10)"
   ]
  },
  {
   "cell_type": "markdown",
   "id": "e76743bd-c27f-47c5-a310-a07a3645a7a4",
   "metadata": {},
   "source": [
    "#### Density"
   ]
  },
  {
   "cell_type": "code",
   "execution_count": null,
   "id": "d5cdc2c0-bdad-4c49-930f-072eb9368cf1",
   "metadata": {},
   "outputs": [],
   "source": [
    "from skopt.plots import plot_objective\n",
    "\n",
    "_ = plot_objective(optimize_result, n_points=10)"
   ]
  },
  {
   "cell_type": "markdown",
   "id": "60e7a3b2-0440-488f-b18c-c9062da19892",
   "metadata": {},
   "source": [
    "https://kernc.github.io/backtesting.py/doc/examples/Multiple%20Time%20Frames.html"
   ]
  }
 ],
 "metadata": {
  "kernelspec": {
   "display_name": "Python (backtesting)",
   "language": "python",
   "name": "backtesting"
  },
  "language_info": {
   "codemirror_mode": {
    "name": "ipython",
    "version": 3
   },
   "file_extension": ".py",
   "mimetype": "text/x-python",
   "name": "python",
   "nbconvert_exporter": "python",
   "pygments_lexer": "ipython3",
   "version": "3.11.0"
  }
 },
 "nbformat": 4,
 "nbformat_minor": 5
}
