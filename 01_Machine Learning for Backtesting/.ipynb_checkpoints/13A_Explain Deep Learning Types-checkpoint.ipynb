{
 "cells": [
  {
   "cell_type": "markdown",
   "id": "068428e5-c6bc-4c20-a8d9-23bd798cb4de",
   "metadata": {},
   "source": [
    "# Explain different deep learning models"
   ]
  },
  {
   "cell_type": "code",
   "execution_count": null,
   "id": "7aac3d93-ca35-4646-b479-9455c30a7916",
   "metadata": {},
   "outputs": [],
   "source": [
    "return_sequences=True"
   ]
  },
  {
   "cell_type": "raw",
   "id": "80046887-6b30-408d-af17-384ac21625e8",
   "metadata": {},
   "source": [
    "X_train_window, y_train_window = create_dataset(X_train, y_train, n_input=14)\n",
    "X_test_window, y_test_window = create_dataset(X_test, y_test, n_input=14)"
   ]
  },
  {
   "cell_type": "raw",
   "id": "9a1325f7-7331-4582-b7d5-338f8a3ae199",
   "metadata": {},
   "source": [
    "X_train_window.shape"
   ]
  },
  {
   "cell_type": "raw",
   "id": "5797015c-3a7b-4b3b-b8a2-39dd2a8682a4",
   "metadata": {},
   "source": [
    "pd.DataFrame(X_train_window[0, :, :], columns=X_train.columns)"
   ]
  },
  {
   "cell_type": "raw",
   "id": "47d4010d-2efe-4f2d-8677-b9a3c3fe3d0b",
   "metadata": {},
   "source": [
    "df_train.head(15)"
   ]
  },
  {
   "cell_type": "code",
   "execution_count": null,
   "id": "c974036f-c071-41c9-b63c-508abbe84356",
   "metadata": {},
   "outputs": [],
   "source": []
  }
 ],
 "metadata": {
  "kernelspec": {
   "display_name": "Python 3 (ipykernel)",
   "language": "python",
   "name": "python3"
  },
  "language_info": {
   "codemirror_mode": {
    "name": "ipython",
    "version": 3
   },
   "file_extension": ".py",
   "mimetype": "text/x-python",
   "name": "python",
   "nbconvert_exporter": "python",
   "pygments_lexer": "ipython3",
   "version": "3.10.6"
  }
 },
 "nbformat": 4,
 "nbformat_minor": 5
}
