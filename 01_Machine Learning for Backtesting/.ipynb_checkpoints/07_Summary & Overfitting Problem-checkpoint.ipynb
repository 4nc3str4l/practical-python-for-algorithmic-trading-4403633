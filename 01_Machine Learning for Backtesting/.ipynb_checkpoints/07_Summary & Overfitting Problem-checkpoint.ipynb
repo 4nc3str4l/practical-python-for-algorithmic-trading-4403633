{
 "cells": [
  {
   "cell_type": "markdown",
   "id": "10e37b62-68af-425f-ac59-ca5010ce4b22",
   "metadata": {},
   "source": [
    "# Summary & Overfitting Problem"
   ]
  },
  {
   "cell_type": "code",
   "execution_count": null,
   "id": "bcca8443-4e9d-4b0f-8afc-d9e26bb807c8",
   "metadata": {},
   "outputs": [],
   "source": []
  }
 ],
 "metadata": {
  "kernelspec": {
   "display_name": "Python 3 (ipykernel)",
   "language": "python",
   "name": "python3"
  },
  "language_info": {
   "codemirror_mode": {
    "name": "ipython",
    "version": 3
   },
   "file_extension": ".py",
   "mimetype": "text/x-python",
   "name": "python",
   "nbconvert_exporter": "python",
   "pygments_lexer": "ipython3",
   "version": "3.10.6"
  }
 },
 "nbformat": 4,
 "nbformat_minor": 5
}
