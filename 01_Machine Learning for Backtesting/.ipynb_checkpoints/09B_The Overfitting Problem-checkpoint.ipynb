{
 "cells": [
  {
   "cell_type": "markdown",
   "id": "15c58755-3e1d-4514-b1ca-473f2b60e916",
   "metadata": {},
   "source": [
    "# The overfitting problem"
   ]
  },
  {
   "cell_type": "markdown",
   "id": "888d9d1a-767f-4c91-b88a-762fd9fc329b",
   "metadata": {},
   "source": [
    "![](<src/09_Table_The Overfitting.png>)"
   ]
  },
  {
   "cell_type": "markdown",
   "id": "4407f22f-45ed-46e5-9a45-9a04bf6945de",
   "metadata": {},
   "source": [
    "## Load the data"
   ]
  },
  {
   "cell_type": "code",
   "execution_count": 1,
   "id": "62f01b0c-8a0a-498a-9b29-a8a872d9abc2",
   "metadata": {},
   "outputs": [
    {
     "data": {
      "text/html": [
       "<div>\n",
       "<style scoped>\n",
       "    .dataframe tbody tr th:only-of-type {\n",
       "        vertical-align: middle;\n",
       "    }\n",
       "\n",
       "    .dataframe tbody tr th {\n",
       "        vertical-align: top;\n",
       "    }\n",
       "\n",
       "    .dataframe thead th {\n",
       "        text-align: right;\n",
       "    }\n",
       "</style>\n",
       "<table border=\"1\" class=\"dataframe\">\n",
       "  <thead>\n",
       "    <tr style=\"text-align: right;\">\n",
       "      <th></th>\n",
       "      <th>Open</th>\n",
       "      <th>High</th>\n",
       "      <th>Low</th>\n",
       "      <th>Close</th>\n",
       "      <th>Volume</th>\n",
       "      <th>change_tomorrow</th>\n",
       "      <th>change_tomorrow_direction</th>\n",
       "    </tr>\n",
       "    <tr>\n",
       "      <th>Date</th>\n",
       "      <th></th>\n",
       "      <th></th>\n",
       "      <th></th>\n",
       "      <th></th>\n",
       "      <th></th>\n",
       "      <th></th>\n",
       "      <th></th>\n",
       "    </tr>\n",
       "  </thead>\n",
       "  <tbody>\n",
       "    <tr>\n",
       "      <th>2016-12-08</th>\n",
       "      <td>56.325228</td>\n",
       "      <td>56.582507</td>\n",
       "      <td>55.902560</td>\n",
       "      <td>56.058762</td>\n",
       "      <td>21220800</td>\n",
       "      <td>1.549143</td>\n",
       "      <td>UP</td>\n",
       "    </tr>\n",
       "    <tr>\n",
       "      <th>2016-12-09</th>\n",
       "      <td>56.214968</td>\n",
       "      <td>56.959234</td>\n",
       "      <td>56.169027</td>\n",
       "      <td>56.940857</td>\n",
       "      <td>27349400</td>\n",
       "      <td>0.321692</td>\n",
       "      <td>UP</td>\n",
       "    </tr>\n",
       "    <tr>\n",
       "      <th>...</th>\n",
       "      <td>...</td>\n",
       "      <td>...</td>\n",
       "      <td>...</td>\n",
       "      <td>...</td>\n",
       "      <td>...</td>\n",
       "      <td>...</td>\n",
       "      <td>...</td>\n",
       "    </tr>\n",
       "    <tr>\n",
       "      <th>2023-03-14</th>\n",
       "      <td>256.750000</td>\n",
       "      <td>261.070007</td>\n",
       "      <td>255.860001</td>\n",
       "      <td>260.790009</td>\n",
       "      <td>33620300</td>\n",
       "      <td>1.751806</td>\n",
       "      <td>UP</td>\n",
       "    </tr>\n",
       "    <tr>\n",
       "      <th>2023-03-15</th>\n",
       "      <td>259.980011</td>\n",
       "      <td>266.480011</td>\n",
       "      <td>259.209991</td>\n",
       "      <td>265.440002</td>\n",
       "      <td>46028000</td>\n",
       "      <td>3.895731</td>\n",
       "      <td>UP</td>\n",
       "    </tr>\n",
       "  </tbody>\n",
       "</table>\n",
       "<p>1576 rows × 7 columns</p>\n",
       "</div>"
      ],
      "text/plain": [
       "                  Open        High         Low       Close    Volume  \\\n",
       "Date                                                                   \n",
       "2016-12-08   56.325228   56.582507   55.902560   56.058762  21220800   \n",
       "2016-12-09   56.214968   56.959234   56.169027   56.940857  27349400   \n",
       "...                ...         ...         ...         ...       ...   \n",
       "2023-03-14  256.750000  261.070007  255.860001  260.790009  33620300   \n",
       "2023-03-15  259.980011  266.480011  259.209991  265.440002  46028000   \n",
       "\n",
       "            change_tomorrow change_tomorrow_direction  \n",
       "Date                                                   \n",
       "2016-12-08         1.549143                        UP  \n",
       "2016-12-09         0.321692                        UP  \n",
       "...                     ...                       ...  \n",
       "2023-03-14         1.751806                        UP  \n",
       "2023-03-15         3.895731                        UP  \n",
       "\n",
       "[1576 rows x 7 columns]"
      ]
     },
     "execution_count": 1,
     "metadata": {},
     "output_type": "execute_result"
    }
   ],
   "source": [
    "import pandas as pd\n",
    "\n",
    "df = pd.read_excel('data/Microsoft_LinkedIn_Processed.xlsx', parse_dates=['Date'], index_col=0)\n",
    "df"
   ]
  },
  {
   "cell_type": "markdown",
   "id": "0916e425-b217-46c4-9c4a-2574bbb98976",
   "metadata": {},
   "source": [
    "## Machine Learning Model"
   ]
  },
  {
   "cell_type": "markdown",
   "id": "815660e5-d35d-4e6f-b1c9-9f0025a5aaa6",
   "metadata": {},
   "source": [
    "### Separate the data\n",
    "\n",
    "1. Target: which variable do you want to predict?\n",
    "2. Explanatory: which variables will you use to calculate the prediction?"
   ]
  },
  {
   "cell_type": "code",
   "execution_count": 2,
   "id": "5dc4021a-5582-44c1-b70c-1fbfa818794b",
   "metadata": {},
   "outputs": [],
   "source": [
    "target = df.change_tomorrow\n",
    "explanatory = df[['Open','High','Low','Close','Volume']]"
   ]
  },
  {
   "cell_type": "markdown",
   "id": "d54284ff-21fd-4b82-ba73-4cfc2a05b128",
   "metadata": {},
   "source": [
    "## Train test split"
   ]
  },
  {
   "cell_type": "markdown",
   "id": "d793fd19-3d4f-49a6-aefe-df2ef736d021",
   "metadata": {},
   "source": [
    "### Split the dataset"
   ]
  },
  {
   "cell_type": "code",
   "execution_count": 3,
   "id": "7dedf4ea-a0ef-45f5-a4f1-d6c5d73ff31d",
   "metadata": {},
   "outputs": [
    {
     "data": {
      "text/plain": [
       "1576"
      ]
     },
     "execution_count": 3,
     "metadata": {},
     "output_type": "execute_result"
    }
   ],
   "source": [
    "n_days = len(df.index)\n",
    "n_days"
   ]
  },
  {
   "cell_type": "code",
   "execution_count": 4,
   "id": "14190cc7-2023-4f33-8872-676655ecb569",
   "metadata": {},
   "outputs": [
    {
     "data": {
      "text/plain": [
       "1103"
      ]
     },
     "execution_count": 4,
     "metadata": {},
     "output_type": "execute_result"
    }
   ],
   "source": [
    "n_days_split = int(n_days*0.7)\n",
    "n_days_split"
   ]
  },
  {
   "cell_type": "code",
   "execution_count": 5,
   "id": "05c918da-4612-4e60-aa83-eae0d366d644",
   "metadata": {},
   "outputs": [],
   "source": [
    "X_train, y_train = explanatory.iloc[:n_days_split], target.iloc[:n_days_split]\n",
    "X_test, y_test = explanatory.iloc[n_days_split:], target.iloc[n_days_split:]"
   ]
  },
  {
   "cell_type": "markdown",
   "id": "1ccb5348-7e36-40a3-bbee-2e42e297a069",
   "metadata": {},
   "source": [
    "### Fit the model on train set"
   ]
  },
  {
   "cell_type": "code",
   "execution_count": 6,
   "id": "af2ffb2b-88b0-4824-b567-45694fe583e7",
   "metadata": {},
   "outputs": [],
   "source": [
    "from sklearn.tree import DecisionTreeRegressor"
   ]
  },
  {
   "cell_type": "code",
   "execution_count": 7,
   "id": "bc25c6af-5a9d-4560-8ac6-a3faad429e5e",
   "metadata": {},
   "outputs": [],
   "source": [
    "model_dt_split = DecisionTreeRegressor(max_depth=15, random_state=42)"
   ]
  },
  {
   "cell_type": "code",
   "execution_count": 8,
   "id": "34adce38-e52b-40dd-98e7-9f0145362b8e",
   "metadata": {},
   "outputs": [
    {
     "data": {
      "text/html": [
       "<style>#sk-container-id-1 {color: black;background-color: white;}#sk-container-id-1 pre{padding: 0;}#sk-container-id-1 div.sk-toggleable {background-color: white;}#sk-container-id-1 label.sk-toggleable__label {cursor: pointer;display: block;width: 100%;margin-bottom: 0;padding: 0.3em;box-sizing: border-box;text-align: center;}#sk-container-id-1 label.sk-toggleable__label-arrow:before {content: \"▸\";float: left;margin-right: 0.25em;color: #696969;}#sk-container-id-1 label.sk-toggleable__label-arrow:hover:before {color: black;}#sk-container-id-1 div.sk-estimator:hover label.sk-toggleable__label-arrow:before {color: black;}#sk-container-id-1 div.sk-toggleable__content {max-height: 0;max-width: 0;overflow: hidden;text-align: left;background-color: #f0f8ff;}#sk-container-id-1 div.sk-toggleable__content pre {margin: 0.2em;color: black;border-radius: 0.25em;background-color: #f0f8ff;}#sk-container-id-1 input.sk-toggleable__control:checked~div.sk-toggleable__content {max-height: 200px;max-width: 100%;overflow: auto;}#sk-container-id-1 input.sk-toggleable__control:checked~label.sk-toggleable__label-arrow:before {content: \"▾\";}#sk-container-id-1 div.sk-estimator input.sk-toggleable__control:checked~label.sk-toggleable__label {background-color: #d4ebff;}#sk-container-id-1 div.sk-label input.sk-toggleable__control:checked~label.sk-toggleable__label {background-color: #d4ebff;}#sk-container-id-1 input.sk-hidden--visually {border: 0;clip: rect(1px 1px 1px 1px);clip: rect(1px, 1px, 1px, 1px);height: 1px;margin: -1px;overflow: hidden;padding: 0;position: absolute;width: 1px;}#sk-container-id-1 div.sk-estimator {font-family: monospace;background-color: #f0f8ff;border: 1px dotted black;border-radius: 0.25em;box-sizing: border-box;margin-bottom: 0.5em;}#sk-container-id-1 div.sk-estimator:hover {background-color: #d4ebff;}#sk-container-id-1 div.sk-parallel-item::after {content: \"\";width: 100%;border-bottom: 1px solid gray;flex-grow: 1;}#sk-container-id-1 div.sk-label:hover label.sk-toggleable__label {background-color: #d4ebff;}#sk-container-id-1 div.sk-serial::before {content: \"\";position: absolute;border-left: 1px solid gray;box-sizing: border-box;top: 0;bottom: 0;left: 50%;z-index: 0;}#sk-container-id-1 div.sk-serial {display: flex;flex-direction: column;align-items: center;background-color: white;padding-right: 0.2em;padding-left: 0.2em;position: relative;}#sk-container-id-1 div.sk-item {position: relative;z-index: 1;}#sk-container-id-1 div.sk-parallel {display: flex;align-items: stretch;justify-content: center;background-color: white;position: relative;}#sk-container-id-1 div.sk-item::before, #sk-container-id-1 div.sk-parallel-item::before {content: \"\";position: absolute;border-left: 1px solid gray;box-sizing: border-box;top: 0;bottom: 0;left: 50%;z-index: -1;}#sk-container-id-1 div.sk-parallel-item {display: flex;flex-direction: column;z-index: 1;position: relative;background-color: white;}#sk-container-id-1 div.sk-parallel-item:first-child::after {align-self: flex-end;width: 50%;}#sk-container-id-1 div.sk-parallel-item:last-child::after {align-self: flex-start;width: 50%;}#sk-container-id-1 div.sk-parallel-item:only-child::after {width: 0;}#sk-container-id-1 div.sk-dashed-wrapped {border: 1px dashed gray;margin: 0 0.4em 0.5em 0.4em;box-sizing: border-box;padding-bottom: 0.4em;background-color: white;}#sk-container-id-1 div.sk-label label {font-family: monospace;font-weight: bold;display: inline-block;line-height: 1.2em;}#sk-container-id-1 div.sk-label-container {text-align: center;}#sk-container-id-1 div.sk-container {/* jupyter's `normalize.less` sets `[hidden] { display: none; }` but bootstrap.min.css set `[hidden] { display: none !important; }` so we also need the `!important` here to be able to override the default hidden behavior on the sphinx rendered scikit-learn.org. See: https://github.com/scikit-learn/scikit-learn/issues/21755 */display: inline-block !important;position: relative;}#sk-container-id-1 div.sk-text-repr-fallback {display: none;}</style><div id=\"sk-container-id-1\" class=\"sk-top-container\"><div class=\"sk-text-repr-fallback\"><pre>DecisionTreeRegressor(max_depth=15, random_state=42)</pre><b>In a Jupyter environment, please rerun this cell to show the HTML representation or trust the notebook. <br />On GitHub, the HTML representation is unable to render, please try loading this page with nbviewer.org.</b></div><div class=\"sk-container\" hidden><div class=\"sk-item\"><div class=\"sk-estimator sk-toggleable\"><input class=\"sk-toggleable__control sk-hidden--visually\" id=\"sk-estimator-id-1\" type=\"checkbox\" checked><label for=\"sk-estimator-id-1\" class=\"sk-toggleable__label sk-toggleable__label-arrow\">DecisionTreeRegressor</label><div class=\"sk-toggleable__content\"><pre>DecisionTreeRegressor(max_depth=15, random_state=42)</pre></div></div></div></div></div>"
      ],
      "text/plain": [
       "DecisionTreeRegressor(max_depth=15, random_state=42)"
      ]
     },
     "execution_count": 8,
     "metadata": {},
     "output_type": "execute_result"
    }
   ],
   "source": [
    "model_dt_split.fit(X=X_train, y=y_train)"
   ]
  },
  {
   "cell_type": "markdown",
   "id": "69444552-f5ca-4194-a59c-4c4293f0a5fc",
   "metadata": {},
   "source": [
    "### Evaluate model"
   ]
  },
  {
   "cell_type": "markdown",
   "id": "792b982b-2813-4cfe-b987-9a1f7eae3ae3",
   "metadata": {},
   "source": [
    "#### On test set"
   ]
  },
  {
   "cell_type": "code",
   "execution_count": 9,
   "id": "5215a66d-ec7f-43e4-9d28-f7b6aafc0765",
   "metadata": {},
   "outputs": [
    {
     "data": {
      "text/plain": [
       "9.937085384182808"
      ]
     },
     "execution_count": 9,
     "metadata": {},
     "output_type": "execute_result"
    }
   ],
   "source": [
    "from sklearn.metrics import mean_squared_error\n",
    "\n",
    "y_pred_test = model_dt_split.predict(X=X_test)\n",
    "mean_squared_error(y_true=y_test, y_pred=y_pred_test)"
   ]
  },
  {
   "cell_type": "markdown",
   "id": "881d27f4-6344-4cee-855d-9a2735a852aa",
   "metadata": {},
   "source": [
    "#### On train set"
   ]
  },
  {
   "cell_type": "code",
   "execution_count": 10,
   "id": "1b8e50db-2c51-4856-8336-26abf83b3617",
   "metadata": {},
   "outputs": [
    {
     "data": {
      "text/plain": [
       "0.7335232619210788"
      ]
     },
     "execution_count": 10,
     "metadata": {},
     "output_type": "execute_result"
    }
   ],
   "source": [
    "y_pred_train = model_dt_split.predict(X=X_train)\n",
    "mean_squared_error(y_true=y_train, y_pred=y_pred_train)"
   ]
  },
  {
   "cell_type": "markdown",
   "id": "32f4c9ba-ab10-4d00-8b45-bfda4b2298b8",
   "metadata": {},
   "source": [
    "## [ ] Backtesting"
   ]
  },
  {
   "cell_type": "code",
   "execution_count": 12,
   "id": "a6aa60da-4c9a-4485-aae7-91324eed16e2",
   "metadata": {},
   "outputs": [],
   "source": [
    "from backtesting import Backtest, Strategy"
   ]
  },
  {
   "cell_type": "markdown",
   "id": "367a9244-7176-43d2-b784-7e7db33c43df",
   "metadata": {},
   "source": [
    "### Create the `Strategy`"
   ]
  },
  {
   "cell_type": "code",
   "execution_count": 13,
   "id": "05dec003-6544-4832-bec1-8195455191fd",
   "metadata": {},
   "outputs": [],
   "source": [
    "class Regression(Strategy):\n",
    "    limit_buy = 1\n",
    "    limit_sell = -5\n",
    "    \n",
    "    def init(self):\n",
    "        self.model = DecisionTreeRegressor(max_depth=15, random_state=42)\n",
    "        self.already_bought = False\n",
    "        \n",
    "        self.model.fit(X=X_train, y=y_train)\n",
    "\n",
    "    def next(self):\n",
    "        explanatory_today = self.data.df.iloc[[-1], :]\n",
    "        forecast_tomorrow = self.model.predict(explanatory_today)[0]\n",
    "        \n",
    "        if forecast_tomorrow > self.limit_buy and self.already_bought == False:\n",
    "            self.buy()\n",
    "            self.already_bought = True\n",
    "        elif forecast_tomorrow < self.limit_sell and self.already_bought == True:\n",
    "            self.sell()\n",
    "            self.already_bought = False\n",
    "        else:\n",
    "            pass"
   ]
  },
  {
   "cell_type": "markdown",
   "id": "10330a05-12bf-4c83-bf1b-3727fed50102",
   "metadata": {},
   "source": [
    "### Run the backtest on `test` data"
   ]
  },
  {
   "cell_type": "code",
   "execution_count": 14,
   "id": "d0e892ec-9924-461a-ad18-09f0a1512aac",
   "metadata": {},
   "outputs": [],
   "source": [
    "bt = Backtest(X_test, Regression,\n",
    "              cash=10000, commission=.002, exclusive_orders=True)"
   ]
  },
  {
   "cell_type": "code",
   "execution_count": 15,
   "id": "8f131c9c-3984-4d73-9e85-800d418287fc",
   "metadata": {},
   "outputs": [
    {
     "data": {
      "text/html": [
       "<div>\n",
       "<style scoped>\n",
       "    .dataframe tbody tr th:only-of-type {\n",
       "        vertical-align: middle;\n",
       "    }\n",
       "\n",
       "    .dataframe tbody tr th {\n",
       "        vertical-align: top;\n",
       "    }\n",
       "\n",
       "    .dataframe thead th {\n",
       "        text-align: right;\n",
       "    }\n",
       "</style>\n",
       "<table border=\"1\" class=\"dataframe\">\n",
       "  <thead>\n",
       "    <tr style=\"text-align: right;\">\n",
       "      <th></th>\n",
       "      <th>Out of Sample (Test)</th>\n",
       "    </tr>\n",
       "  </thead>\n",
       "  <tbody>\n",
       "    <tr>\n",
       "      <th>Start</th>\n",
       "      <td>2021-04-29 00:00:00</td>\n",
       "    </tr>\n",
       "    <tr>\n",
       "      <th>End</th>\n",
       "      <td>2023-03-15 00:00:00</td>\n",
       "    </tr>\n",
       "    <tr>\n",
       "      <th>Duration</th>\n",
       "      <td>685 days 00:00:00</td>\n",
       "    </tr>\n",
       "    <tr>\n",
       "      <th>Exposure Time [%]</th>\n",
       "      <td>92.811839</td>\n",
       "    </tr>\n",
       "    <tr>\n",
       "      <th>Equity Final [$]</th>\n",
       "      <td>11034.131324</td>\n",
       "    </tr>\n",
       "    <tr>\n",
       "      <th>Equity Peak [$]</th>\n",
       "      <td>13371.824828</td>\n",
       "    </tr>\n",
       "    <tr>\n",
       "      <th>Return [%]</th>\n",
       "      <td>10.341313</td>\n",
       "    </tr>\n",
       "  </tbody>\n",
       "</table>\n",
       "</div>"
      ],
      "text/plain": [
       "                  Out of Sample (Test)\n",
       "Start              2021-04-29 00:00:00\n",
       "End                2023-03-15 00:00:00\n",
       "Duration             685 days 00:00:00\n",
       "Exposure Time [%]            92.811839\n",
       "Equity Final [$]          11034.131324\n",
       "Equity Peak [$]           13371.824828\n",
       "Return [%]                   10.341313"
      ]
     },
     "execution_count": 15,
     "metadata": {},
     "output_type": "execute_result"
    }
   ],
   "source": [
    "results = bt.run(limit_buy=1, limit_sell=-5)\n",
    "\n",
    "df_results_test = results.to_frame(name='Values').loc[:'Return [%]']\\\n",
    "    .rename({'Values':'Out of Sample (Test)'}, axis=1)\n",
    "df_results_test"
   ]
  },
  {
   "cell_type": "markdown",
   "id": "b766904b-9ac0-4b99-aede-f1c5bcd0ac47",
   "metadata": {},
   "source": [
    "### Run the backtest on `train` data"
   ]
  },
  {
   "cell_type": "code",
   "execution_count": 16,
   "id": "d12e8e0f-b56a-48e4-90d6-e16e61f6e4c6",
   "metadata": {},
   "outputs": [
    {
     "data": {
      "text/html": [
       "<div>\n",
       "<style scoped>\n",
       "    .dataframe tbody tr th:only-of-type {\n",
       "        vertical-align: middle;\n",
       "    }\n",
       "\n",
       "    .dataframe tbody tr th {\n",
       "        vertical-align: top;\n",
       "    }\n",
       "\n",
       "    .dataframe thead th {\n",
       "        text-align: right;\n",
       "    }\n",
       "</style>\n",
       "<table border=\"1\" class=\"dataframe\">\n",
       "  <thead>\n",
       "    <tr style=\"text-align: right;\">\n",
       "      <th></th>\n",
       "      <th>In Sample (Train)</th>\n",
       "    </tr>\n",
       "  </thead>\n",
       "  <tbody>\n",
       "    <tr>\n",
       "      <th>Start</th>\n",
       "      <td>2016-12-08 00:00:00</td>\n",
       "    </tr>\n",
       "    <tr>\n",
       "      <th>End</th>\n",
       "      <td>2021-04-28 00:00:00</td>\n",
       "    </tr>\n",
       "    <tr>\n",
       "      <th>Duration</th>\n",
       "      <td>1602 days 00:00:00</td>\n",
       "    </tr>\n",
       "    <tr>\n",
       "      <th>Exposure Time [%]</th>\n",
       "      <td>99.365367</td>\n",
       "    </tr>\n",
       "    <tr>\n",
       "      <th>Equity Final [$]</th>\n",
       "      <td>62957.753308</td>\n",
       "    </tr>\n",
       "    <tr>\n",
       "      <th>Equity Peak [$]</th>\n",
       "      <td>64404.1712</td>\n",
       "    </tr>\n",
       "    <tr>\n",
       "      <th>Return [%]</th>\n",
       "      <td>529.577533</td>\n",
       "    </tr>\n",
       "  </tbody>\n",
       "</table>\n",
       "</div>"
      ],
      "text/plain": [
       "                     In Sample (Train)\n",
       "Start              2016-12-08 00:00:00\n",
       "End                2021-04-28 00:00:00\n",
       "Duration            1602 days 00:00:00\n",
       "Exposure Time [%]            99.365367\n",
       "Equity Final [$]          62957.753308\n",
       "Equity Peak [$]             64404.1712\n",
       "Return [%]                  529.577533"
      ]
     },
     "execution_count": 16,
     "metadata": {},
     "output_type": "execute_result"
    }
   ],
   "source": [
    "bt = Backtest(X_train, Regression,\n",
    "              cash=10000, commission=.002, exclusive_orders=True)\n",
    "\n",
    "results = bt.run(limit_buy=1, limit_sell=-5)\n",
    "\n",
    "df_results_train = results.to_frame(name='Values').loc[:'Return [%]']\\\n",
    "    .rename({'Values':'In Sample (Train)'}, axis=1)\n",
    "df_results_train"
   ]
  },
  {
   "cell_type": "markdown",
   "id": "ae5295ab-18f4-42dc-a88c-0d78a5d235bf",
   "metadata": {},
   "source": [
    "### Compare both backtests"
   ]
  },
  {
   "cell_type": "code",
   "execution_count": 17,
   "id": "585e5dce-1742-4b4c-a266-99487ef5e214",
   "metadata": {},
   "outputs": [
    {
     "data": {
      "text/html": [
       "<div>\n",
       "<style scoped>\n",
       "    .dataframe tbody tr th:only-of-type {\n",
       "        vertical-align: middle;\n",
       "    }\n",
       "\n",
       "    .dataframe tbody tr th {\n",
       "        vertical-align: top;\n",
       "    }\n",
       "\n",
       "    .dataframe thead th {\n",
       "        text-align: right;\n",
       "    }\n",
       "</style>\n",
       "<table border=\"1\" class=\"dataframe\">\n",
       "  <thead>\n",
       "    <tr style=\"text-align: right;\">\n",
       "      <th></th>\n",
       "      <th>In Sample (Train)</th>\n",
       "      <th>Out of Sample (Test)</th>\n",
       "    </tr>\n",
       "  </thead>\n",
       "  <tbody>\n",
       "    <tr>\n",
       "      <th>Start</th>\n",
       "      <td>2016-12-08 00:00:00</td>\n",
       "      <td>2021-04-29 00:00:00</td>\n",
       "    </tr>\n",
       "    <tr>\n",
       "      <th>End</th>\n",
       "      <td>2021-04-28 00:00:00</td>\n",
       "      <td>2023-03-15 00:00:00</td>\n",
       "    </tr>\n",
       "    <tr>\n",
       "      <th>Duration</th>\n",
       "      <td>1602 days 00:00:00</td>\n",
       "      <td>685 days 00:00:00</td>\n",
       "    </tr>\n",
       "    <tr>\n",
       "      <th>Exposure Time [%]</th>\n",
       "      <td>99.365367</td>\n",
       "      <td>92.811839</td>\n",
       "    </tr>\n",
       "    <tr>\n",
       "      <th>Equity Final [$]</th>\n",
       "      <td>62957.753308</td>\n",
       "      <td>11034.131324</td>\n",
       "    </tr>\n",
       "    <tr>\n",
       "      <th>Equity Peak [$]</th>\n",
       "      <td>64404.1712</td>\n",
       "      <td>13371.824828</td>\n",
       "    </tr>\n",
       "    <tr>\n",
       "      <th>Return [%]</th>\n",
       "      <td>529.577533</td>\n",
       "      <td>10.341313</td>\n",
       "    </tr>\n",
       "  </tbody>\n",
       "</table>\n",
       "</div>"
      ],
      "text/plain": [
       "                     In Sample (Train) Out of Sample (Test)\n",
       "Start              2016-12-08 00:00:00  2021-04-29 00:00:00\n",
       "End                2021-04-28 00:00:00  2023-03-15 00:00:00\n",
       "Duration            1602 days 00:00:00    685 days 00:00:00\n",
       "Exposure Time [%]            99.365367            92.811839\n",
       "Equity Final [$]          62957.753308         11034.131324\n",
       "Equity Peak [$]             64404.1712         13371.824828\n",
       "Return [%]                  529.577533            10.341313"
      ]
     },
     "execution_count": 17,
     "metadata": {},
     "output_type": "execute_result"
    }
   ],
   "source": [
    "df_results = pd.concat([df_results_train, df_results_test], axis=1)\n",
    "df_results"
   ]
  },
  {
   "cell_type": "markdown",
   "id": "e477e3aa-123a-4a4c-a0f9-b2263a5bf8a2",
   "metadata": {},
   "source": [
    "## How to solve the overfitting problem?\n",
    "\n",
    "Walk Forward Validation: A Realistic Approach to Algorithmic Trading"
   ]
  },
  {
   "cell_type": "markdown",
   "id": "ef2a7fee-3257-4193-8241-7c9449e2c483",
   "metadata": {},
   "source": [
    "![](<src/10_Table_Validation Methods.png>)"
   ]
  }
 ],
 "metadata": {
  "kernelspec": {
   "display_name": "Python (backtesting)",
   "language": "python",
   "name": "backtesting"
  },
  "language_info": {
   "codemirror_mode": {
    "name": "ipython",
    "version": 3
   },
   "file_extension": ".py",
   "mimetype": "text/x-python",
   "name": "python",
   "nbconvert_exporter": "python",
   "pygments_lexer": "ipython3",
   "version": "3.11.0"
  }
 },
 "nbformat": 4,
 "nbformat_minor": 5
}
