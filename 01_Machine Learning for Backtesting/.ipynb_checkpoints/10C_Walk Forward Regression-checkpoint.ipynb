{
 "cells": [
  {
   "cell_type": "markdown",
   "id": "6403faa6-221a-4cc5-a836-21cc4e95a4db",
   "metadata": {},
   "source": [
    "# Challenge: Walk Forward on Other Datasets"
   ]
  },
  {
   "cell_type": "markdown",
   "id": "0f64d832-603d-44ed-a748-444f1a4fe675",
   "metadata": {},
   "source": [
    "## Download data from `yfinance`"
   ]
  },
  {
   "cell_type": "code",
   "execution_count": null,
   "id": "61ef7629-6940-4064-ab78-829856c6ba01",
   "metadata": {},
   "outputs": [],
   "source": [
    "import yfinance as yf\n",
    "\n",
    "ticker = '???'\n",
    "df = yf.download(ticker)\n",
    "df"
   ]
  },
  {
   "cell_type": "markdown",
   "id": "723e350a-e1d9-4489-be1d-cfb15dd500a1",
   "metadata": {},
   "source": [
    "## Preprocess the data"
   ]
  },
  {
   "cell_type": "markdown",
   "id": "767768ca-56e5-45e4-8bb5-3d7c9fcd7a76",
   "metadata": {},
   "source": [
    "### Filter the date range\n",
    "\n",
    "- Since 1 year ago at least"
   ]
  },
  {
   "cell_type": "code",
   "execution_count": null,
   "id": "1013b0a9-1c09-4993-9caa-ac54e220db9c",
   "metadata": {},
   "outputs": [],
   "source": [
    "df = df.loc['2018-01-01':].copy()"
   ]
  },
  {
   "cell_type": "markdown",
   "id": "6bd2c18d-976d-4408-b167-2b39bb5f56ce",
   "metadata": {},
   "source": [
    "### Create the target variable\n",
    "\n",
    "#### Percentage change\n",
    "\n",
    "- Percentage change on `Adj Close` for tomorrow"
   ]
  },
  {
   "cell_type": "code",
   "execution_count": null,
   "id": "9722486d-7552-45ae-ac50-0d11658fb1b9",
   "metadata": {},
   "outputs": [],
   "source": [
    "df['change_tomorrow'] = df['Adj Close'].pct_change(-1)\n",
    "df.change_tomorrow = df.change_tomorrow * -1\n",
    "df.change_tomorrow = df.change_tomorrow * 100"
   ]
  },
  {
   "cell_type": "markdown",
   "id": "7e99ef6d-4972-4eab-9984-370cbb7690c0",
   "metadata": {},
   "source": [
    "#### Remove rows with any missing data"
   ]
  },
  {
   "cell_type": "code",
   "execution_count": null,
   "id": "2569c738-17c1-4b1f-a8a4-f24cbcef6dc2",
   "metadata": {},
   "outputs": [],
   "source": [
    "df = df.dropna().copy()\n",
    "df"
   ]
  },
  {
   "cell_type": "markdown",
   "id": "655d6108-af74-4292-a4b4-493616cbe23e",
   "metadata": {},
   "source": [
    "## Machine Learning modelling"
   ]
  },
  {
   "cell_type": "markdown",
   "id": "9fce80a7-9450-4b03-ad2b-606740fc43e8",
   "metadata": {},
   "source": [
    "### Separate the data\n",
    "\n",
    "1. Target: which variable do you want to predict?\n",
    "2. Explanatory: which variables will you use to calculate the prediction?"
   ]
  },
  {
   "cell_type": "code",
   "execution_count": null,
   "id": "ef3796a9-334d-48b2-b516-0c1e9122dbbc",
   "metadata": {},
   "outputs": [],
   "source": [
    "y = df.change_tomorrow\n",
    "X = df[['Open','High','Low','Close','Volume']]"
   ]
  },
  {
   "cell_type": "markdown",
   "id": "4166d62a-ce20-4983-a6e1-a21104257369",
   "metadata": {},
   "source": [
    "### Time Series Split"
   ]
  },
  {
   "cell_type": "code",
   "execution_count": null,
   "id": "2adea422-25dd-4b9e-9bc9-18655eededab",
   "metadata": {},
   "outputs": [],
   "source": []
  },
  {
   "cell_type": "markdown",
   "id": "9bd32790-1b1f-450b-bd30-3438ab26e8f3",
   "metadata": {},
   "source": [
    "### Compute and evaluate model in a for loop\n",
    "\n",
    "1. Separate the data in train and test\n",
    "2. Compute the model on the train set\n",
    "3. Evaluate the model (mse) on the test set\n",
    "4. Append the errors (mse) in an empty list"
   ]
  },
  {
   "cell_type": "code",
   "execution_count": null,
   "id": "0a650952-2636-4244-bb33-0ffb2cf599b0",
   "metadata": {},
   "outputs": [],
   "source": []
  },
  {
   "cell_type": "markdown",
   "id": "4b381ac4-c140-4150-9f95-3bff60adca2b",
   "metadata": {},
   "source": [
    "## Anchored Walk Forward evaluation in backtesting"
   ]
  },
  {
   "cell_type": "markdown",
   "id": "9233cc82",
   "metadata": {},
   "source": [
    "![](<src/10_Table_Validation Methods.png>)"
   ]
  },
  {
   "cell_type": "markdown",
   "id": "3e9a4d80-7db7-4f64-965f-36439ffa2fee",
   "metadata": {},
   "source": [
    "### Create a new strategy"
   ]
  },
  {
   "cell_type": "code",
   "execution_count": null,
   "id": "dacf7ad0-b5d5-471e-b84e-971bc9c5aff1",
   "metadata": {},
   "outputs": [],
   "source": []
  },
  {
   "cell_type": "markdown",
   "id": "b667d2c0-a4b0-40bc-808d-b93b604f2e1b",
   "metadata": {},
   "source": [
    "### Run the backtest with optimization"
   ]
  },
  {
   "cell_type": "code",
   "execution_count": null,
   "id": "4c10fbc9-f968-4eaf-a681-b70f8ec66068",
   "metadata": {},
   "outputs": [],
   "source": [
    "import multiprocessing as mp\n",
    "mp.set_start_method('fork')"
   ]
  },
  {
   "cell_type": "code",
   "execution_count": null,
   "id": "dd460401",
   "metadata": {},
   "outputs": [],
   "source": [
    "from backtesting import Backtest\n",
    "bt = Backtest(???, ???, cash=10000, commission=.002, exclusive_orders=True)"
   ]
  },
  {
   "cell_type": "code",
   "execution_count": null,
   "id": "6d734ed2-eca6-4a2e-8354-77f838e68bcf",
   "metadata": {},
   "outputs": [],
   "source": [
    "bt.optimize(???)"
   ]
  },
  {
   "cell_type": "markdown",
   "id": "5e4bb005-9451-4b3a-ad1f-68677aa0070a",
   "metadata": {},
   "source": [
    "## Unanchored Walk Forward"
   ]
  },
  {
   "cell_type": "markdown",
   "id": "927ec43c",
   "metadata": {},
   "source": [
    "### Create a library of strategies"
   ]
  },
  {
   "cell_type": "markdown",
   "id": "9f43c0ec-be9d-49e3-968e-5697a4997ac8",
   "metadata": {},
   "source": [
    "[strategies.py](strategies.py)"
   ]
  },
  {
   "cell_type": "markdown",
   "id": "a217d7d6",
   "metadata": {},
   "source": [
    "### Create the unanchored walk forward class\n",
    "\n",
    "In the previously created library"
   ]
  },
  {
   "cell_type": "markdown",
   "id": "2746c22f",
   "metadata": {},
   "source": [
    "![](<src/10_Table_Validation Methods.png>)"
   ]
  },
  {
   "cell_type": "markdown",
   "id": "b73a4767",
   "metadata": {},
   "source": [
    "### Import the strategy and perform the backtest with optimization"
   ]
  },
  {
   "cell_type": "code",
   "execution_count": null,
   "id": "dbf7436c",
   "metadata": {},
   "outputs": [],
   "source": [
    "%load_ext autoreload\n",
    "%autoreload 2"
   ]
  },
  {
   "cell_type": "code",
   "execution_count": null,
   "id": "3b0396c5",
   "metadata": {},
   "outputs": [],
   "source": [
    "import ???"
   ]
  },
  {
   "cell_type": "code",
   "execution_count": null,
   "id": "8d439835-ecfb-45d3-a5c8-eb40a26b51d9",
   "metadata": {},
   "outputs": [],
   "source": [
    "bt_unanchored = Backtest(df, ???, cash=10000, commission=.002, exclusive_orders=True)\n",
    "\n",
    "bt_unanchored.optimize(???)"
   ]
  },
  {
   "cell_type": "markdown",
   "id": "7eee71ca",
   "metadata": {},
   "source": [
    "### Interpret the strategies' performance"
   ]
  },
  {
   "cell_type": "code",
   "execution_count": null,
   "id": "16834683",
   "metadata": {},
   "outputs": [],
   "source": [
    "bt.???"
   ]
  },
  {
   "cell_type": "code",
   "execution_count": null,
   "id": "efbb0798",
   "metadata": {},
   "outputs": [],
   "source": [
    "bt_unanchored.???"
   ]
  }
 ],
 "metadata": {
  "kernelspec": {
   "display_name": "Python (backtesting)",
   "language": "python",
   "name": "backtesting"
  },
  "language_info": {
   "codemirror_mode": {
    "name": "ipython",
    "version": 3
   },
   "file_extension": ".py",
   "mimetype": "text/x-python",
   "name": "python",
   "nbconvert_exporter": "python",
   "pygments_lexer": "ipython3",
   "version": "3.11.0"
  }
 },
 "nbformat": 4,
 "nbformat_minor": 5
}
