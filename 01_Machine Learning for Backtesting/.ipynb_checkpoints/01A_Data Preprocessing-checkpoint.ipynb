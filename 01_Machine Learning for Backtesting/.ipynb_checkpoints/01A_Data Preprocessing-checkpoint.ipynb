{
 "cells": [
  {
   "cell_type": "markdown",
   "id": "77c2423c-3021-4dd3-b694-ab5851e7eacc",
   "metadata": {},
   "source": [
    "# Data Preprocessing"
   ]
  },
  {
   "cell_type": "markdown",
   "id": "3d3ee75d-48b4-41a7-9763-7071b4637947",
   "metadata": {},
   "source": [
    "## Download & export data tables"
   ]
  },
  {
   "cell_type": "markdown",
   "id": "4822cef5-421a-4235-b822-16187585b343",
   "metadata": {},
   "source": [
    "### Download Microsoft OHLCV with `yfinance` library"
   ]
  },
  {
   "cell_type": "code",
   "execution_count": null,
   "id": "9d4997b1-3e60-4f05-b2e8-34bcbb6a2393",
   "metadata": {},
   "outputs": [],
   "source": [
    "import yfinance as yf"
   ]
  },
  {
   "cell_type": "code",
   "execution_count": null,
   "id": "024773a7-cd90-4e19-904a-962e112febcf",
   "metadata": {},
   "outputs": [],
   "source": [
    "yf."
   ]
  },
  {
   "cell_type": "markdown",
   "id": "7d765173-3def-41b6-9a2f-3b5c9e1dc974",
   "metadata": {},
   "source": [
    "### Download any ticker"
   ]
  },
  {
   "cell_type": "markdown",
   "id": "e8939293-f380-4613-b382-c7326b1f6175",
   "metadata": {},
   "source": [
    "**Search for the ticker code**\n",
    "\n",
    "YFinance: https://finance.yahoo.com/\n",
    "\n",
    "- [x] Microsoft: MSFT\n",
    "- [ ] Bitcoin: ???"
   ]
  },
  {
   "cell_type": "code",
   "execution_count": null,
   "id": "267848a7-f793-4f14-9dc1-5e599b83baf6",
   "metadata": {},
   "outputs": [],
   "source": [
    "ticker = '???'\n",
    "df_BTC = yf.download(ticker)\n",
    "df_BTC"
   ]
  },
  {
   "cell_type": "markdown",
   "id": "2a998ed9-3eef-4709-a943-758e168c0906",
   "metadata": {},
   "source": [
    "## Visualize the data with plotly\n",
    "\n",
    "https://plotly.com/python/candlestick-charts/"
   ]
  },
  {
   "cell_type": "code",
   "execution_count": null,
   "id": "5f396dce-8a11-4721-9b3a-1392aefa2769",
   "metadata": {},
   "outputs": [],
   "source": [
    "import plotly.graph_objects as go"
   ]
  },
  {
   "cell_type": "code",
   "execution_count": null,
   "id": "0fe59d86-90af-4d35-b5eb-3cd79fc6fc68",
   "metadata": {},
   "outputs": [],
   "source": [
    "df = df_MSFT\n",
    "\n",
    "go.Figure(data=[go.Candlestick(\n",
    "    x=df.index,\n",
    "    open=df['Open'],\n",
    "    high=df['High'],\n",
    "    low=df['Low'],\n",
    "    close=df['Close'])])"
   ]
  },
  {
   "cell_type": "code",
   "execution_count": null,
   "id": "c84c1eb6-e6b7-452b-a726-02eab0dfedfc",
   "metadata": {},
   "outputs": [],
   "source": [
    "df = df_BTC\n",
    "\n",
    "go.Figure(data=[go.Candlestick(\n",
    "    x=df.index,\n",
    "    open=df['Open'],\n",
    "    high=df['High'],\n",
    "    low=df['Low'],\n",
    "    close=df['Close'])])"
   ]
  },
  {
   "cell_type": "markdown",
   "id": "2ff41f65-b28f-49ea-874d-e1847d293d00",
   "metadata": {},
   "source": [
    "## Export the data"
   ]
  },
  {
   "cell_type": "markdown",
   "id": "9a287b6d-fddd-4796-80ba-cdbeb4278758",
   "metadata": {},
   "source": [
    "### Microsoft data"
   ]
  },
  {
   "cell_type": "markdown",
   "id": "f72a39da-f47e-4e8b-8399-0d5dc91497f5",
   "metadata": {},
   "source": [
    "#### Drop `Adj Close`\n",
    "\n",
    "- To not confuse the `Close` and `Adj Close`"
   ]
  },
  {
   "cell_type": "code",
   "execution_count": null,
   "id": "37328700-d056-4881-8de3-c2aae6b50efb",
   "metadata": {},
   "outputs": [],
   "source": [
    "df_MSFT"
   ]
  },
  {
   "cell_type": "code",
   "execution_count": null,
   "id": "a0243b4a-174e-42dc-9d32-d4e726ce7caf",
   "metadata": {},
   "outputs": [],
   "source": [
    "df_MSFT = df_MSFT.drop(columns='Adj Close')\n",
    "df_MSFT"
   ]
  },
  {
   "cell_type": "markdown",
   "id": "70e7534d-30f4-432d-bc96-c9e6a50476a9",
   "metadata": {},
   "source": [
    "#### To Excel\n",
    "\n",
    "- Create a folder called `data`"
   ]
  },
  {
   "cell_type": "code",
   "execution_count": null,
   "id": "75790a6f-bc11-40c2-8553-ce30e23af441",
   "metadata": {},
   "outputs": [],
   "source": [
    "df_MSFT.to_excel('???')"
   ]
  },
  {
   "cell_type": "markdown",
   "id": "efd741d9-a8f4-4239-8fec-e3fcd1653130",
   "metadata": {},
   "source": [
    "#### To CSV\n",
    "\n",
    "- Less size in memory"
   ]
  },
  {
   "cell_type": "code",
   "execution_count": null,
   "id": "c2e07e01-5da0-40da-a6c4-78a4dba5a0cb",
   "metadata": {},
   "outputs": [],
   "source": []
  },
  {
   "cell_type": "markdown",
   "id": "f9d779ac-c6df-4ee6-b86f-148509371e3c",
   "metadata": {},
   "source": [
    "### Bitcoin data altogether (step by step)"
   ]
  },
  {
   "cell_type": "markdown",
   "id": "c1d2148c-965c-4a46-8584-656d61f6b45c",
   "metadata": {},
   "source": [
    "#### Define ticker"
   ]
  },
  {
   "cell_type": "code",
   "execution_count": null,
   "id": "a9e9f522-512e-42f8-bbd4-ae443c8b6167",
   "metadata": {},
   "outputs": [],
   "source": [
    "ticker = 'BTC-USD'\n",
    "ticker"
   ]
  },
  {
   "cell_type": "markdown",
   "id": "816e3d92-4497-41b7-8c89-ff0127d3a316",
   "metadata": {},
   "source": [
    "#### Download OLHVC"
   ]
  },
  {
   "cell_type": "code",
   "execution_count": null,
   "id": "3e9776c3-5993-4417-b57f-bf922db21272",
   "metadata": {},
   "outputs": [],
   "source": [
    "df_ticker = yf.download(ticker)\n",
    "df_ticker"
   ]
  },
  {
   "cell_type": "markdown",
   "id": "754dd8e7-b2b1-4fe3-bd90-c4ae5ca7a70d",
   "metadata": {},
   "source": [
    "#### Create file path"
   ]
  },
  {
   "cell_type": "code",
   "execution_count": null,
   "id": "cefdc858-2f92-47ce-ae55-18fb91378d54",
   "metadata": {},
   "outputs": [],
   "source": [
    "file_path = ???"
   ]
  },
  {
   "cell_type": "markdown",
   "id": "a5b5638b-3c9c-43f2-9499-587843dbe79c",
   "metadata": {},
   "source": [
    "#### Export to Excel"
   ]
  },
  {
   "cell_type": "code",
   "execution_count": null,
   "id": "15af432a-11e6-47d1-bb25-37f79ba9a029",
   "metadata": {},
   "outputs": [],
   "source": [
    "df_ticker.to_excel(file_path)"
   ]
  },
  {
   "cell_type": "markdown",
   "id": "6b378335-82fd-43ee-9333-6b5d0c9f8a9f",
   "metadata": {},
   "source": [
    "#### Export to CSV"
   ]
  },
  {
   "cell_type": "code",
   "execution_count": null,
   "id": "6fa62253-0b42-440f-91ab-6762f7d13ae4",
   "metadata": {},
   "outputs": [],
   "source": []
  },
  {
   "cell_type": "markdown",
   "id": "5f8d2e45-4f3e-43fd-a6f0-38f7babad3b4",
   "metadata": {},
   "source": [
    "#### Snippet"
   ]
  },
  {
   "cell_type": "code",
   "execution_count": null,
   "id": "f4f73b54-a83e-4ffa-b40f-243503716165",
   "metadata": {},
   "outputs": [],
   "source": [
    "ticker = 'BTC-USD'\n",
    "df_ticker = yf.download(ticker)\n",
    "df_ticker.to_excel(f'data/{ticker}.xlsx')\n",
    "df_ticker.to_excel(f'data/{ticker}.csv')"
   ]
  },
  {
   "cell_type": "markdown",
   "id": "b61efee3-37fe-4d3c-8119-1d05c8f262d4",
   "metadata": {},
   "source": [
    "## [ ] Data Preprocessing"
   ]
  },
  {
   "cell_type": "code",
   "execution_count": null,
   "id": "4406f14b",
   "metadata": {},
   "outputs": [],
   "source": [
    "???"
   ]
  },
  {
   "cell_type": "markdown",
   "id": "89c3da3e-7cf8-4a13-af6e-449e00657208",
   "metadata": {},
   "source": [
    "### Load the data"
   ]
  },
  {
   "cell_type": "code",
   "execution_count": null,
   "id": "791f30e0",
   "metadata": {},
   "outputs": [],
   "source": [
    "import pandas as pd\n",
    "\n",
    "df_microsoft = pd.read_excel(\n",
    "    'data/Microsoft_Stock_Price_Historical_Daily.xlsx',\n",
    "    parse_dates=['Date'], index_col=0\n",
    ")\n",
    "\n",
    "df_microsoft"
   ]
  },
  {
   "cell_type": "markdown",
   "id": "04cf04bc-5f89-4362-b6e7-9bd8254a86b8",
   "metadata": {},
   "source": [
    "### Filter the data"
   ]
  },
  {
   "cell_type": "markdown",
   "id": "bae566d6-761b-4256-ac8c-5c8de59e6daf",
   "metadata": {},
   "source": [
    "![](src/Microsoft_x_LinkedIn.png)"
   ]
  },
  {
   "cell_type": "code",
   "execution_count": null,
   "id": "9f97d8e3",
   "metadata": {},
   "outputs": [],
   "source": [
    "df_microsoft_linkedin= df_microsoft.loc['2016-12-08':,:].copy()"
   ]
  },
  {
   "cell_type": "markdown",
   "id": "75a182df-6d87-4ead-b31d-b39c1a6e7409",
   "metadata": {},
   "source": [
    "## Create new columns"
   ]
  },
  {
   "cell_type": "markdown",
   "id": "9b2bb568-db35-4eb4-a7cb-6145804b9e4a",
   "metadata": {},
   "source": [
    "### Tomorrow's percentage change"
   ]
  },
  {
   "cell_type": "code",
   "execution_count": null,
   "id": "1d6c11a1",
   "metadata": {},
   "outputs": [],
   "source": [
    "df_microsoft_linkedin['change_tomorrow'] = df_microsoft_linkedin.Close.pct_change(-1) * 100 * -1"
   ]
  },
  {
   "cell_type": "code",
   "execution_count": null,
   "id": "69574ebf",
   "metadata": {},
   "outputs": [],
   "source": [
    "df_microsoft_linkedin"
   ]
  },
  {
   "cell_type": "code",
   "execution_count": null,
   "id": "53d73825",
   "metadata": {},
   "outputs": [],
   "source": [
    "df_microsoft_linkedin = df_microsoft_linkedin.dropna().copy()"
   ]
  },
  {
   "cell_type": "markdown",
   "id": "5b295654-d546-4cfe-a6c1-9f960750bf51",
   "metadata": {},
   "source": [
    "### Did the stock go up or down?"
   ]
  },
  {
   "cell_type": "code",
   "execution_count": null,
   "id": "ed3da885",
   "metadata": {},
   "outputs": [],
   "source": [
    "import numpy as np"
   ]
  },
  {
   "cell_type": "code",
   "execution_count": null,
   "id": "6fed1564",
   "metadata": {},
   "outputs": [],
   "source": [
    "df_microsoft_linkedin['change_tomorrow_direction'] = np.where(\n",
    "    df_microsoft_linkedin.change_tomorrow > 0, 'UP', 'DOWN')"
   ]
  },
  {
   "cell_type": "code",
   "execution_count": null,
   "id": "89cbb7f2",
   "metadata": {},
   "outputs": [],
   "source": [
    "df_microsoft_linkedin.change_tomorrow_direction.value_counts()"
   ]
  },
  {
   "cell_type": "code",
   "execution_count": null,
   "id": "a887c606-dae3-4731-bb51-fb2fdcd56b85",
   "metadata": {},
   "outputs": [],
   "source": [
    "df_microsoft_linkedin.Close.plot()"
   ]
  },
  {
   "cell_type": "markdown",
   "id": "911f9a25-0dc0-4e2d-a39a-c0c3b33547b8",
   "metadata": {},
   "source": [
    "## Export preprocessed DataFrame into an Excel"
   ]
  },
  {
   "cell_type": "code",
   "execution_count": null,
   "id": "8958bda7",
   "metadata": {},
   "outputs": [],
   "source": [
    "df_microsoft_linkedin.to_excel('data/Microsoft_LinkedIn_Processed.xlsx')"
   ]
  }
 ],
 "metadata": {
  "kernelspec": {
   "display_name": "Python (backtesting)",
   "language": "python",
   "name": "backtesting"
  },
  "language_info": {
   "codemirror_mode": {
    "name": "ipython",
    "version": 3
   },
   "file_extension": ".py",
   "mimetype": "text/x-python",
   "name": "python",
   "nbconvert_exporter": "python",
   "pygments_lexer": "ipython3",
   "version": "3.11.0"
  }
 },
 "nbformat": 4,
 "nbformat_minor": 5
}
