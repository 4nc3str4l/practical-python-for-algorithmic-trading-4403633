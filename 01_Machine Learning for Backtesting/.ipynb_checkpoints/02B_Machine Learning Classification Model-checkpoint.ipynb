{
 "cells": [
  {
   "cell_type": "markdown",
   "id": "dff3eddf-9859-424f-9330-8bde2323d8ee",
   "metadata": {},
   "source": [
    "# Machine Learning Classification Model"
   ]
  },
  {
   "cell_type": "markdown",
   "id": "726ed1f5-8f2e-4e72-9e96-643fec7ca11a",
   "metadata": {},
   "source": [
    "## Load the data"
   ]
  },
  {
   "cell_type": "code",
   "execution_count": 15,
   "id": "c5f2c552-ce4d-400a-b064-d4223654a939",
   "metadata": {},
   "outputs": [
    {
     "data": {
      "text/html": [
       "<div>\n",
       "<style scoped>\n",
       "    .dataframe tbody tr th:only-of-type {\n",
       "        vertical-align: middle;\n",
       "    }\n",
       "\n",
       "    .dataframe tbody tr th {\n",
       "        vertical-align: top;\n",
       "    }\n",
       "\n",
       "    .dataframe thead th {\n",
       "        text-align: right;\n",
       "    }\n",
       "</style>\n",
       "<table border=\"1\" class=\"dataframe\">\n",
       "  <thead>\n",
       "    <tr style=\"text-align: right;\">\n",
       "      <th></th>\n",
       "      <th>Open</th>\n",
       "      <th>High</th>\n",
       "      <th>Low</th>\n",
       "      <th>Close</th>\n",
       "      <th>Volume</th>\n",
       "      <th>change_tomorrow</th>\n",
       "      <th>change_tomorrow_direction</th>\n",
       "    </tr>\n",
       "    <tr>\n",
       "      <th>Date</th>\n",
       "      <th></th>\n",
       "      <th></th>\n",
       "      <th></th>\n",
       "      <th></th>\n",
       "      <th></th>\n",
       "      <th></th>\n",
       "      <th></th>\n",
       "    </tr>\n",
       "  </thead>\n",
       "  <tbody>\n",
       "    <tr>\n",
       "      <th>2016-12-08</th>\n",
       "      <td>56.325228</td>\n",
       "      <td>56.582507</td>\n",
       "      <td>55.902560</td>\n",
       "      <td>56.058762</td>\n",
       "      <td>21220800</td>\n",
       "      <td>-0.882095</td>\n",
       "      <td>DOWN</td>\n",
       "    </tr>\n",
       "    <tr>\n",
       "      <th>2016-12-09</th>\n",
       "      <td>56.214968</td>\n",
       "      <td>56.959234</td>\n",
       "      <td>56.169027</td>\n",
       "      <td>56.940857</td>\n",
       "      <td>27349400</td>\n",
       "      <td>-0.183765</td>\n",
       "      <td>DOWN</td>\n",
       "    </tr>\n",
       "    <tr>\n",
       "      <th>...</th>\n",
       "      <td>...</td>\n",
       "      <td>...</td>\n",
       "      <td>...</td>\n",
       "      <td>...</td>\n",
       "      <td>...</td>\n",
       "      <td>...</td>\n",
       "      <td>...</td>\n",
       "    </tr>\n",
       "    <tr>\n",
       "      <th>2023-03-14</th>\n",
       "      <td>256.750000</td>\n",
       "      <td>261.070007</td>\n",
       "      <td>255.860001</td>\n",
       "      <td>260.790009</td>\n",
       "      <td>33620300</td>\n",
       "      <td>-4.649994</td>\n",
       "      <td>DOWN</td>\n",
       "    </tr>\n",
       "    <tr>\n",
       "      <th>2023-03-15</th>\n",
       "      <td>259.980011</td>\n",
       "      <td>266.480011</td>\n",
       "      <td>259.209991</td>\n",
       "      <td>265.440002</td>\n",
       "      <td>46028000</td>\n",
       "      <td>-10.760010</td>\n",
       "      <td>DOWN</td>\n",
       "    </tr>\n",
       "  </tbody>\n",
       "</table>\n",
       "<p>1576 rows × 7 columns</p>\n",
       "</div>"
      ],
      "text/plain": [
       "                  Open        High         Low       Close    Volume  \\\n",
       "Date                                                                   \n",
       "2016-12-08   56.325228   56.582507   55.902560   56.058762  21220800   \n",
       "2016-12-09   56.214968   56.959234   56.169027   56.940857  27349400   \n",
       "...                ...         ...         ...         ...       ...   \n",
       "2023-03-14  256.750000  261.070007  255.860001  260.790009  33620300   \n",
       "2023-03-15  259.980011  266.480011  259.209991  265.440002  46028000   \n",
       "\n",
       "            change_tomorrow change_tomorrow_direction  \n",
       "Date                                                   \n",
       "2016-12-08        -0.882095                      DOWN  \n",
       "2016-12-09        -0.183765                      DOWN  \n",
       "...                     ...                       ...  \n",
       "2023-03-14        -4.649994                      DOWN  \n",
       "2023-03-15       -10.760010                      DOWN  \n",
       "\n",
       "[1576 rows x 7 columns]"
      ]
     },
     "execution_count": 15,
     "metadata": {},
     "output_type": "execute_result"
    }
   ],
   "source": [
    "import pandas as pd\n",
    "\n",
    "df = pd.read_excel('data/Microsoft_Linkedin_Processed.xlsx', parse_dates=['Date'], index_col=0)\n",
    "df"
   ]
  },
  {
   "cell_type": "markdown",
   "id": "71e77503-0b0d-4041-895b-f0a07a595b81",
   "metadata": {},
   "source": [
    "## Machine Learning Model"
   ]
  },
  {
   "cell_type": "markdown",
   "id": "bf95e298-19ea-4094-b3c5-bc755e69fdc3",
   "metadata": {},
   "source": [
    "### Separate the data\n",
    "\n",
    "1. Target: which variable do you want to predict?\n",
    "2. Explanatory: which variables will you use to calculate the prediction?"
   ]
  },
  {
   "cell_type": "code",
   "execution_count": 16,
   "id": "2276993f-9b26-40a9-a639-3736682f641c",
   "metadata": {},
   "outputs": [],
   "source": [
    "target = df.change_tomorrow_direction\n",
    "explanatory = df[['Open','High','Low','Close','Volume']]"
   ]
  },
  {
   "cell_type": "markdown",
   "id": "9fc0cfb0-881f-464c-bcde-10bf38b12e19",
   "metadata": {},
   "source": [
    "### Compute the model\n",
    "\n",
    "The following Python code will compute the numbers of the mathematical equation that we will use to calculate if the ticker goes UP or DOWN."
   ]
  },
  {
   "cell_type": "code",
   "execution_count": 17,
   "id": "ba2edbe7-7841-40dc-a26d-e03d3c2680d6",
   "metadata": {},
   "outputs": [
    {
     "data": {
      "text/html": [
       "<style>#sk-container-id-2 {color: black;background-color: white;}#sk-container-id-2 pre{padding: 0;}#sk-container-id-2 div.sk-toggleable {background-color: white;}#sk-container-id-2 label.sk-toggleable__label {cursor: pointer;display: block;width: 100%;margin-bottom: 0;padding: 0.3em;box-sizing: border-box;text-align: center;}#sk-container-id-2 label.sk-toggleable__label-arrow:before {content: \"▸\";float: left;margin-right: 0.25em;color: #696969;}#sk-container-id-2 label.sk-toggleable__label-arrow:hover:before {color: black;}#sk-container-id-2 div.sk-estimator:hover label.sk-toggleable__label-arrow:before {color: black;}#sk-container-id-2 div.sk-toggleable__content {max-height: 0;max-width: 0;overflow: hidden;text-align: left;background-color: #f0f8ff;}#sk-container-id-2 div.sk-toggleable__content pre {margin: 0.2em;color: black;border-radius: 0.25em;background-color: #f0f8ff;}#sk-container-id-2 input.sk-toggleable__control:checked~div.sk-toggleable__content {max-height: 200px;max-width: 100%;overflow: auto;}#sk-container-id-2 input.sk-toggleable__control:checked~label.sk-toggleable__label-arrow:before {content: \"▾\";}#sk-container-id-2 div.sk-estimator input.sk-toggleable__control:checked~label.sk-toggleable__label {background-color: #d4ebff;}#sk-container-id-2 div.sk-label input.sk-toggleable__control:checked~label.sk-toggleable__label {background-color: #d4ebff;}#sk-container-id-2 input.sk-hidden--visually {border: 0;clip: rect(1px 1px 1px 1px);clip: rect(1px, 1px, 1px, 1px);height: 1px;margin: -1px;overflow: hidden;padding: 0;position: absolute;width: 1px;}#sk-container-id-2 div.sk-estimator {font-family: monospace;background-color: #f0f8ff;border: 1px dotted black;border-radius: 0.25em;box-sizing: border-box;margin-bottom: 0.5em;}#sk-container-id-2 div.sk-estimator:hover {background-color: #d4ebff;}#sk-container-id-2 div.sk-parallel-item::after {content: \"\";width: 100%;border-bottom: 1px solid gray;flex-grow: 1;}#sk-container-id-2 div.sk-label:hover label.sk-toggleable__label {background-color: #d4ebff;}#sk-container-id-2 div.sk-serial::before {content: \"\";position: absolute;border-left: 1px solid gray;box-sizing: border-box;top: 0;bottom: 0;left: 50%;z-index: 0;}#sk-container-id-2 div.sk-serial {display: flex;flex-direction: column;align-items: center;background-color: white;padding-right: 0.2em;padding-left: 0.2em;position: relative;}#sk-container-id-2 div.sk-item {position: relative;z-index: 1;}#sk-container-id-2 div.sk-parallel {display: flex;align-items: stretch;justify-content: center;background-color: white;position: relative;}#sk-container-id-2 div.sk-item::before, #sk-container-id-2 div.sk-parallel-item::before {content: \"\";position: absolute;border-left: 1px solid gray;box-sizing: border-box;top: 0;bottom: 0;left: 50%;z-index: -1;}#sk-container-id-2 div.sk-parallel-item {display: flex;flex-direction: column;z-index: 1;position: relative;background-color: white;}#sk-container-id-2 div.sk-parallel-item:first-child::after {align-self: flex-end;width: 50%;}#sk-container-id-2 div.sk-parallel-item:last-child::after {align-self: flex-start;width: 50%;}#sk-container-id-2 div.sk-parallel-item:only-child::after {width: 0;}#sk-container-id-2 div.sk-dashed-wrapped {border: 1px dashed gray;margin: 0 0.4em 0.5em 0.4em;box-sizing: border-box;padding-bottom: 0.4em;background-color: white;}#sk-container-id-2 div.sk-label label {font-family: monospace;font-weight: bold;display: inline-block;line-height: 1.2em;}#sk-container-id-2 div.sk-label-container {text-align: center;}#sk-container-id-2 div.sk-container {/* jupyter's `normalize.less` sets `[hidden] { display: none; }` but bootstrap.min.css set `[hidden] { display: none !important; }` so we also need the `!important` here to be able to override the default hidden behavior on the sphinx rendered scikit-learn.org. See: https://github.com/scikit-learn/scikit-learn/issues/21755 */display: inline-block !important;position: relative;}#sk-container-id-2 div.sk-text-repr-fallback {display: none;}</style><div id=\"sk-container-id-2\" class=\"sk-top-container\"><div class=\"sk-text-repr-fallback\"><pre>DecisionTreeClassifier(max_depth=15)</pre><b>In a Jupyter environment, please rerun this cell to show the HTML representation or trust the notebook. <br />On GitHub, the HTML representation is unable to render, please try loading this page with nbviewer.org.</b></div><div class=\"sk-container\" hidden><div class=\"sk-item\"><div class=\"sk-estimator sk-toggleable\"><input class=\"sk-toggleable__control sk-hidden--visually\" id=\"sk-estimator-id-2\" type=\"checkbox\" checked><label for=\"sk-estimator-id-2\" class=\"sk-toggleable__label sk-toggleable__label-arrow\">DecisionTreeClassifier</label><div class=\"sk-toggleable__content\"><pre>DecisionTreeClassifier(max_depth=15)</pre></div></div></div></div></div>"
      ],
      "text/plain": [
       "DecisionTreeClassifier(max_depth=15)"
      ]
     },
     "execution_count": 17,
     "metadata": {},
     "output_type": "execute_result"
    }
   ],
   "source": [
    "from sklearn.tree import DecisionTreeClassifier\n",
    "\n",
    "model_dt = DecisionTreeClassifier(max_depth=15)\n",
    "model_dt.fit(explanatory, target)"
   ]
  },
  {
   "cell_type": "markdown",
   "id": "63cfdcf3-cf2a-4d4c-99e8-f31dfe43a1f9",
   "metadata": {},
   "source": [
    "### Visualize the model"
   ]
  },
  {
   "cell_type": "code",
   "execution_count": 18,
   "id": "497ea736-7582-4f20-b766-f11d156eb3de",
   "metadata": {},
   "outputs": [
    {
     "data": {
      "image/png": "[encoded data removed]",
      "text/plain": [
       "<Figure size 600x337.5 with 1 Axes>"
      ]
     },
     "metadata": {},
     "output_type": "display_data"
    }
   ],
   "source": [
    "from sklearn.tree import plot_tree\n",
    "\n",
    "plot_tree(decision_tree=model_dt, feature_names=model_dt.feature_names_in_);"
   ]
  },
  {
   "cell_type": "markdown",
   "id": "2400ea55-6f2d-4901-af7b-fea9e9c1c8ac",
   "metadata": {},
   "source": [
    "### Calculate the predictions"
   ]
  },
  {
   "cell_type": "code",
   "execution_count": 19,
   "id": "b7749513-d5c1-44df-9ffe-54a2bd231467",
   "metadata": {},
   "outputs": [
    {
     "data": {
      "text/html": [
       "<div>\n",
       "<style scoped>\n",
       "    .dataframe tbody tr th:only-of-type {\n",
       "        vertical-align: middle;\n",
       "    }\n",
       "\n",
       "    .dataframe tbody tr th {\n",
       "        vertical-align: top;\n",
       "    }\n",
       "\n",
       "    .dataframe thead th {\n",
       "        text-align: right;\n",
       "    }\n",
       "</style>\n",
       "<table border=\"1\" class=\"dataframe\">\n",
       "  <thead>\n",
       "    <tr style=\"text-align: right;\">\n",
       "      <th></th>\n",
       "      <th>Open</th>\n",
       "      <th>High</th>\n",
       "      <th>Low</th>\n",
       "      <th>Close</th>\n",
       "      <th>Volume</th>\n",
       "    </tr>\n",
       "    <tr>\n",
       "      <th>Date</th>\n",
       "      <th></th>\n",
       "      <th></th>\n",
       "      <th></th>\n",
       "      <th></th>\n",
       "      <th></th>\n",
       "    </tr>\n",
       "  </thead>\n",
       "  <tbody>\n",
       "    <tr>\n",
       "      <th>2016-12-08</th>\n",
       "      <td>56.325228</td>\n",
       "      <td>56.582507</td>\n",
       "      <td>55.902560</td>\n",
       "      <td>56.058762</td>\n",
       "      <td>21220800</td>\n",
       "    </tr>\n",
       "    <tr>\n",
       "      <th>2016-12-09</th>\n",
       "      <td>56.214968</td>\n",
       "      <td>56.959234</td>\n",
       "      <td>56.169027</td>\n",
       "      <td>56.940857</td>\n",
       "      <td>27349400</td>\n",
       "    </tr>\n",
       "    <tr>\n",
       "      <th>...</th>\n",
       "      <td>...</td>\n",
       "      <td>...</td>\n",
       "      <td>...</td>\n",
       "      <td>...</td>\n",
       "      <td>...</td>\n",
       "    </tr>\n",
       "    <tr>\n",
       "      <th>2023-03-14</th>\n",
       "      <td>256.750000</td>\n",
       "      <td>261.070007</td>\n",
       "      <td>255.860001</td>\n",
       "      <td>260.790009</td>\n",
       "      <td>33620300</td>\n",
       "    </tr>\n",
       "    <tr>\n",
       "      <th>2023-03-15</th>\n",
       "      <td>259.980011</td>\n",
       "      <td>266.480011</td>\n",
       "      <td>259.209991</td>\n",
       "      <td>265.440002</td>\n",
       "      <td>46028000</td>\n",
       "    </tr>\n",
       "  </tbody>\n",
       "</table>\n",
       "<p>1576 rows × 5 columns</p>\n",
       "</div>"
      ],
      "text/plain": [
       "                  Open        High         Low       Close    Volume\n",
       "Date                                                                \n",
       "2016-12-08   56.325228   56.582507   55.902560   56.058762  21220800\n",
       "2016-12-09   56.214968   56.959234   56.169027   56.940857  27349400\n",
       "...                ...         ...         ...         ...       ...\n",
       "2023-03-14  256.750000  261.070007  255.860001  260.790009  33620300\n",
       "2023-03-15  259.980011  266.480011  259.209991  265.440002  46028000\n",
       "\n",
       "[1576 rows x 5 columns]"
      ]
     },
     "execution_count": 19,
     "metadata": {},
     "output_type": "execute_result"
    }
   ],
   "source": [
    "explanatory"
   ]
  },
  {
   "cell_type": "code",
   "execution_count": 20,
   "id": "fd9feec7-1688-4997-8aca-3954f7968e1f",
   "metadata": {},
   "outputs": [
    {
     "data": {
      "text/plain": [
       "array(['DOWN', 'DOWN', 'DOWN', ..., 'UP', 'UP', 'UP'], dtype=object)"
      ]
     },
     "execution_count": 20,
     "metadata": {},
     "output_type": "execute_result"
    }
   ],
   "source": [
    "y_pred = model_dt.predict(X=explanatory)\n",
    "y_pred"
   ]
  },
  {
   "cell_type": "code",
   "execution_count": 21,
   "id": "26bf0635-5688-4b0a-b3d9-6f5d6bc36f2b",
   "metadata": {},
   "outputs": [
    {
     "data": {
      "text/html": [
       "<div>\n",
       "<style scoped>\n",
       "    .dataframe tbody tr th:only-of-type {\n",
       "        vertical-align: middle;\n",
       "    }\n",
       "\n",
       "    .dataframe tbody tr th {\n",
       "        vertical-align: top;\n",
       "    }\n",
       "\n",
       "    .dataframe thead th {\n",
       "        text-align: right;\n",
       "    }\n",
       "</style>\n",
       "<table border=\"1\" class=\"dataframe\">\n",
       "  <thead>\n",
       "    <tr style=\"text-align: right;\">\n",
       "      <th></th>\n",
       "      <th>change_tomorrow_direction</th>\n",
       "      <th>prediction</th>\n",
       "    </tr>\n",
       "    <tr>\n",
       "      <th>Date</th>\n",
       "      <th></th>\n",
       "      <th></th>\n",
       "    </tr>\n",
       "  </thead>\n",
       "  <tbody>\n",
       "    <tr>\n",
       "      <th>2016-12-08</th>\n",
       "      <td>DOWN</td>\n",
       "      <td>DOWN</td>\n",
       "    </tr>\n",
       "    <tr>\n",
       "      <th>2016-12-09</th>\n",
       "      <td>DOWN</td>\n",
       "      <td>DOWN</td>\n",
       "    </tr>\n",
       "    <tr>\n",
       "      <th>...</th>\n",
       "      <td>...</td>\n",
       "      <td>...</td>\n",
       "    </tr>\n",
       "    <tr>\n",
       "      <th>2023-03-14</th>\n",
       "      <td>DOWN</td>\n",
       "      <td>UP</td>\n",
       "    </tr>\n",
       "    <tr>\n",
       "      <th>2023-03-15</th>\n",
       "      <td>DOWN</td>\n",
       "      <td>UP</td>\n",
       "    </tr>\n",
       "  </tbody>\n",
       "</table>\n",
       "<p>1576 rows × 2 columns</p>\n",
       "</div>"
      ],
      "text/plain": [
       "           change_tomorrow_direction prediction\n",
       "Date                                           \n",
       "2016-12-08                      DOWN       DOWN\n",
       "2016-12-09                      DOWN       DOWN\n",
       "...                              ...        ...\n",
       "2023-03-14                      DOWN         UP\n",
       "2023-03-15                      DOWN         UP\n",
       "\n",
       "[1576 rows x 2 columns]"
      ]
     },
     "execution_count": 21,
     "metadata": {},
     "output_type": "execute_result"
    }
   ],
   "source": [
    "df_predictions = df[['change_tomorrow_direction']].copy()\n",
    "df_predictions['prediction'] = y_pred\n",
    "df_predictions"
   ]
  },
  {
   "cell_type": "markdown",
   "id": "c9283287-67e8-4f24-a051-9a02d6324372",
   "metadata": {},
   "source": [
    "### Evaluate the model: compare predictions with the reality"
   ]
  },
  {
   "cell_type": "code",
   "execution_count": 22,
   "id": "4b30ee14-3c29-4ee1-8d6f-1ea110492259",
   "metadata": {},
   "outputs": [],
   "source": [
    "comp = df_predictions.change_tomorrow_direction == df_predictions.prediction"
   ]
  },
  {
   "cell_type": "code",
   "execution_count": 23,
   "id": "aa1799b5-dd72-4301-abfc-cf32b96ede03",
   "metadata": {},
   "outputs": [
    {
     "data": {
      "text/plain": [
       "1337"
      ]
     },
     "execution_count": 23,
     "metadata": {},
     "output_type": "execute_result"
    }
   ],
   "source": [
    "comp.sum()"
   ]
  },
  {
   "cell_type": "code",
   "execution_count": 11,
   "id": "63c6e136-3dcd-4fc1-a6ed-c5752d87aa01",
   "metadata": {},
   "outputs": [
    {
     "data": {
      "text/plain": [
       "1576"
      ]
     },
     "execution_count": 11,
     "metadata": {},
     "output_type": "execute_result"
    }
   ],
   "source": [
    "len(comp)"
   ]
  },
  {
   "cell_type": "code",
   "execution_count": 12,
   "id": "edd30602-2bad-4636-82a9-cc33f6997738",
   "metadata": {},
   "outputs": [
    {
     "data": {
      "text/plain": [
       "0.8496192893401016"
      ]
     },
     "execution_count": 12,
     "metadata": {},
     "output_type": "execute_result"
    }
   ],
   "source": [
    "comp.sum()/len(comp)"
   ]
  },
  {
   "cell_type": "markdown",
   "id": "cf7b5699-2309-44b1-8b26-039ab54fc1e3",
   "metadata": {},
   "source": [
    "## Save the model into a file\n",
    "\n",
    "- We'll write the numbers of the Decision Tree's mathematical equation into a file."
   ]
  },
  {
   "cell_type": "code",
   "execution_count": 13,
   "id": "47d6620b-6c85-49b3-acfe-d5ad5b202cfa",
   "metadata": {},
   "outputs": [],
   "source": [
    "import pickle"
   ]
  },
  {
   "cell_type": "code",
   "execution_count": 14,
   "id": "20db632c-098e-4c62-ad4b-53a0a9019161",
   "metadata": {},
   "outputs": [],
   "source": [
    "with open('models/model_dt_microsoft_linkedin_classification.pkl', 'wb') as f:\n",
    "    pickle.dump(model_dt, f)"
   ]
  }
 ],
 "metadata": {
  "kernelspec": {
   "display_name": "Python (backtesting)",
   "language": "python",
   "name": "backtesting"
  },
  "language_info": {
   "codemirror_mode": {
    "name": "ipython",
    "version": 3
   },
   "file_extension": ".py",
   "mimetype": "text/x-python",
   "name": "python",
   "nbconvert_exporter": "python",
   "pygments_lexer": "ipython3",
   "version": "3.11.0"
  }
 },
 "nbformat": 4,
 "nbformat_minor": 5
}
