{
 "cells": [
  {
   "cell_type": "markdown",
   "id": "19042295-3a3e-4e14-afc4-201c9e34e999",
   "metadata": {},
   "source": [
    "# Machine Learning Regression Model"
   ]
  },
  {
   "cell_type": "markdown",
   "id": "726ed1f5-8f2e-4e72-9e96-643fec7ca11a",
   "metadata": {},
   "source": [
    "## Load the data"
   ]
  },
  {
   "cell_type": "code",
   "execution_count": 1,
   "id": "9f9d6220-8756-4c2b-9b36-834614882376",
   "metadata": {},
   "outputs": [
    {
     "data": {
      "text/html": [
       "<div>\n",
       "<style scoped>\n",
       "    .dataframe tbody tr th:only-of-type {\n",
       "        vertical-align: middle;\n",
       "    }\n",
       "\n",
       "    .dataframe tbody tr th {\n",
       "        vertical-align: top;\n",
       "    }\n",
       "\n",
       "    .dataframe thead th {\n",
       "        text-align: right;\n",
       "    }\n",
       "</style>\n",
       "<table border=\"1\" class=\"dataframe\">\n",
       "  <thead>\n",
       "    <tr style=\"text-align: right;\">\n",
       "      <th></th>\n",
       "      <th>Open</th>\n",
       "      <th>High</th>\n",
       "      <th>Low</th>\n",
       "      <th>Close</th>\n",
       "      <th>Volume</th>\n",
       "      <th>change_tomorrow</th>\n",
       "      <th>change_tomorrow_direction</th>\n",
       "    </tr>\n",
       "    <tr>\n",
       "      <th>Date</th>\n",
       "      <th></th>\n",
       "      <th></th>\n",
       "      <th></th>\n",
       "      <th></th>\n",
       "      <th></th>\n",
       "      <th></th>\n",
       "      <th></th>\n",
       "    </tr>\n",
       "  </thead>\n",
       "  <tbody>\n",
       "    <tr>\n",
       "      <th>2016-12-08</th>\n",
       "      <td>56.325228</td>\n",
       "      <td>56.582507</td>\n",
       "      <td>55.902560</td>\n",
       "      <td>56.058762</td>\n",
       "      <td>21220800</td>\n",
       "      <td>-0.015491</td>\n",
       "      <td>DOWN</td>\n",
       "    </tr>\n",
       "    <tr>\n",
       "      <th>2016-12-09</th>\n",
       "      <td>56.214968</td>\n",
       "      <td>56.959234</td>\n",
       "      <td>56.169027</td>\n",
       "      <td>56.940857</td>\n",
       "      <td>27349400</td>\n",
       "      <td>-0.003217</td>\n",
       "      <td>DOWN</td>\n",
       "    </tr>\n",
       "    <tr>\n",
       "      <th>...</th>\n",
       "      <td>...</td>\n",
       "      <td>...</td>\n",
       "      <td>...</td>\n",
       "      <td>...</td>\n",
       "      <td>...</td>\n",
       "      <td>...</td>\n",
       "      <td>...</td>\n",
       "    </tr>\n",
       "    <tr>\n",
       "      <th>2023-03-14</th>\n",
       "      <td>256.750000</td>\n",
       "      <td>261.070007</td>\n",
       "      <td>255.860001</td>\n",
       "      <td>260.790009</td>\n",
       "      <td>33620300</td>\n",
       "      <td>-0.017518</td>\n",
       "      <td>DOWN</td>\n",
       "    </tr>\n",
       "    <tr>\n",
       "      <th>2023-03-15</th>\n",
       "      <td>259.980011</td>\n",
       "      <td>266.480011</td>\n",
       "      <td>259.209991</td>\n",
       "      <td>265.440002</td>\n",
       "      <td>46028000</td>\n",
       "      <td>-0.038957</td>\n",
       "      <td>DOWN</td>\n",
       "    </tr>\n",
       "  </tbody>\n",
       "</table>\n",
       "<p>1576 rows × 7 columns</p>\n",
       "</div>"
      ],
      "text/plain": [
       "                  Open        High         Low       Close    Volume  \\\n",
       "Date                                                                   \n",
       "2016-12-08   56.325228   56.582507   55.902560   56.058762  21220800   \n",
       "2016-12-09   56.214968   56.959234   56.169027   56.940857  27349400   \n",
       "...                ...         ...         ...         ...       ...   \n",
       "2023-03-14  256.750000  261.070007  255.860001  260.790009  33620300   \n",
       "2023-03-15  259.980011  266.480011  259.209991  265.440002  46028000   \n",
       "\n",
       "            change_tomorrow change_tomorrow_direction  \n",
       "Date                                                   \n",
       "2016-12-08        -0.015491                      DOWN  \n",
       "2016-12-09        -0.003217                      DOWN  \n",
       "...                     ...                       ...  \n",
       "2023-03-14        -0.017518                      DOWN  \n",
       "2023-03-15        -0.038957                      DOWN  \n",
       "\n",
       "[1576 rows x 7 columns]"
      ]
     },
     "execution_count": 1,
     "metadata": {},
     "output_type": "execute_result"
    }
   ],
   "source": [
    "import pandas as pd\n",
    "\n",
    "df = pd.read_excel('data/Microsoft_LinkedIn_Processed.xlsx', parse_dates=['Date'], index_col=0)\n",
    "df"
   ]
  },
  {
   "cell_type": "markdown",
   "id": "71e77503-0b0d-4041-895b-f0a07a595b81",
   "metadata": {},
   "source": [
    "## Machine Learning Model"
   ]
  },
  {
   "cell_type": "markdown",
   "id": "bf95e298-19ea-4094-b3c5-bc755e69fdc3",
   "metadata": {},
   "source": [
    "### Separate the data\n",
    "\n",
    "1. Target: which variable do you want to predict?\n",
    "2. Explanatory: which variables will you use to calculate the prediction?"
   ]
  },
  {
   "cell_type": "code",
   "execution_count": 7,
   "id": "2276993f-9b26-40a9-a639-3736682f641c",
   "metadata": {},
   "outputs": [],
   "source": [
    "target = df.change_tomorrow\n",
    "explanatory = df[['Open','High','Low','Close','Volume']]"
   ]
  },
  {
   "cell_type": "markdown",
   "id": "9fc0cfb0-881f-464c-bcde-10bf38b12e19",
   "metadata": {},
   "source": [
    "### Compute the model\n",
    "\n",
    "The following model will predict the **numerical increase** of the stock for the following day.\n",
    "\n",
    "As the variable we predict is numerical, we talk about regression models. In the previous tutorial, we used a classification model since the variable we predicted was categorical (UP or DOWN)."
   ]
  },
  {
   "cell_type": "code",
   "execution_count": null,
   "id": "9975b04e",
   "metadata": {},
   "outputs": [],
   "source": []
  },
  {
   "cell_type": "markdown",
   "id": "63cfdcf3-cf2a-4d4c-99e8-f31dfe43a1f9",
   "metadata": {},
   "source": [
    "### Visualize the model"
   ]
  },
  {
   "cell_type": "code",
   "execution_count": 9,
   "id": "43573809-514d-44ef-84d7-4b6236728e8e",
   "metadata": {},
   "outputs": [
    {
     "data": {
      "image/png": "[encoded data removed]",
      "text/plain": [
       "<Figure size 600x337.5 with 1 Axes>"
      ]
     },
     "metadata": {},
     "output_type": "display_data"
    }
   ],
   "source": [
    "from sklearn.tree import plot_tree\n",
    "\n",
    "plot_tree(decision_tree=model_dt, feature_names=model_dt.feature_names_in_);"
   ]
  },
  {
   "cell_type": "markdown",
   "id": "2400ea55-6f2d-4901-af7b-fea9e9c1c8ac",
   "metadata": {},
   "source": [
    "### Calculate the predictions"
   ]
  },
  {
   "cell_type": "code",
   "execution_count": null,
   "id": "fd26c261",
   "metadata": {},
   "outputs": [],
   "source": []
  },
  {
   "cell_type": "code",
   "execution_count": 10,
   "id": "55b03be5-c322-47f0-898b-1c7d0b9a35df",
   "metadata": {},
   "outputs": [
    {
     "data": {
      "text/html": [
       "<div>\n",
       "<style scoped>\n",
       "    .dataframe tbody tr th:only-of-type {\n",
       "        vertical-align: middle;\n",
       "    }\n",
       "\n",
       "    .dataframe tbody tr th {\n",
       "        vertical-align: top;\n",
       "    }\n",
       "\n",
       "    .dataframe thead th {\n",
       "        text-align: right;\n",
       "    }\n",
       "</style>\n",
       "<table border=\"1\" class=\"dataframe\">\n",
       "  <thead>\n",
       "    <tr style=\"text-align: right;\">\n",
       "      <th></th>\n",
       "      <th>daily_diff</th>\n",
       "      <th>prediction</th>\n",
       "    </tr>\n",
       "    <tr>\n",
       "      <th>Date</th>\n",
       "      <th></th>\n",
       "      <th></th>\n",
       "    </tr>\n",
       "  </thead>\n",
       "  <tbody>\n",
       "    <tr>\n",
       "      <th>2016-12-09</th>\n",
       "      <td>0.882095</td>\n",
       "      <td>0.275797</td>\n",
       "    </tr>\n",
       "    <tr>\n",
       "      <th>2016-12-12</th>\n",
       "      <td>0.183765</td>\n",
       "      <td>0.275797</td>\n",
       "    </tr>\n",
       "    <tr>\n",
       "      <th>...</th>\n",
       "      <td>...</td>\n",
       "      <td>...</td>\n",
       "    </tr>\n",
       "    <tr>\n",
       "      <th>2023-03-15</th>\n",
       "      <td>4.649994</td>\n",
       "      <td>4.649994</td>\n",
       "    </tr>\n",
       "    <tr>\n",
       "      <th>2023-03-16</th>\n",
       "      <td>10.760010</td>\n",
       "      <td>10.760010</td>\n",
       "    </tr>\n",
       "  </tbody>\n",
       "</table>\n",
       "<p>1576 rows × 2 columns</p>\n",
       "</div>"
      ],
      "text/plain": [
       "            daily_diff  prediction\n",
       "Date                              \n",
       "2016-12-09    0.882095    0.275797\n",
       "2016-12-12    0.183765    0.275797\n",
       "...                ...         ...\n",
       "2023-03-15    4.649994    4.649994\n",
       "2023-03-16   10.760010   10.760010\n",
       "\n",
       "[1576 rows x 2 columns]"
      ]
     },
     "execution_count": 10,
     "metadata": {},
     "output_type": "execute_result"
    }
   ],
   "source": [
    "df_predictions = df[['change_tomorrow']].copy()\n",
    "\n",
    "df_predictions['prediction'] = ???\n",
    "df_predictions"
   ]
  },
  {
   "cell_type": "markdown",
   "id": "c9283287-67e8-4f24-a051-9a02d6324372",
   "metadata": {},
   "source": [
    "### Evaluate the model: compare predictions with the reality"
   ]
  },
  {
   "cell_type": "code",
   "execution_count": null,
   "id": "1dbd01bc",
   "metadata": {},
   "outputs": [],
   "source": [
    "model.???"
   ]
  },
  {
   "cell_type": "code",
   "execution_count": null,
   "id": "44a5de72-7072-47af-abdb-63f02d447f5f",
   "metadata": {},
   "outputs": [],
   "source": [
    "error.hist(bins=30);"
   ]
  },
  {
   "cell_type": "markdown",
   "id": "4fdd72ba-fbc8-4cf2-bf9c-91a4290bdd84",
   "metadata": {},
   "source": [
    "The Standard Deviation of the Error|The Normal Distribution\n",
    "-|-\n",
    "![](src/std.png) | ![](https://upload.wikimedia.org/wikipedia/commons/thumb/8/8c/Standard_deviation_diagram.svg/1200px-Standard_deviation_diagram.svg.png)"
   ]
  },
  {
   "cell_type": "markdown",
   "id": "cf7b5699-2309-44b1-8b26-039ab54fc1e3",
   "metadata": {},
   "source": [
    "## Save the model into a file\n",
    "\n",
    "- We'll write the numbers of the Decision Tree's mathematical equation into a file."
   ]
  },
  {
   "cell_type": "code",
   "execution_count": 110,
   "id": "47d6620b-6c85-49b3-acfe-d5ad5b202cfa",
   "metadata": {},
   "outputs": [],
   "source": [
    "import pickle"
   ]
  },
  {
   "cell_type": "code",
   "execution_count": 111,
   "id": "20db632c-098e-4c62-ad4b-53a0a9019161",
   "metadata": {},
   "outputs": [],
   "source": [
    "with open(???, 'wb') as f:\n",
    "    pickle.dump(model_dt, f)"
   ]
  }
 ],
 "metadata": {
  "kernelspec": {
   "display_name": "Python (backtesting)",
   "language": "python",
   "name": "backtesting"
  },
  "language_info": {
   "codemirror_mode": {
    "name": "ipython",
    "version": 3
   },
   "file_extension": ".py",
   "mimetype": "text/x-python",
   "name": "python",
   "nbconvert_exporter": "python",
   "pygments_lexer": "ipython3",
   "version": "3.11.0"
  }
 },
 "nbformat": 4,
 "nbformat_minor": 5
}
