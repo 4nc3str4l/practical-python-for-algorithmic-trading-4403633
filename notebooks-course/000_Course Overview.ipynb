{
 "cells": [
  {
   "attachments": {},
   "cell_type": "markdown",
   "id": "966bda60",
   "metadata": {},
   "source": [
    "# Course Overview"
   ]
  },
  {
   "attachments": {},
   "cell_type": "markdown",
   "id": "4195ba84",
   "metadata": {},
   "source": [
    "## Introduction"
   ]
  },
  {
   "attachments": {},
   "cell_type": "markdown",
   "id": "36c5c750",
   "metadata": {},
   "source": [
    "### What is backtesting?"
   ]
  },
  {
   "cell_type": "code",
   "execution_count": null,
   "id": "ca76d76d",
   "metadata": {},
   "outputs": [],
   "source": []
  },
  {
   "attachments": {},
   "cell_type": "markdown",
   "id": "e8de5d3c",
   "metadata": {},
   "source": [
    "### What is Machine Learning?"
   ]
  },
  {
   "cell_type": "code",
   "execution_count": null,
   "id": "62e2521f",
   "metadata": {},
   "outputs": [],
   "source": []
  },
  {
   "attachments": {},
   "cell_type": "markdown",
   "id": "a86f806c",
   "metadata": {},
   "source": [
    "### Different Types of Machine Learning Models?"
   ]
  },
  {
   "cell_type": "code",
   "execution_count": null,
   "id": "c1a9f1ed",
   "metadata": {},
   "outputs": [],
   "source": []
  },
  {
   "attachments": {},
   "cell_type": "markdown",
   "id": "4dd8d5f4",
   "metadata": {},
   "source": [
    "### Why is it different?\n",
    "\n",
    "Show picture of how the model improves from Classification from Regression.\n",
    "\n",
    "Covered solution vs. Uncovered solution."
   ]
  },
  {
   "cell_type": "code",
   "execution_count": null,
   "id": "2649df3c",
   "metadata": {},
   "outputs": [],
   "source": []
  },
  {
   "attachments": {},
   "cell_type": "markdown",
   "id": "91b9579c",
   "metadata": {},
   "source": [
    "![](src/regression_5.png)"
   ]
  },
  {
   "attachments": {},
   "cell_type": "markdown",
   "id": "f27ef30b",
   "metadata": {},
   "source": [
    "![](src/classification.png)"
   ]
  },
  {
   "attachments": {},
   "cell_type": "markdown",
   "id": "d96da4d1",
   "metadata": {},
   "source": [
    "## What you should know"
   ]
  },
  {
   "cell_type": "code",
   "execution_count": null,
   "id": "19046bf1",
   "metadata": {},
   "outputs": [],
   "source": []
  },
  {
   "attachments": {},
   "cell_type": "markdown",
   "id": "19af97cf-39ab-4bb0-9445-db3eda4de90e",
   "metadata": {},
   "source": [
    "## Maximize the course knowledge"
   ]
  },
  {
   "attachments": {},
   "cell_type": "markdown",
   "id": "812ec9a4-7004-4714-a80c-31c8132cfd4a",
   "metadata": {},
   "source": [
    "- I always introduce something new in each video-tutorial\n",
    "- Make sure you read everything\n",
    "- Don't get caught up on the concepts and ideas\n",
    "    - There isn't a unique way of doing things\n",
    "- Beginner mindset to learn the problems and solutions\n",
    "    - Many of us know things because we were told so\n",
    "    - But we never created a solution for which we have a problem\n",
    "    - Our course sequentially introduces the knowledge based on trial-error-solution-trial-error-solution approach\n",
    "- Results may be different from the ones you get due to random processes"
   ]
  }
 ],
 "metadata": {
  "kernelspec": {
   "display_name": "Python 3 (ipykernel)",
   "language": "python",
   "name": "python3"
  },
  "language_info": {
   "codemirror_mode": {
    "name": "ipython",
    "version": 3
   },
   "file_extension": ".py",
   "mimetype": "text/x-python",
   "name": "python",
   "nbconvert_exporter": "python",
   "pygments_lexer": "ipython3",
   "version": "3.10.6"
  }
 },
 "nbformat": 4,
 "nbformat_minor": 5
}
